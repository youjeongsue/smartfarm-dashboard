{
 "cells": [
  {
   "cell_type": "markdown",
   "metadata": {},
   "source": [
    "# 생산량(Fruits number) 및 생장량(Leaves length) 예측 모델 만들기"
   ]
  },
  {
   "cell_type": "code",
   "execution_count": 1,
   "metadata": {},
   "outputs": [],
   "source": [
    "import os\n",
    "import requests\n",
    "import json\n",
    "import pandas as pd\n",
    "import numpy as np\n",
    "import matplotlib.pyplot as plt\n",
    "import seaborn as sns\n",
    "import warnings\n",
    "warnings.filterwarnings(action='ignore')\n",
    "\n",
    "from utils import getCode\n",
    "\n",
    "serviceKey = '923f389b2ca44295a07f14d1828aee0e'"
   ]
  },
  {
   "cell_type": "markdown",
   "metadata": {},
   "source": [
    "## 전처리"
   ]
  },
  {
   "cell_type": "markdown",
   "metadata": {},
   "source": [
    "### 1. 생육정보(cultivate)와 환경정보(seasonenv)가 동시에 존재하는 농가 탐색\n",
    "논문에서는 총 245개 농가 중 15개가 선택됨"
   ]
  },
  {
   "cell_type": "code",
   "execution_count": 2,
   "metadata": {
    "scrolled": true
   },
   "outputs": [],
   "source": [
    "#모든 농가의 cultivate data를 모아둔 file\n",
    "cultivate_file = pd.read_csv('./data/all_cultivate_df.csv', index_col=0)\n",
    "cultivate_user_list = list(set(cultivate_file['userId']))\n",
    "#각 농가의 환경정보\n",
    "env_file_list=os.listdir(r'C:\\Users\\youjeongsue\\Desktop\\study\\4-2\\스마트팜(소융캡&창종설)\\data\\seasonenv')\n",
    "\n",
    "#두 정보가 모두 있는 농가만 선택한다.\n",
    "target_user = []\n",
    "for user in env_file_list:\n",
    "    if user[:-4] in cultivate_user_list:\n",
    "        target_user.append(user)"
   ]
  },
  {
   "cell_type": "code",
   "execution_count": 3,
   "metadata": {},
   "outputs": [
    {
     "data": {
      "text/plain": [
       "50"
      ]
     },
     "execution_count": 3,
     "metadata": {},
     "output_type": "execute_result"
    }
   ],
   "source": [
    "#총 50개 농가\n",
    "len(target_user)"
   ]
  },
  {
   "cell_type": "markdown",
   "metadata": {},
   "source": [
    "### 2. 데이터가 부실한 농가 제외\n",
    "환경정보(seasonenv) 데이터 수가 100개 미만인 경우, 생육정보(cultivate)가 없는 경우 삭제 -> 35개(target_user_3)<br>\n",
    "논문에서 사용한 6가지 환경변수가 모두 있는 경우만 선택 -> 10개(target_user_4)"
   ]
  },
  {
   "cell_type": "code",
   "execution_count": 3,
   "metadata": {
    "scrolled": true
   },
   "outputs": [
    {
     "name": "stdout",
     "output_type": "stream",
     "text": [
      "342 2017-01-01 2017-12-08\n",
      "218 2017-01-01 2017-08-07\n",
      "246 2017-01-01 2017-09-03\n",
      "277 2017-01-01 2017-10-04\n",
      "289 2018-08-26 2019-06-27\n",
      "318 2018-07-21 2019-06-18\n",
      "349 2018-06-25 2019-06-23\n",
      "330 2018-08-06 2019-07-17\n",
      "325 2018-07-20 2019-06-25\n",
      "280 2018-08-14 2019-05-22\n",
      "194 2018-09-20 2019-04-02\n",
      "155 2019-12-21 2020-06-13\n",
      "195 2019-10-31 2020-05-12\n",
      "192 2019-11-05 2020-05-14\n",
      "142 2019-12-27 2020-05-16\n",
      "212 2019-10-31 2020-05-29\n",
      "244 2019-11-01 2020-07-01\n",
      "214 2019-11-07 2020-06-28\n",
      "216 2019-11-18 2020-06-20\n",
      "143 2019-11-11 2020-04-18\n",
      "128 2019-11-27 2020-04-17\n",
      "190 2019-12-18 2020-07-01\n",
      "169 2019-12-24 2020-06-09\n",
      "221 2019-11-22 2020-06-29\n",
      "102 2020-04-15 2020-07-31\n",
      "190 2019-12-18 2020-06-27\n",
      "246 2019-11-25 2020-07-27\n",
      "206 2019-12-18 2020-07-15\n",
      "174 2019-12-26 2020-07-15\n",
      "202 2019-12-24 2020-07-13\n",
      "229 2019-12-18 2020-08-05\n",
      "248 2019-11-15 2020-07-19\n",
      "135 2020-01-08 2020-05-29\n",
      "147 2019-12-24 2020-05-29\n",
      "132 2020-01-13 2020-05-24\n"
     ]
    }
   ],
   "source": [
    "#환경정보로 거른 것\n",
    "target_user_2 = []\n",
    "\n",
    "def splitDate(series):\n",
    "    return series.split(\" \")[0]\n",
    "\n",
    "for user in target_user:\n",
    "    data = pd.read_csv('./data/seasonenv/'+user, index_col=0)\n",
    "    data['date']=data['measDate'].agg(splitDate)\n",
    "    if len(data.groupby('date').count()) >= 100:\n",
    "        target_user_2.append(user)\n",
    "        print(len(data.groupby('date').count()), list(data.loc[:,'date'])[0], list(data.loc[:, 'date'])[-1])"
   ]
  },
  {
   "cell_type": "code",
   "execution_count": 4,
   "metadata": {
    "scrolled": true
   },
   "outputs": [
    {
     "name": "stdout",
     "output_type": "stream",
     "text": [
      "13 2017-03-19 2017-06-11\n",
      "16 2017-03-05 2017-05-28\n",
      "11 2017-03-26 2017-05-07\n",
      "13 2017-03-12 2017-05-28\n",
      "36 2018-10-14 2019-06-19\n",
      "36 2018-10-14 2019-06-18\n",
      "33 2018-10-14 2019-06-24\n",
      "31 2018-10-14 2019-06-05\n",
      "36 2018-10-14 2019-06-28\n",
      "37 2018-10-08 2019-06-03\n",
      "23 2018-11-19 2019-03-20\n",
      "24 2020-01-01 2020-05-29\n",
      "26 2019-12-27 2020-05-29\n",
      "26 2019-12-09 2020-06-05\n",
      "24 2019-12-09 2020-04-27\n",
      "26 2019-12-16 2020-06-01\n",
      "23 2019-11-03 2020-03-29\n",
      "31 2019-11-10 2020-05-31\n",
      "25 2019-12-16 2020-05-25\n",
      "32 2019-11-04 2020-05-18\n",
      "27 2019-12-07 2020-05-30\n",
      "26 2019-12-18 2020-05-29\n",
      "11 2019-12-07 2020-02-08\n",
      "26 2019-12-07 2020-05-30\n",
      "25 2019-12-10 2020-05-18\n",
      "27 2019-12-15 2020-06-06\n",
      "23 2020-01-06 2020-05-04\n",
      "26 2019-12-14 2020-05-16\n"
     ]
    }
   ],
   "source": [
    "#생육정보로 거른 것\n",
    "target_user_3=[]\n",
    "for user in target_user_2:\n",
    "    try:\n",
    "        data=cultivate_file[cultivate_file['userId']==user[:-4]]\n",
    "        data['date']=data['measDate'].agg(splitDate)\n",
    "        target_user_3.append(user)\n",
    "        print(len(data.groupby('date').count()), list(data.loc[:,'date'])[0], list(data.loc[:,'date'])[-1])\n",
    "    except:\n",
    "        pass"
   ]
  },
  {
   "cell_type": "code",
   "execution_count": 6,
   "metadata": {},
   "outputs": [
    {
     "data": {
      "text/plain": [
       "28"
      ]
     },
     "execution_count": 6,
     "metadata": {},
     "output_type": "execute_result"
    }
   ],
   "source": [
    "#총 농가 수\n",
    "len(target_user_3)"
   ]
  },
  {
   "cell_type": "code",
   "execution_count": 5,
   "metadata": {},
   "outputs": [
    {
     "name": "stdout",
     "output_type": "stream",
     "text": [
      "외부온도\n",
      "내부CO2\n",
      "내부습도\n",
      "내부온도\n",
      "토양EC\n",
      "지습\n"
     ]
    }
   ],
   "source": [
    "#논문에서 활용한 환경변수 6가지\n",
    "codes = ['TE','CI','HI','TI','EL','HL']\n",
    "for code in codes:\n",
    "    print(getCode(code))"
   ]
  },
  {
   "cell_type": "code",
   "execution_count": 6,
   "metadata": {
    "scrolled": true
   },
   "outputs": [
    {
     "name": "stdout",
     "output_type": "stream",
     "text": [
      "6 ['EL', 'HL', 'TI', 'CI', 'TE', 'HI']\n",
      "6 ['EL', 'HL', 'TI', 'CI', 'TE', 'HI']\n",
      "5 ['TI', 'HL', 'TE', 'HI', 'CI']\n",
      "6 ['EL', 'HL', 'TI', 'CI', 'TE', 'HI']\n",
      "5 ['CI', 'HL', 'TI', 'TE', 'HI']\n",
      "5 ['HL', 'TI', 'TE', 'HI', 'CI']\n",
      "5 ['TI', 'HL', 'TE', 'HI', 'CI']\n",
      "5 ['CI', 'HL', 'TI', 'TE', 'HI']\n",
      "5 ['HL', 'TI', 'TE', 'HI', 'CI']\n",
      "5 ['HL', 'TI', 'TE', 'HI', 'CI']\n",
      "5 ['HL', 'CI', 'TI', 'TE', 'HI']\n",
      "6 ['EL', 'HL', 'TI', 'TE', 'HI', 'CI']\n",
      "6 ['EL', 'CI', 'HL', 'TI', 'TE', 'HI']\n",
      "6 ['EL', 'HL', 'TI', 'CI', 'TE', 'HI']\n",
      "6 ['EL', 'TI', 'HL', 'CI', 'TE', 'HI']\n",
      "6 ['EL', 'HL', 'TI', 'CI', 'TE', 'HI']\n",
      "5 ['HL', 'TI', 'TE', 'HI', 'CI']\n",
      "5 ['TI', 'HL', 'TE', 'HI', 'CI']\n",
      "6 ['EL', 'HL', 'TI', 'TE', 'HI', 'CI']\n",
      "5 ['HL', 'TI', 'TE', 'HI', 'CI']\n",
      "5 ['HL', 'TI', 'TE', 'HI', 'CI']\n",
      "5 ['HL', 'TI', 'TE', 'HI', 'CI']\n",
      "5 ['HL', 'TI', 'TE', 'HI', 'CI']\n",
      "5 ['TI', 'HL', 'TE', 'HI', 'CI']\n",
      "5 ['HL', 'CI', 'TI', 'TE', 'HI']\n"
     ]
    },
    {
     "ename": "KeyError",
     "evalue": "'fatrCode'",
     "output_type": "error",
     "traceback": [
      "\u001b[1;31m---------------------------------------------------------------------------\u001b[0m",
      "\u001b[1;31mKeyError\u001b[0m                                  Traceback (most recent call last)",
      "\u001b[1;32mc:\\users\\youjeongsue\\appdata\\local\\programs\\python\\python37\\lib\\site-packages\\pandas\\core\\indexes\\base.py\u001b[0m in \u001b[0;36mget_loc\u001b[1;34m(self, key, method, tolerance)\u001b[0m\n\u001b[0;32m   2645\u001b[0m             \u001b[1;32mtry\u001b[0m\u001b[1;33m:\u001b[0m\u001b[1;33m\u001b[0m\u001b[1;33m\u001b[0m\u001b[0m\n\u001b[1;32m-> 2646\u001b[1;33m                 \u001b[1;32mreturn\u001b[0m \u001b[0mself\u001b[0m\u001b[1;33m.\u001b[0m\u001b[0m_engine\u001b[0m\u001b[1;33m.\u001b[0m\u001b[0mget_loc\u001b[0m\u001b[1;33m(\u001b[0m\u001b[0mkey\u001b[0m\u001b[1;33m)\u001b[0m\u001b[1;33m\u001b[0m\u001b[1;33m\u001b[0m\u001b[0m\n\u001b[0m\u001b[0;32m   2647\u001b[0m             \u001b[1;32mexcept\u001b[0m \u001b[0mKeyError\u001b[0m\u001b[1;33m:\u001b[0m\u001b[1;33m\u001b[0m\u001b[1;33m\u001b[0m\u001b[0m\n",
      "\u001b[1;32mpandas\\_libs\\index.pyx\u001b[0m in \u001b[0;36mpandas._libs.index.IndexEngine.get_loc\u001b[1;34m()\u001b[0m\n",
      "\u001b[1;32mpandas\\_libs\\index.pyx\u001b[0m in \u001b[0;36mpandas._libs.index.IndexEngine.get_loc\u001b[1;34m()\u001b[0m\n",
      "\u001b[1;32mpandas\\_libs\\hashtable_class_helper.pxi\u001b[0m in \u001b[0;36mpandas._libs.hashtable.PyObjectHashTable.get_item\u001b[1;34m()\u001b[0m\n",
      "\u001b[1;32mpandas\\_libs\\hashtable_class_helper.pxi\u001b[0m in \u001b[0;36mpandas._libs.hashtable.PyObjectHashTable.get_item\u001b[1;34m()\u001b[0m\n",
      "\u001b[1;31mKeyError\u001b[0m: 'fatrCode'",
      "\nDuring handling of the above exception, another exception occurred:\n",
      "\u001b[1;31mKeyError\u001b[0m                                  Traceback (most recent call last)",
      "\u001b[1;32m<ipython-input-6-c13a0073ab64>\u001b[0m in \u001b[0;36m<module>\u001b[1;34m\u001b[0m\n\u001b[0;32m      6\u001b[0m     \u001b[0mnum\u001b[0m\u001b[1;33m=\u001b[0m\u001b[1;36m0\u001b[0m\u001b[1;33m\u001b[0m\u001b[1;33m\u001b[0m\u001b[0m\n\u001b[0;32m      7\u001b[0m     \u001b[0mvalid_code_list\u001b[0m\u001b[1;33m=\u001b[0m\u001b[1;33m[\u001b[0m\u001b[1;33m]\u001b[0m\u001b[1;33m\u001b[0m\u001b[1;33m\u001b[0m\u001b[0m\n\u001b[1;32m----> 8\u001b[1;33m     \u001b[1;32mfor\u001b[0m \u001b[0mcode\u001b[0m \u001b[1;32min\u001b[0m \u001b[0mlist\u001b[0m\u001b[1;33m(\u001b[0m\u001b[0mset\u001b[0m\u001b[1;33m(\u001b[0m\u001b[0mdata\u001b[0m\u001b[1;33m[\u001b[0m\u001b[1;34m'fatrCode'\u001b[0m\u001b[1;33m]\u001b[0m\u001b[1;33m)\u001b[0m\u001b[1;33m)\u001b[0m\u001b[1;33m:\u001b[0m\u001b[1;33m\u001b[0m\u001b[1;33m\u001b[0m\u001b[0m\n\u001b[0m\u001b[0;32m      9\u001b[0m         \u001b[1;32mif\u001b[0m \u001b[0mcode\u001b[0m \u001b[1;32min\u001b[0m \u001b[0mcodes\u001b[0m\u001b[1;33m:\u001b[0m\u001b[1;33m\u001b[0m\u001b[1;33m\u001b[0m\u001b[0m\n\u001b[0;32m     10\u001b[0m             \u001b[0mnum\u001b[0m\u001b[1;33m+=\u001b[0m\u001b[1;36m1\u001b[0m\u001b[1;33m\u001b[0m\u001b[1;33m\u001b[0m\u001b[0m\n",
      "\u001b[1;32mc:\\users\\youjeongsue\\appdata\\local\\programs\\python\\python37\\lib\\site-packages\\pandas\\core\\frame.py\u001b[0m in \u001b[0;36m__getitem__\u001b[1;34m(self, key)\u001b[0m\n\u001b[0;32m   2798\u001b[0m             \u001b[1;32mif\u001b[0m \u001b[0mself\u001b[0m\u001b[1;33m.\u001b[0m\u001b[0mcolumns\u001b[0m\u001b[1;33m.\u001b[0m\u001b[0mnlevels\u001b[0m \u001b[1;33m>\u001b[0m \u001b[1;36m1\u001b[0m\u001b[1;33m:\u001b[0m\u001b[1;33m\u001b[0m\u001b[1;33m\u001b[0m\u001b[0m\n\u001b[0;32m   2799\u001b[0m                 \u001b[1;32mreturn\u001b[0m \u001b[0mself\u001b[0m\u001b[1;33m.\u001b[0m\u001b[0m_getitem_multilevel\u001b[0m\u001b[1;33m(\u001b[0m\u001b[0mkey\u001b[0m\u001b[1;33m)\u001b[0m\u001b[1;33m\u001b[0m\u001b[1;33m\u001b[0m\u001b[0m\n\u001b[1;32m-> 2800\u001b[1;33m             \u001b[0mindexer\u001b[0m \u001b[1;33m=\u001b[0m \u001b[0mself\u001b[0m\u001b[1;33m.\u001b[0m\u001b[0mcolumns\u001b[0m\u001b[1;33m.\u001b[0m\u001b[0mget_loc\u001b[0m\u001b[1;33m(\u001b[0m\u001b[0mkey\u001b[0m\u001b[1;33m)\u001b[0m\u001b[1;33m\u001b[0m\u001b[1;33m\u001b[0m\u001b[0m\n\u001b[0m\u001b[0;32m   2801\u001b[0m             \u001b[1;32mif\u001b[0m \u001b[0mis_integer\u001b[0m\u001b[1;33m(\u001b[0m\u001b[0mindexer\u001b[0m\u001b[1;33m)\u001b[0m\u001b[1;33m:\u001b[0m\u001b[1;33m\u001b[0m\u001b[1;33m\u001b[0m\u001b[0m\n\u001b[0;32m   2802\u001b[0m                 \u001b[0mindexer\u001b[0m \u001b[1;33m=\u001b[0m \u001b[1;33m[\u001b[0m\u001b[0mindexer\u001b[0m\u001b[1;33m]\u001b[0m\u001b[1;33m\u001b[0m\u001b[1;33m\u001b[0m\u001b[0m\n",
      "\u001b[1;32mc:\\users\\youjeongsue\\appdata\\local\\programs\\python\\python37\\lib\\site-packages\\pandas\\core\\indexes\\base.py\u001b[0m in \u001b[0;36mget_loc\u001b[1;34m(self, key, method, tolerance)\u001b[0m\n\u001b[0;32m   2646\u001b[0m                 \u001b[1;32mreturn\u001b[0m \u001b[0mself\u001b[0m\u001b[1;33m.\u001b[0m\u001b[0m_engine\u001b[0m\u001b[1;33m.\u001b[0m\u001b[0mget_loc\u001b[0m\u001b[1;33m(\u001b[0m\u001b[0mkey\u001b[0m\u001b[1;33m)\u001b[0m\u001b[1;33m\u001b[0m\u001b[1;33m\u001b[0m\u001b[0m\n\u001b[0;32m   2647\u001b[0m             \u001b[1;32mexcept\u001b[0m \u001b[0mKeyError\u001b[0m\u001b[1;33m:\u001b[0m\u001b[1;33m\u001b[0m\u001b[1;33m\u001b[0m\u001b[0m\n\u001b[1;32m-> 2648\u001b[1;33m                 \u001b[1;32mreturn\u001b[0m \u001b[0mself\u001b[0m\u001b[1;33m.\u001b[0m\u001b[0m_engine\u001b[0m\u001b[1;33m.\u001b[0m\u001b[0mget_loc\u001b[0m\u001b[1;33m(\u001b[0m\u001b[0mself\u001b[0m\u001b[1;33m.\u001b[0m\u001b[0m_maybe_cast_indexer\u001b[0m\u001b[1;33m(\u001b[0m\u001b[0mkey\u001b[0m\u001b[1;33m)\u001b[0m\u001b[1;33m)\u001b[0m\u001b[1;33m\u001b[0m\u001b[1;33m\u001b[0m\u001b[0m\n\u001b[0m\u001b[0;32m   2649\u001b[0m         \u001b[0mindexer\u001b[0m \u001b[1;33m=\u001b[0m \u001b[0mself\u001b[0m\u001b[1;33m.\u001b[0m\u001b[0mget_indexer\u001b[0m\u001b[1;33m(\u001b[0m\u001b[1;33m[\u001b[0m\u001b[0mkey\u001b[0m\u001b[1;33m]\u001b[0m\u001b[1;33m,\u001b[0m \u001b[0mmethod\u001b[0m\u001b[1;33m=\u001b[0m\u001b[0mmethod\u001b[0m\u001b[1;33m,\u001b[0m \u001b[0mtolerance\u001b[0m\u001b[1;33m=\u001b[0m\u001b[0mtolerance\u001b[0m\u001b[1;33m)\u001b[0m\u001b[1;33m\u001b[0m\u001b[1;33m\u001b[0m\u001b[0m\n\u001b[0;32m   2650\u001b[0m         \u001b[1;32mif\u001b[0m \u001b[0mindexer\u001b[0m\u001b[1;33m.\u001b[0m\u001b[0mndim\u001b[0m \u001b[1;33m>\u001b[0m \u001b[1;36m1\u001b[0m \u001b[1;32mor\u001b[0m \u001b[0mindexer\u001b[0m\u001b[1;33m.\u001b[0m\u001b[0msize\u001b[0m \u001b[1;33m>\u001b[0m \u001b[1;36m1\u001b[0m\u001b[1;33m:\u001b[0m\u001b[1;33m\u001b[0m\u001b[1;33m\u001b[0m\u001b[0m\n",
      "\u001b[1;32mpandas\\_libs\\index.pyx\u001b[0m in \u001b[0;36mpandas._libs.index.IndexEngine.get_loc\u001b[1;34m()\u001b[0m\n",
      "\u001b[1;32mpandas\\_libs\\index.pyx\u001b[0m in \u001b[0;36mpandas._libs.index.IndexEngine.get_loc\u001b[1;34m()\u001b[0m\n",
      "\u001b[1;32mpandas\\_libs\\hashtable_class_helper.pxi\u001b[0m in \u001b[0;36mpandas._libs.hashtable.PyObjectHashTable.get_item\u001b[1;34m()\u001b[0m\n",
      "\u001b[1;32mpandas\\_libs\\hashtable_class_helper.pxi\u001b[0m in \u001b[0;36mpandas._libs.hashtable.PyObjectHashTable.get_item\u001b[1;34m()\u001b[0m\n",
      "\u001b[1;31mKeyError\u001b[0m: 'fatrCode'"
     ]
    }
   ],
   "source": [
    "#농가에서 사용한 6가지 코드가 모두 있는 경우만 색출\n",
    "target_user_4 = []\n",
    "for user in target_user_3:\n",
    "    data = pd.read_csv('./data/seasonenv/'+user, index_col=0)\n",
    "    data.head()\n",
    "    num=0\n",
    "    valid_code_list=[]\n",
    "    for code in list(set(data['fatrCode'])):\n",
    "        if code in codes:\n",
    "            num+=1\n",
    "            valid_code_list.append(code)\n",
    "    if num>=6:\n",
    "        target_user_4.append(user)\n",
    "    print(num, valid_code_list)\n",
    "print(\"===result===\")\n",
    "print(target_user_4)"
   ]
  },
  {
   "cell_type": "code",
   "execution_count": 7,
   "metadata": {},
   "outputs": [
    {
     "name": "stdout",
     "output_type": "stream",
     "text": [
      "13 2017-03-19 2017-06-11\n",
      "16 2017-03-05 2017-05-28\n",
      "13 2017-03-12 2017-05-28\n",
      "24 2020-01-01 2020-05-29\n",
      "26 2019-12-27 2020-05-29\n",
      "26 2019-12-09 2020-06-05\n",
      "24 2019-12-09 2020-04-27\n",
      "26 2019-12-16 2020-06-01\n",
      "25 2019-12-16 2020-05-25\n"
     ]
    }
   ],
   "source": [
    "for user in target_user_4:\n",
    "    data=cultivate_file[cultivate_file['userId']==user[:-4]]\n",
    "    data['date']=data['measDate'].agg(splitDate)\n",
    "    print(len(data.groupby('date').count()), list(data.loc[:,'date'])[0], list(data.loc[:,'date'])[-1])"
   ]
  },
  {
   "cell_type": "markdown",
   "metadata": {},
   "source": [
    "### 3. 환경변수 전처리: 주별 평균\n",
    "선택된 농가의 환경변수 및 작기정보 데이터를 주별 평균으로 전처리한다."
   ]
  },
  {
   "cell_type": "code",
   "execution_count": 8,
   "metadata": {},
   "outputs": [
    {
     "name": "stdout",
     "output_type": "stream",
     "text": [
      "342 2017-01-01 2017-12-08\n",
      "218 2017-01-01 2017-08-07\n",
      "277 2017-01-01 2017-10-04\n",
      "155 2019-12-21 2020-06-13\n",
      "195 2019-10-31 2020-05-12\n",
      "192 2019-11-05 2020-05-14\n",
      "142 2019-12-27 2020-05-16\n",
      "212 2019-10-31 2020-05-29\n",
      "221 2019-11-22 2020-06-29\n",
      "1954\n"
     ]
    }
   ],
   "source": [
    "#각 농가의 데이터수\n",
    "num=0\n",
    "for user in target_user_4:\n",
    "    data = pd.read_csv('./data/seasonenv/'+user, index_col=0)\n",
    "    data['date']=data['measDate'].agg(splitDate)\n",
    "    num+=len(data.groupby('date').count())\n",
    "    print(len(data.groupby('date').count()), list(data.loc[:,'date'])[0], list(data.loc[:, 'date'])[-1])\n",
    "print(num)"
   ]
  },
  {
   "cell_type": "code",
   "execution_count": 9,
   "metadata": {
    "scrolled": true
   },
   "outputs": [
    {
     "data": {
      "text/html": [
       "<div>\n",
       "<style scoped>\n",
       "    .dataframe tbody tr th:only-of-type {\n",
       "        vertical-align: middle;\n",
       "    }\n",
       "\n",
       "    .dataframe tbody tr th {\n",
       "        vertical-align: top;\n",
       "    }\n",
       "\n",
       "    .dataframe thead th {\n",
       "        text-align: right;\n",
       "    }\n",
       "</style>\n",
       "<table border=\"1\" class=\"dataframe\">\n",
       "  <thead>\n",
       "    <tr style=\"text-align: right;\">\n",
       "      <th></th>\n",
       "      <th>fatrCode</th>\n",
       "      <th>facilityId</th>\n",
       "      <th>measDate</th>\n",
       "      <th>fldCode</th>\n",
       "      <th>sectCode</th>\n",
       "      <th>itemCode</th>\n",
       "      <th>senVal</th>\n",
       "      <th>ymd</th>\n",
       "      <th>cntCollect</th>\n",
       "      <th>num</th>\n",
       "      <th>totalRows</th>\n",
       "      <th>totalPage</th>\n",
       "      <th>currentPage</th>\n",
       "    </tr>\n",
       "  </thead>\n",
       "  <tbody>\n",
       "    <tr>\n",
       "      <th>0</th>\n",
       "      <td>RP</td>\n",
       "      <td>PF_0000227_01</td>\n",
       "      <td>2017-01-01 00:00:00</td>\n",
       "      <td>FG</td>\n",
       "      <td>EO</td>\n",
       "      <td>80300</td>\n",
       "      <td>0.00</td>\n",
       "      <td>20170101</td>\n",
       "      <td>26</td>\n",
       "      <td>1</td>\n",
       "      <td>90376.0</td>\n",
       "      <td>91.0</td>\n",
       "      <td>1.0</td>\n",
       "    </tr>\n",
       "    <tr>\n",
       "      <th>1</th>\n",
       "      <td>WD</td>\n",
       "      <td>PF_0000227_01</td>\n",
       "      <td>2017-01-01 00:00:00</td>\n",
       "      <td>FG</td>\n",
       "      <td>EO</td>\n",
       "      <td>80300</td>\n",
       "      <td>48.96</td>\n",
       "      <td>20170101</td>\n",
       "      <td>26</td>\n",
       "      <td>2</td>\n",
       "      <td>NaN</td>\n",
       "      <td>NaN</td>\n",
       "      <td>NaN</td>\n",
       "    </tr>\n",
       "    <tr>\n",
       "      <th>2</th>\n",
       "      <td>IR</td>\n",
       "      <td>PF_0000227_01</td>\n",
       "      <td>2017-01-01 00:00:00</td>\n",
       "      <td>FG</td>\n",
       "      <td>EI</td>\n",
       "      <td>80300</td>\n",
       "      <td>0.00</td>\n",
       "      <td>20170101</td>\n",
       "      <td>26</td>\n",
       "      <td>3</td>\n",
       "      <td>NaN</td>\n",
       "      <td>NaN</td>\n",
       "      <td>NaN</td>\n",
       "    </tr>\n",
       "    <tr>\n",
       "      <th>3</th>\n",
       "      <td>HL</td>\n",
       "      <td>PF_0000227_01</td>\n",
       "      <td>2017-01-01 00:00:00</td>\n",
       "      <td>FG</td>\n",
       "      <td>EL</td>\n",
       "      <td>80300</td>\n",
       "      <td>91.38</td>\n",
       "      <td>20170101</td>\n",
       "      <td>26</td>\n",
       "      <td>4</td>\n",
       "      <td>NaN</td>\n",
       "      <td>NaN</td>\n",
       "      <td>NaN</td>\n",
       "    </tr>\n",
       "    <tr>\n",
       "      <th>4</th>\n",
       "      <td>TI</td>\n",
       "      <td>PF_0000227_01</td>\n",
       "      <td>2017-01-01 00:00:00</td>\n",
       "      <td>FG</td>\n",
       "      <td>EI</td>\n",
       "      <td>80300</td>\n",
       "      <td>13.20</td>\n",
       "      <td>20170101</td>\n",
       "      <td>26</td>\n",
       "      <td>5</td>\n",
       "      <td>NaN</td>\n",
       "      <td>NaN</td>\n",
       "      <td>NaN</td>\n",
       "    </tr>\n",
       "    <tr>\n",
       "      <th>...</th>\n",
       "      <td>...</td>\n",
       "      <td>...</td>\n",
       "      <td>...</td>\n",
       "      <td>...</td>\n",
       "      <td>...</td>\n",
       "      <td>...</td>\n",
       "      <td>...</td>\n",
       "      <td>...</td>\n",
       "      <td>...</td>\n",
       "      <td>...</td>\n",
       "      <td>...</td>\n",
       "      <td>...</td>\n",
       "      <td>...</td>\n",
       "    </tr>\n",
       "    <tr>\n",
       "      <th>91995</th>\n",
       "      <td>TE</td>\n",
       "      <td>PF_0010019_01</td>\n",
       "      <td>2020-06-29 06:00:00</td>\n",
       "      <td>FG</td>\n",
       "      <td>EO</td>\n",
       "      <td>80300</td>\n",
       "      <td>22.71</td>\n",
       "      <td>20200629</td>\n",
       "      <td>20</td>\n",
       "      <td>90996</td>\n",
       "      <td>NaN</td>\n",
       "      <td>NaN</td>\n",
       "      <td>NaN</td>\n",
       "    </tr>\n",
       "    <tr>\n",
       "      <th>91996</th>\n",
       "      <td>WS</td>\n",
       "      <td>PF_0010019_01</td>\n",
       "      <td>2020-06-29 06:00:00</td>\n",
       "      <td>FG</td>\n",
       "      <td>EO</td>\n",
       "      <td>80300</td>\n",
       "      <td>0.92</td>\n",
       "      <td>20200629</td>\n",
       "      <td>14</td>\n",
       "      <td>90997</td>\n",
       "      <td>NaN</td>\n",
       "      <td>NaN</td>\n",
       "      <td>NaN</td>\n",
       "    </tr>\n",
       "    <tr>\n",
       "      <th>91997</th>\n",
       "      <td>TI</td>\n",
       "      <td>PF_0010019_01</td>\n",
       "      <td>2020-06-29 06:00:00</td>\n",
       "      <td>FG</td>\n",
       "      <td>EI</td>\n",
       "      <td>80300</td>\n",
       "      <td>23.30</td>\n",
       "      <td>20200629</td>\n",
       "      <td>20</td>\n",
       "      <td>90998</td>\n",
       "      <td>NaN</td>\n",
       "      <td>NaN</td>\n",
       "      <td>NaN</td>\n",
       "    </tr>\n",
       "    <tr>\n",
       "      <th>91998</th>\n",
       "      <td>TL</td>\n",
       "      <td>PF_0010019_01</td>\n",
       "      <td>2020-06-29 06:00:00</td>\n",
       "      <td>FG</td>\n",
       "      <td>NT</td>\n",
       "      <td>80300</td>\n",
       "      <td>90.00</td>\n",
       "      <td>20200629</td>\n",
       "      <td>20</td>\n",
       "      <td>90999</td>\n",
       "      <td>NaN</td>\n",
       "      <td>NaN</td>\n",
       "      <td>NaN</td>\n",
       "    </tr>\n",
       "    <tr>\n",
       "      <th>91999</th>\n",
       "      <td>WD</td>\n",
       "      <td>PF_0010019_01</td>\n",
       "      <td>2020-06-29 06:00:00</td>\n",
       "      <td>FG</td>\n",
       "      <td>EO</td>\n",
       "      <td>80300</td>\n",
       "      <td>5.15</td>\n",
       "      <td>20200629</td>\n",
       "      <td>20</td>\n",
       "      <td>91000</td>\n",
       "      <td>NaN</td>\n",
       "      <td>NaN</td>\n",
       "      <td>NaN</td>\n",
       "    </tr>\n",
       "  </tbody>\n",
       "</table>\n",
       "<p>673000 rows × 13 columns</p>\n",
       "</div>"
      ],
      "text/plain": [
       "      fatrCode     facilityId             measDate fldCode sectCode  itemCode  \\\n",
       "0           RP  PF_0000227_01  2017-01-01 00:00:00      FG       EO     80300   \n",
       "1           WD  PF_0000227_01  2017-01-01 00:00:00      FG       EO     80300   \n",
       "2           IR  PF_0000227_01  2017-01-01 00:00:00      FG       EI     80300   \n",
       "3           HL  PF_0000227_01  2017-01-01 00:00:00      FG       EL     80300   \n",
       "4           TI  PF_0000227_01  2017-01-01 00:00:00      FG       EI     80300   \n",
       "...        ...            ...                  ...     ...      ...       ...   \n",
       "91995       TE  PF_0010019_01  2020-06-29 06:00:00      FG       EO     80300   \n",
       "91996       WS  PF_0010019_01  2020-06-29 06:00:00      FG       EO     80300   \n",
       "91997       TI  PF_0010019_01  2020-06-29 06:00:00      FG       EI     80300   \n",
       "91998       TL  PF_0010019_01  2020-06-29 06:00:00      FG       NT     80300   \n",
       "91999       WD  PF_0010019_01  2020-06-29 06:00:00      FG       EO     80300   \n",
       "\n",
       "       senVal       ymd  cntCollect    num  totalRows  totalPage  currentPage  \n",
       "0        0.00  20170101          26      1    90376.0       91.0          1.0  \n",
       "1       48.96  20170101          26      2        NaN        NaN          NaN  \n",
       "2        0.00  20170101          26      3        NaN        NaN          NaN  \n",
       "3       91.38  20170101          26      4        NaN        NaN          NaN  \n",
       "4       13.20  20170101          26      5        NaN        NaN          NaN  \n",
       "...       ...       ...         ...    ...        ...        ...          ...  \n",
       "91995   22.71  20200629          20  90996        NaN        NaN          NaN  \n",
       "91996    0.92  20200629          14  90997        NaN        NaN          NaN  \n",
       "91997   23.30  20200629          20  90998        NaN        NaN          NaN  \n",
       "91998   90.00  20200629          20  90999        NaN        NaN          NaN  \n",
       "91999    5.15  20200629          20  91000        NaN        NaN          NaN  \n",
       "\n",
       "[673000 rows x 13 columns]"
      ]
     },
     "execution_count": 9,
     "metadata": {},
     "output_type": "execute_result"
    }
   ],
   "source": [
    "target_env = pd.read_csv('./data/seasonenv/'+target_user_4[0], index_col=0)\n",
    "for i in range(len(target_user_4)-1):\n",
    "    file = pd.read_csv('./data/seasonenv/'+target_user_4[i+1], index_col=0)\n",
    "    target_env=target_env.append(file)\n",
    "target_env"
   ]
  },
  {
   "cell_type": "code",
   "execution_count": 21,
   "metadata": {},
   "outputs": [
    {
     "data": {
      "text/plain": [
       "{'PF_0000227_01',\n",
       " 'PF_0000304_01',\n",
       " 'PF_0001405_01',\n",
       " 'PF_0006023_01',\n",
       " 'PF_0006024_01',\n",
       " 'PF_0006025_01',\n",
       " 'PF_0006042_01',\n",
       " 'PF_0006043_01',\n",
       " 'PF_0010019_01'}"
      ]
     },
     "execution_count": 21,
     "metadata": {},
     "output_type": "execute_result"
    }
   ],
   "source": [
    "set(target_env['facilityId'])"
   ]
  },
  {
   "cell_type": "code",
   "execution_count": 12,
   "metadata": {},
   "outputs": [],
   "source": [
    "#데이터 저장\n",
    "target_env.to_csv(\"./data/target_env.csv\")"
   ]
  },
  {
   "cell_type": "code",
   "execution_count": 10,
   "metadata": {},
   "outputs": [
    {
     "data": {
      "text/html": [
       "<div>\n",
       "<style scoped>\n",
       "    .dataframe tbody tr th:only-of-type {\n",
       "        vertical-align: middle;\n",
       "    }\n",
       "\n",
       "    .dataframe tbody tr th {\n",
       "        vertical-align: top;\n",
       "    }\n",
       "\n",
       "    .dataframe thead th {\n",
       "        text-align: right;\n",
       "    }\n",
       "</style>\n",
       "<table border=\"1\" class=\"dataframe\">\n",
       "  <thead>\n",
       "    <tr style=\"text-align: right;\">\n",
       "      <th></th>\n",
       "      <th></th>\n",
       "      <th>senVal</th>\n",
       "    </tr>\n",
       "    <tr>\n",
       "      <th>fatrCode</th>\n",
       "      <th>ymd</th>\n",
       "      <th></th>\n",
       "    </tr>\n",
       "  </thead>\n",
       "  <tbody>\n",
       "    <tr>\n",
       "      <th rowspan=\"5\" valign=\"top\">CI</th>\n",
       "      <th>20170101</th>\n",
       "      <td>508.454028</td>\n",
       "    </tr>\n",
       "    <tr>\n",
       "      <th>20170102</th>\n",
       "      <td>489.247639</td>\n",
       "    </tr>\n",
       "    <tr>\n",
       "      <th>20170103</th>\n",
       "      <td>484.931528</td>\n",
       "    </tr>\n",
       "    <tr>\n",
       "      <th>20170104</th>\n",
       "      <td>504.773488</td>\n",
       "    </tr>\n",
       "    <tr>\n",
       "      <th>20170105</th>\n",
       "      <td>487.321389</td>\n",
       "    </tr>\n",
       "    <tr>\n",
       "      <th>...</th>\n",
       "      <th>...</th>\n",
       "      <td>...</td>\n",
       "    </tr>\n",
       "    <tr>\n",
       "      <th rowspan=\"5\" valign=\"top\">WS</th>\n",
       "      <th>20200625</th>\n",
       "      <td>1.126667</td>\n",
       "    </tr>\n",
       "    <tr>\n",
       "      <th>20200626</th>\n",
       "      <td>1.119130</td>\n",
       "    </tr>\n",
       "    <tr>\n",
       "      <th>20200627</th>\n",
       "      <td>0.870000</td>\n",
       "    </tr>\n",
       "    <tr>\n",
       "      <th>20200628</th>\n",
       "      <td>1.411250</td>\n",
       "    </tr>\n",
       "    <tr>\n",
       "      <th>20200629</th>\n",
       "      <td>0.872857</td>\n",
       "    </tr>\n",
       "  </tbody>\n",
       "</table>\n",
       "<p>7990 rows × 1 columns</p>\n",
       "</div>"
      ],
      "text/plain": [
       "                       senVal\n",
       "fatrCode ymd                 \n",
       "CI       20170101  508.454028\n",
       "         20170102  489.247639\n",
       "         20170103  484.931528\n",
       "         20170104  504.773488\n",
       "         20170105  487.321389\n",
       "...                       ...\n",
       "WS       20200625    1.126667\n",
       "         20200626    1.119130\n",
       "         20200627    0.870000\n",
       "         20200628    1.411250\n",
       "         20200629    0.872857\n",
       "\n",
       "[7990 rows x 1 columns]"
      ]
     },
     "execution_count": 10,
     "metadata": {},
     "output_type": "execute_result"
    }
   ],
   "source": [
    "g1=target_env[['senVal','ymd','fatrCode']].groupby(['fatrCode','ymd']).mean()\n",
    "g1"
   ]
  },
  {
   "cell_type": "code",
   "execution_count": 11,
   "metadata": {
    "scrolled": true
   },
   "outputs": [
    {
     "data": {
      "text/html": [
       "<div>\n",
       "<style scoped>\n",
       "    .dataframe tbody tr th:only-of-type {\n",
       "        vertical-align: middle;\n",
       "    }\n",
       "\n",
       "    .dataframe tbody tr th {\n",
       "        vertical-align: top;\n",
       "    }\n",
       "\n",
       "    .dataframe thead th {\n",
       "        text-align: right;\n",
       "    }\n",
       "</style>\n",
       "<table border=\"1\" class=\"dataframe\">\n",
       "  <thead>\n",
       "    <tr style=\"text-align: right;\">\n",
       "      <th></th>\n",
       "      <th>0</th>\n",
       "      <th>CI</th>\n",
       "      <th>EI</th>\n",
       "      <th>EL</th>\n",
       "      <th>EO</th>\n",
       "      <th>HE</th>\n",
       "      <th>HI</th>\n",
       "      <th>HL</th>\n",
       "      <th>IR</th>\n",
       "      <th>PI</th>\n",
       "      <th>PL</th>\n",
       "      <th>PO</th>\n",
       "      <th>RP</th>\n",
       "      <th>SI</th>\n",
       "      <th>SO</th>\n",
       "      <th>TE</th>\n",
       "      <th>TI</th>\n",
       "      <th>TL</th>\n",
       "      <th>WD</th>\n",
       "      <th>WS</th>\n",
       "    </tr>\n",
       "  </thead>\n",
       "  <tbody>\n",
       "    <tr>\n",
       "      <th>0</th>\n",
       "      <td>0.0</td>\n",
       "      <td>72.636290</td>\n",
       "      <td>NaN</td>\n",
       "      <td>NaN</td>\n",
       "      <td>NaN</td>\n",
       "      <td>NaN</td>\n",
       "      <td>49.967399</td>\n",
       "      <td>96.736294</td>\n",
       "      <td>NaN</td>\n",
       "      <td>NaN</td>\n",
       "      <td>NaN</td>\n",
       "      <td>NaN</td>\n",
       "      <td>25.719881</td>\n",
       "      <td>NaN</td>\n",
       "      <td>NaN</td>\n",
       "      <td>4.481683</td>\n",
       "      <td>34.992258</td>\n",
       "      <td>7.973964</td>\n",
       "      <td>65.725777</td>\n",
       "      <td>0.264881</td>\n",
       "    </tr>\n",
       "    <tr>\n",
       "      <th>1</th>\n",
       "      <td>0.0</td>\n",
       "      <td>480.488058</td>\n",
       "      <td>NaN</td>\n",
       "      <td>NaN</td>\n",
       "      <td>NaN</td>\n",
       "      <td>NaN</td>\n",
       "      <td>90.765456</td>\n",
       "      <td>97.073433</td>\n",
       "      <td>NaN</td>\n",
       "      <td>NaN</td>\n",
       "      <td>NaN</td>\n",
       "      <td>NaN</td>\n",
       "      <td>0.043016</td>\n",
       "      <td>NaN</td>\n",
       "      <td>NaN</td>\n",
       "      <td>1.263909</td>\n",
       "      <td>16.630754</td>\n",
       "      <td>5.191944</td>\n",
       "      <td>106.135198</td>\n",
       "      <td>1.768066</td>\n",
       "    </tr>\n",
       "    <tr>\n",
       "      <th>2</th>\n",
       "      <td>0.0</td>\n",
       "      <td>500.075556</td>\n",
       "      <td>NaN</td>\n",
       "      <td>NaN</td>\n",
       "      <td>NaN</td>\n",
       "      <td>NaN</td>\n",
       "      <td>89.314087</td>\n",
       "      <td>97.009385</td>\n",
       "      <td>NaN</td>\n",
       "      <td>NaN</td>\n",
       "      <td>NaN</td>\n",
       "      <td>NaN</td>\n",
       "      <td>0.018532</td>\n",
       "      <td>NaN</td>\n",
       "      <td>NaN</td>\n",
       "      <td>-0.200179</td>\n",
       "      <td>16.047857</td>\n",
       "      <td>5.125377</td>\n",
       "      <td>113.552242</td>\n",
       "      <td>1.966349</td>\n",
       "    </tr>\n",
       "    <tr>\n",
       "      <th>3</th>\n",
       "      <td>0.0</td>\n",
       "      <td>504.383671</td>\n",
       "      <td>NaN</td>\n",
       "      <td>NaN</td>\n",
       "      <td>NaN</td>\n",
       "      <td>NaN</td>\n",
       "      <td>90.506032</td>\n",
       "      <td>96.968214</td>\n",
       "      <td>NaN</td>\n",
       "      <td>NaN</td>\n",
       "      <td>NaN</td>\n",
       "      <td>NaN</td>\n",
       "      <td>0.035397</td>\n",
       "      <td>NaN</td>\n",
       "      <td>NaN</td>\n",
       "      <td>1.133333</td>\n",
       "      <td>16.234881</td>\n",
       "      <td>5.184881</td>\n",
       "      <td>129.812302</td>\n",
       "      <td>1.946726</td>\n",
       "    </tr>\n",
       "    <tr>\n",
       "      <th>4</th>\n",
       "      <td>0.0</td>\n",
       "      <td>487.585020</td>\n",
       "      <td>NaN</td>\n",
       "      <td>NaN</td>\n",
       "      <td>NaN</td>\n",
       "      <td>NaN</td>\n",
       "      <td>93.418036</td>\n",
       "      <td>97.273750</td>\n",
       "      <td>NaN</td>\n",
       "      <td>NaN</td>\n",
       "      <td>NaN</td>\n",
       "      <td>NaN</td>\n",
       "      <td>0.044921</td>\n",
       "      <td>NaN</td>\n",
       "      <td>NaN</td>\n",
       "      <td>2.863705</td>\n",
       "      <td>16.104517</td>\n",
       "      <td>5.061732</td>\n",
       "      <td>137.100013</td>\n",
       "      <td>1.885604</td>\n",
       "    </tr>\n",
       "    <tr>\n",
       "      <th>...</th>\n",
       "      <td>...</td>\n",
       "      <td>...</td>\n",
       "      <td>...</td>\n",
       "      <td>...</td>\n",
       "      <td>...</td>\n",
       "      <td>...</td>\n",
       "      <td>...</td>\n",
       "      <td>...</td>\n",
       "      <td>...</td>\n",
       "      <td>...</td>\n",
       "      <td>...</td>\n",
       "      <td>...</td>\n",
       "      <td>...</td>\n",
       "      <td>...</td>\n",
       "      <td>...</td>\n",
       "      <td>...</td>\n",
       "      <td>...</td>\n",
       "      <td>...</td>\n",
       "      <td>...</td>\n",
       "      <td>...</td>\n",
       "    </tr>\n",
       "    <tr>\n",
       "      <th>68</th>\n",
       "      <td>0.0</td>\n",
       "      <td>490.117137</td>\n",
       "      <td>NaN</td>\n",
       "      <td>NaN</td>\n",
       "      <td>NaN</td>\n",
       "      <td>NaN</td>\n",
       "      <td>73.448929</td>\n",
       "      <td>0.000000</td>\n",
       "      <td>NaN</td>\n",
       "      <td>NaN</td>\n",
       "      <td>NaN</td>\n",
       "      <td>NaN</td>\n",
       "      <td>0.051310</td>\n",
       "      <td>NaN</td>\n",
       "      <td>NaN</td>\n",
       "      <td>19.452937</td>\n",
       "      <td>22.029901</td>\n",
       "      <td>33.000000</td>\n",
       "      <td>4.627884</td>\n",
       "      <td>1.387722</td>\n",
       "    </tr>\n",
       "    <tr>\n",
       "      <th>69</th>\n",
       "      <td>0.0</td>\n",
       "      <td>453.843968</td>\n",
       "      <td>NaN</td>\n",
       "      <td>NaN</td>\n",
       "      <td>NaN</td>\n",
       "      <td>NaN</td>\n",
       "      <td>71.184326</td>\n",
       "      <td>0.000000</td>\n",
       "      <td>NaN</td>\n",
       "      <td>NaN</td>\n",
       "      <td>NaN</td>\n",
       "      <td>NaN</td>\n",
       "      <td>0.022163</td>\n",
       "      <td>NaN</td>\n",
       "      <td>NaN</td>\n",
       "      <td>21.925594</td>\n",
       "      <td>23.098497</td>\n",
       "      <td>65.925466</td>\n",
       "      <td>5.294480</td>\n",
       "      <td>1.173716</td>\n",
       "    </tr>\n",
       "    <tr>\n",
       "      <th>70</th>\n",
       "      <td>0.0</td>\n",
       "      <td>357.824940</td>\n",
       "      <td>NaN</td>\n",
       "      <td>NaN</td>\n",
       "      <td>NaN</td>\n",
       "      <td>NaN</td>\n",
       "      <td>75.023661</td>\n",
       "      <td>0.000000</td>\n",
       "      <td>NaN</td>\n",
       "      <td>NaN</td>\n",
       "      <td>NaN</td>\n",
       "      <td>NaN</td>\n",
       "      <td>0.018036</td>\n",
       "      <td>NaN</td>\n",
       "      <td>NaN</td>\n",
       "      <td>26.235774</td>\n",
       "      <td>25.866548</td>\n",
       "      <td>90.000000</td>\n",
       "      <td>5.086696</td>\n",
       "      <td>1.147768</td>\n",
       "    </tr>\n",
       "    <tr>\n",
       "      <th>71</th>\n",
       "      <td>0.0</td>\n",
       "      <td>370.756637</td>\n",
       "      <td>NaN</td>\n",
       "      <td>NaN</td>\n",
       "      <td>NaN</td>\n",
       "      <td>NaN</td>\n",
       "      <td>80.280313</td>\n",
       "      <td>0.000000</td>\n",
       "      <td>NaN</td>\n",
       "      <td>NaN</td>\n",
       "      <td>NaN</td>\n",
       "      <td>NaN</td>\n",
       "      <td>0.179508</td>\n",
       "      <td>NaN</td>\n",
       "      <td>NaN</td>\n",
       "      <td>24.511682</td>\n",
       "      <td>26.815893</td>\n",
       "      <td>90.000000</td>\n",
       "      <td>5.351146</td>\n",
       "      <td>1.084587</td>\n",
       "    </tr>\n",
       "    <tr>\n",
       "      <th>72</th>\n",
       "      <td>0.0</td>\n",
       "      <td>303.641488</td>\n",
       "      <td>NaN</td>\n",
       "      <td>NaN</td>\n",
       "      <td>NaN</td>\n",
       "      <td>NaN</td>\n",
       "      <td>80.666369</td>\n",
       "      <td>0.000000</td>\n",
       "      <td>NaN</td>\n",
       "      <td>NaN</td>\n",
       "      <td>NaN</td>\n",
       "      <td>NaN</td>\n",
       "      <td>0.069821</td>\n",
       "      <td>NaN</td>\n",
       "      <td>NaN</td>\n",
       "      <td>25.975595</td>\n",
       "      <td>26.638988</td>\n",
       "      <td>90.000000</td>\n",
       "      <td>4.572500</td>\n",
       "      <td>1.321145</td>\n",
       "    </tr>\n",
       "  </tbody>\n",
       "</table>\n",
       "<p>73 rows × 20 columns</p>\n",
       "</div>"
      ],
      "text/plain": [
       "      0          CI   EI   EL   EO   HE         HI         HL   IR   PI   PL  \\\n",
       "0   0.0   72.636290  NaN  NaN  NaN  NaN  49.967399  96.736294  NaN  NaN  NaN   \n",
       "1   0.0  480.488058  NaN  NaN  NaN  NaN  90.765456  97.073433  NaN  NaN  NaN   \n",
       "2   0.0  500.075556  NaN  NaN  NaN  NaN  89.314087  97.009385  NaN  NaN  NaN   \n",
       "3   0.0  504.383671  NaN  NaN  NaN  NaN  90.506032  96.968214  NaN  NaN  NaN   \n",
       "4   0.0  487.585020  NaN  NaN  NaN  NaN  93.418036  97.273750  NaN  NaN  NaN   \n",
       "..  ...         ...  ...  ...  ...  ...        ...        ...  ...  ...  ...   \n",
       "68  0.0  490.117137  NaN  NaN  NaN  NaN  73.448929   0.000000  NaN  NaN  NaN   \n",
       "69  0.0  453.843968  NaN  NaN  NaN  NaN  71.184326   0.000000  NaN  NaN  NaN   \n",
       "70  0.0  357.824940  NaN  NaN  NaN  NaN  75.023661   0.000000  NaN  NaN  NaN   \n",
       "71  0.0  370.756637  NaN  NaN  NaN  NaN  80.280313   0.000000  NaN  NaN  NaN   \n",
       "72  0.0  303.641488  NaN  NaN  NaN  NaN  80.666369   0.000000  NaN  NaN  NaN   \n",
       "\n",
       "     PO         RP   SI   SO         TE         TI         TL          WD  \\\n",
       "0   NaN  25.719881  NaN  NaN   4.481683  34.992258   7.973964   65.725777   \n",
       "1   NaN   0.043016  NaN  NaN   1.263909  16.630754   5.191944  106.135198   \n",
       "2   NaN   0.018532  NaN  NaN  -0.200179  16.047857   5.125377  113.552242   \n",
       "3   NaN   0.035397  NaN  NaN   1.133333  16.234881   5.184881  129.812302   \n",
       "4   NaN   0.044921  NaN  NaN   2.863705  16.104517   5.061732  137.100013   \n",
       "..  ...        ...  ...  ...        ...        ...        ...         ...   \n",
       "68  NaN   0.051310  NaN  NaN  19.452937  22.029901  33.000000    4.627884   \n",
       "69  NaN   0.022163  NaN  NaN  21.925594  23.098497  65.925466    5.294480   \n",
       "70  NaN   0.018036  NaN  NaN  26.235774  25.866548  90.000000    5.086696   \n",
       "71  NaN   0.179508  NaN  NaN  24.511682  26.815893  90.000000    5.351146   \n",
       "72  NaN   0.069821  NaN  NaN  25.975595  26.638988  90.000000    4.572500   \n",
       "\n",
       "          WS  \n",
       "0   0.264881  \n",
       "1   1.768066  \n",
       "2   1.966349  \n",
       "3   1.946726  \n",
       "4   1.885604  \n",
       "..       ...  \n",
       "68  1.387722  \n",
       "69  1.173716  \n",
       "70  1.147768  \n",
       "71  1.084587  \n",
       "72  1.321145  \n",
       "\n",
       "[73 rows x 20 columns]"
      ]
     },
     "execution_count": 11,
     "metadata": {},
     "output_type": "execute_result"
    }
   ],
   "source": [
    "target_env_mean = pd.DataFrame(columns=list(set(target_env['fatrCode'])))\n",
    "target_env_mean = target_env_mean.append([0]*73)\n",
    "del_code=[]\n",
    "count=0\n",
    "num=0\n",
    "for code in list(set(target_env['fatrCode'])):\n",
    "    senVal=[]\n",
    "    for val in list(g1.T[code].iloc[0,:]):\n",
    "        if count==7:\n",
    "            senVal.append(num/7)\n",
    "            num=0\n",
    "            count=0\n",
    "        else:\n",
    "            num+=val\n",
    "            count+=1\n",
    "    if(len(senVal)==73):\n",
    "        target_env_mean[code]=senVal\n",
    "    else:\n",
    "        del_code.append(code)\n",
    "target_env_mean"
   ]
  },
  {
   "cell_type": "code",
   "execution_count": 12,
   "metadata": {},
   "outputs": [],
   "source": [
    "for delcode in del_code:\n",
    "    del target_env_mean[delcode]"
   ]
  },
  {
   "cell_type": "code",
   "execution_count": 13,
   "metadata": {},
   "outputs": [],
   "source": [
    "del target_env_mean[0]"
   ]
  },
  {
   "cell_type": "code",
   "execution_count": 14,
   "metadata": {},
   "outputs": [
    {
     "data": {
      "text/html": [
       "<div>\n",
       "<style scoped>\n",
       "    .dataframe tbody tr th:only-of-type {\n",
       "        vertical-align: middle;\n",
       "    }\n",
       "\n",
       "    .dataframe tbody tr th {\n",
       "        vertical-align: top;\n",
       "    }\n",
       "\n",
       "    .dataframe thead th {\n",
       "        text-align: right;\n",
       "    }\n",
       "</style>\n",
       "<table border=\"1\" class=\"dataframe\">\n",
       "  <thead>\n",
       "    <tr style=\"text-align: right;\">\n",
       "      <th></th>\n",
       "      <th>CI</th>\n",
       "      <th>HI</th>\n",
       "      <th>HL</th>\n",
       "      <th>RP</th>\n",
       "      <th>TE</th>\n",
       "      <th>TI</th>\n",
       "      <th>TL</th>\n",
       "      <th>WD</th>\n",
       "      <th>WS</th>\n",
       "    </tr>\n",
       "  </thead>\n",
       "  <tbody>\n",
       "    <tr>\n",
       "      <th>0</th>\n",
       "      <td>72.636290</td>\n",
       "      <td>49.967399</td>\n",
       "      <td>96.736294</td>\n",
       "      <td>25.719881</td>\n",
       "      <td>4.481683</td>\n",
       "      <td>34.992258</td>\n",
       "      <td>7.973964</td>\n",
       "      <td>65.725777</td>\n",
       "      <td>0.264881</td>\n",
       "    </tr>\n",
       "    <tr>\n",
       "      <th>1</th>\n",
       "      <td>480.488058</td>\n",
       "      <td>90.765456</td>\n",
       "      <td>97.073433</td>\n",
       "      <td>0.043016</td>\n",
       "      <td>1.263909</td>\n",
       "      <td>16.630754</td>\n",
       "      <td>5.191944</td>\n",
       "      <td>106.135198</td>\n",
       "      <td>1.768066</td>\n",
       "    </tr>\n",
       "    <tr>\n",
       "      <th>2</th>\n",
       "      <td>500.075556</td>\n",
       "      <td>89.314087</td>\n",
       "      <td>97.009385</td>\n",
       "      <td>0.018532</td>\n",
       "      <td>-0.200179</td>\n",
       "      <td>16.047857</td>\n",
       "      <td>5.125377</td>\n",
       "      <td>113.552242</td>\n",
       "      <td>1.966349</td>\n",
       "    </tr>\n",
       "    <tr>\n",
       "      <th>3</th>\n",
       "      <td>504.383671</td>\n",
       "      <td>90.506032</td>\n",
       "      <td>96.968214</td>\n",
       "      <td>0.035397</td>\n",
       "      <td>1.133333</td>\n",
       "      <td>16.234881</td>\n",
       "      <td>5.184881</td>\n",
       "      <td>129.812302</td>\n",
       "      <td>1.946726</td>\n",
       "    </tr>\n",
       "    <tr>\n",
       "      <th>4</th>\n",
       "      <td>487.585020</td>\n",
       "      <td>93.418036</td>\n",
       "      <td>97.273750</td>\n",
       "      <td>0.044921</td>\n",
       "      <td>2.863705</td>\n",
       "      <td>16.104517</td>\n",
       "      <td>5.061732</td>\n",
       "      <td>137.100013</td>\n",
       "      <td>1.885604</td>\n",
       "    </tr>\n",
       "    <tr>\n",
       "      <th>...</th>\n",
       "      <td>...</td>\n",
       "      <td>...</td>\n",
       "      <td>...</td>\n",
       "      <td>...</td>\n",
       "      <td>...</td>\n",
       "      <td>...</td>\n",
       "      <td>...</td>\n",
       "      <td>...</td>\n",
       "      <td>...</td>\n",
       "    </tr>\n",
       "    <tr>\n",
       "      <th>68</th>\n",
       "      <td>490.117137</td>\n",
       "      <td>73.448929</td>\n",
       "      <td>0.000000</td>\n",
       "      <td>0.051310</td>\n",
       "      <td>19.452937</td>\n",
       "      <td>22.029901</td>\n",
       "      <td>33.000000</td>\n",
       "      <td>4.627884</td>\n",
       "      <td>1.387722</td>\n",
       "    </tr>\n",
       "    <tr>\n",
       "      <th>69</th>\n",
       "      <td>453.843968</td>\n",
       "      <td>71.184326</td>\n",
       "      <td>0.000000</td>\n",
       "      <td>0.022163</td>\n",
       "      <td>21.925594</td>\n",
       "      <td>23.098497</td>\n",
       "      <td>65.925466</td>\n",
       "      <td>5.294480</td>\n",
       "      <td>1.173716</td>\n",
       "    </tr>\n",
       "    <tr>\n",
       "      <th>70</th>\n",
       "      <td>357.824940</td>\n",
       "      <td>75.023661</td>\n",
       "      <td>0.000000</td>\n",
       "      <td>0.018036</td>\n",
       "      <td>26.235774</td>\n",
       "      <td>25.866548</td>\n",
       "      <td>90.000000</td>\n",
       "      <td>5.086696</td>\n",
       "      <td>1.147768</td>\n",
       "    </tr>\n",
       "    <tr>\n",
       "      <th>71</th>\n",
       "      <td>370.756637</td>\n",
       "      <td>80.280313</td>\n",
       "      <td>0.000000</td>\n",
       "      <td>0.179508</td>\n",
       "      <td>24.511682</td>\n",
       "      <td>26.815893</td>\n",
       "      <td>90.000000</td>\n",
       "      <td>5.351146</td>\n",
       "      <td>1.084587</td>\n",
       "    </tr>\n",
       "    <tr>\n",
       "      <th>72</th>\n",
       "      <td>303.641488</td>\n",
       "      <td>80.666369</td>\n",
       "      <td>0.000000</td>\n",
       "      <td>0.069821</td>\n",
       "      <td>25.975595</td>\n",
       "      <td>26.638988</td>\n",
       "      <td>90.000000</td>\n",
       "      <td>4.572500</td>\n",
       "      <td>1.321145</td>\n",
       "    </tr>\n",
       "  </tbody>\n",
       "</table>\n",
       "<p>73 rows × 9 columns</p>\n",
       "</div>"
      ],
      "text/plain": [
       "            CI         HI         HL         RP         TE         TI  \\\n",
       "0    72.636290  49.967399  96.736294  25.719881   4.481683  34.992258   \n",
       "1   480.488058  90.765456  97.073433   0.043016   1.263909  16.630754   \n",
       "2   500.075556  89.314087  97.009385   0.018532  -0.200179  16.047857   \n",
       "3   504.383671  90.506032  96.968214   0.035397   1.133333  16.234881   \n",
       "4   487.585020  93.418036  97.273750   0.044921   2.863705  16.104517   \n",
       "..         ...        ...        ...        ...        ...        ...   \n",
       "68  490.117137  73.448929   0.000000   0.051310  19.452937  22.029901   \n",
       "69  453.843968  71.184326   0.000000   0.022163  21.925594  23.098497   \n",
       "70  357.824940  75.023661   0.000000   0.018036  26.235774  25.866548   \n",
       "71  370.756637  80.280313   0.000000   0.179508  24.511682  26.815893   \n",
       "72  303.641488  80.666369   0.000000   0.069821  25.975595  26.638988   \n",
       "\n",
       "           TL          WD        WS  \n",
       "0    7.973964   65.725777  0.264881  \n",
       "1    5.191944  106.135198  1.768066  \n",
       "2    5.125377  113.552242  1.966349  \n",
       "3    5.184881  129.812302  1.946726  \n",
       "4    5.061732  137.100013  1.885604  \n",
       "..        ...         ...       ...  \n",
       "68  33.000000    4.627884  1.387722  \n",
       "69  65.925466    5.294480  1.173716  \n",
       "70  90.000000    5.086696  1.147768  \n",
       "71  90.000000    5.351146  1.084587  \n",
       "72  90.000000    4.572500  1.321145  \n",
       "\n",
       "[73 rows x 9 columns]"
      ]
     },
     "execution_count": 14,
     "metadata": {},
     "output_type": "execute_result"
    }
   ],
   "source": [
    "target_env_mean"
   ]
  },
  {
   "cell_type": "code",
   "execution_count": 15,
   "metadata": {},
   "outputs": [
    {
     "ename": "NameError",
     "evalue": "name 'temp_user' is not defined",
     "output_type": "error",
     "traceback": [
      "\u001b[1;31m---------------------------------------------------------------------------\u001b[0m",
      "\u001b[1;31mNameError\u001b[0m                                 Traceback (most recent call last)",
      "\u001b[1;32m<ipython-input-15-e800538e0852>\u001b[0m in \u001b[0;36m<module>\u001b[1;34m\u001b[0m\n\u001b[1;32m----> 1\u001b[1;33m \u001b[0mtarget_cultivate\u001b[0m \u001b[1;33m=\u001b[0m \u001b[0mcultivate_file\u001b[0m\u001b[1;33m[\u001b[0m\u001b[0mcultivate_file\u001b[0m\u001b[1;33m[\u001b[0m\u001b[1;34m'userId'\u001b[0m\u001b[1;33m]\u001b[0m\u001b[1;33m.\u001b[0m\u001b[0misin\u001b[0m\u001b[1;33m(\u001b[0m\u001b[0mtemp_user\u001b[0m\u001b[1;33m)\u001b[0m\u001b[1;33m]\u001b[0m\u001b[1;33m\u001b[0m\u001b[1;33m\u001b[0m\u001b[0m\n\u001b[0m\u001b[0;32m      2\u001b[0m \u001b[0mtarget_cultivate\u001b[0m\u001b[1;33m.\u001b[0m\u001b[0mhead\u001b[0m\u001b[1;33m(\u001b[0m\u001b[1;33m)\u001b[0m\u001b[1;33m\u001b[0m\u001b[1;33m\u001b[0m\u001b[0m\n",
      "\u001b[1;31mNameError\u001b[0m: name 'temp_user' is not defined"
     ]
    }
   ],
   "source": [
    "target_cultivate = cultivate_file[cultivate_file['userId'].isin(temp_user)]\n",
    "target_cultivate.head()"
   ]
  },
  {
   "cell_type": "code",
   "execution_count": 16,
   "metadata": {},
   "outputs": [
    {
     "ename": "NameError",
     "evalue": "name 'target_cultivate' is not defined",
     "output_type": "error",
     "traceback": [
      "\u001b[1;31m---------------------------------------------------------------------------\u001b[0m",
      "\u001b[1;31mNameError\u001b[0m                                 Traceback (most recent call last)",
      "\u001b[1;32m<ipython-input-16-307155fbbbca>\u001b[0m in \u001b[0;36m<module>\u001b[1;34m\u001b[0m\n\u001b[0;32m      8\u001b[0m  'fruitsWeight']\n\u001b[0;32m      9\u001b[0m \u001b[1;32mfor\u001b[0m \u001b[0mdelcode\u001b[0m \u001b[1;32min\u001b[0m \u001b[0mdellist\u001b[0m\u001b[1;33m:\u001b[0m\u001b[1;33m\u001b[0m\u001b[1;33m\u001b[0m\u001b[0m\n\u001b[1;32m---> 10\u001b[1;33m     \u001b[1;32mdel\u001b[0m \u001b[0mtarget_cultivate\u001b[0m\u001b[1;33m[\u001b[0m\u001b[0mdelcode\u001b[0m\u001b[1;33m]\u001b[0m\u001b[1;33m\u001b[0m\u001b[1;33m\u001b[0m\u001b[0m\n\u001b[0m",
      "\u001b[1;31mNameError\u001b[0m: name 'target_cultivate' is not defined"
     ]
    }
   ],
   "source": [
    "dellist=['statusCode',\n",
    " 'statusMessage',\n",
    " 'itemCode',\n",
    "  'sampleNum',\n",
    " 'harvestPosition',\n",
    " 'ped',\n",
    " 'solarCorrection',\n",
    " 'fruitsWeight']\n",
    "for delcode in dellist:\n",
    "    del target_cultivate[delcode]"
   ]
  },
  {
   "cell_type": "code",
   "execution_count": 17,
   "metadata": {},
   "outputs": [
    {
     "ename": "NameError",
     "evalue": "name 'target_cultivate' is not defined",
     "output_type": "error",
     "traceback": [
      "\u001b[1;31m---------------------------------------------------------------------------\u001b[0m",
      "\u001b[1;31mNameError\u001b[0m                                 Traceback (most recent call last)",
      "\u001b[1;32m<ipython-input-17-352d853d5692>\u001b[0m in \u001b[0;36m<module>\u001b[1;34m\u001b[0m\n\u001b[1;32m----> 1\u001b[1;33m \u001b[0mtarget_cultivate\u001b[0m\u001b[1;33m[\u001b[0m\u001b[1;34m'date'\u001b[0m\u001b[1;33m]\u001b[0m\u001b[1;33m=\u001b[0m\u001b[0mtarget_cultivate\u001b[0m\u001b[1;33m[\u001b[0m\u001b[1;34m'measDate'\u001b[0m\u001b[1;33m]\u001b[0m\u001b[1;33m.\u001b[0m\u001b[0magg\u001b[0m\u001b[1;33m(\u001b[0m\u001b[0msplitDate\u001b[0m\u001b[1;33m)\u001b[0m\u001b[1;33m\u001b[0m\u001b[1;33m\u001b[0m\u001b[0m\n\u001b[0m",
      "\u001b[1;31mNameError\u001b[0m: name 'target_cultivate' is not defined"
     ]
    }
   ],
   "source": [
    "target_cultivate['date']=target_cultivate['measDate'].agg(splitDate)"
   ]
  },
  {
   "cell_type": "code",
   "execution_count": 18,
   "metadata": {},
   "outputs": [
    {
     "ename": "NameError",
     "evalue": "name 'target_cultivate' is not defined",
     "output_type": "error",
     "traceback": [
      "\u001b[1;31m---------------------------------------------------------------------------\u001b[0m",
      "\u001b[1;31mNameError\u001b[0m                                 Traceback (most recent call last)",
      "\u001b[1;32m<ipython-input-18-c8b501d6ec0f>\u001b[0m in \u001b[0;36m<module>\u001b[1;34m\u001b[0m\n\u001b[1;32m----> 1\u001b[1;33m \u001b[0mtarget_cultivate_mean\u001b[0m\u001b[1;33m=\u001b[0m\u001b[0mtarget_cultivate\u001b[0m\u001b[1;33m.\u001b[0m\u001b[0mgroupby\u001b[0m\u001b[1;33m(\u001b[0m\u001b[1;34m'date'\u001b[0m\u001b[1;33m)\u001b[0m\u001b[1;33m.\u001b[0m\u001b[0mmean\u001b[0m\u001b[1;33m(\u001b[0m\u001b[1;33m)\u001b[0m\u001b[1;33m\u001b[0m\u001b[1;33m\u001b[0m\u001b[0m\n\u001b[0m\u001b[0;32m      2\u001b[0m \u001b[0mtarget_cultivate_mean\u001b[0m\u001b[1;33m.\u001b[0m\u001b[0mindex\u001b[0m\u001b[1;33m=\u001b[0m\u001b[1;33m[\u001b[0m\u001b[0mi\u001b[0m \u001b[1;32mfor\u001b[0m \u001b[0mi\u001b[0m \u001b[1;32min\u001b[0m \u001b[0mrange\u001b[0m\u001b[1;33m(\u001b[0m\u001b[1;36m73\u001b[0m\u001b[1;33m)\u001b[0m\u001b[1;33m]\u001b[0m\u001b[1;33m\u001b[0m\u001b[1;33m\u001b[0m\u001b[0m\n\u001b[0;32m      3\u001b[0m \u001b[0mtarget_cultivate_mean\u001b[0m\u001b[1;33m\u001b[0m\u001b[1;33m\u001b[0m\u001b[0m\n",
      "\u001b[1;31mNameError\u001b[0m: name 'target_cultivate' is not defined"
     ]
    }
   ],
   "source": [
    "target_cultivate_mean=target_cultivate.groupby('date').mean()\n",
    "target_cultivate_mean.index=[i for i in range(73)]\n",
    "target_cultivate_mean"
   ]
  },
  {
   "cell_type": "code",
   "execution_count": 338,
   "metadata": {},
   "outputs": [
    {
     "data": {
      "text/html": [
       "<div>\n",
       "<style scoped>\n",
       "    .dataframe tbody tr th:only-of-type {\n",
       "        vertical-align: middle;\n",
       "    }\n",
       "\n",
       "    .dataframe tbody tr th {\n",
       "        vertical-align: top;\n",
       "    }\n",
       "\n",
       "    .dataframe thead th {\n",
       "        text-align: right;\n",
       "    }\n",
       "</style>\n",
       "<table border=\"1\" class=\"dataframe\">\n",
       "  <thead>\n",
       "    <tr style=\"text-align: right;\">\n",
       "      <th></th>\n",
       "      <th>CI</th>\n",
       "      <th>EL</th>\n",
       "      <th>HI</th>\n",
       "      <th>HL</th>\n",
       "      <th>RP</th>\n",
       "      <th>TE</th>\n",
       "      <th>TI</th>\n",
       "      <th>TL</th>\n",
       "      <th>WD</th>\n",
       "      <th>WS</th>\n",
       "      <th>growLength</th>\n",
       "      <th>flowerTop</th>\n",
       "      <th>stemDiameter</th>\n",
       "      <th>leavesLength</th>\n",
       "      <th>leavesWidth</th>\n",
       "      <th>leavesNum</th>\n",
       "      <th>flowerPosition</th>\n",
       "      <th>fruitsPosition</th>\n",
       "      <th>fruitsNum</th>\n",
       "    </tr>\n",
       "  </thead>\n",
       "  <tbody>\n",
       "    <tr>\n",
       "      <th>0</th>\n",
       "      <td>429.870952</td>\n",
       "      <td>4.750984</td>\n",
       "      <td>153.396753</td>\n",
       "      <td>55.303972</td>\n",
       "      <td>6.904804</td>\n",
       "      <td>4.560532</td>\n",
       "      <td>13.705495</td>\n",
       "      <td>2.317982</td>\n",
       "      <td>50.623234</td>\n",
       "      <td>42.811071</td>\n",
       "      <td>0.000000</td>\n",
       "      <td>21.750000</td>\n",
       "      <td>10.125000</td>\n",
       "      <td>42.125000</td>\n",
       "      <td>40.250000</td>\n",
       "      <td>11.750000</td>\n",
       "      <td>7.0250</td>\n",
       "      <td>5.200000</td>\n",
       "      <td>15.250000</td>\n",
       "    </tr>\n",
       "    <tr>\n",
       "      <th>1</th>\n",
       "      <td>484.114583</td>\n",
       "      <td>6.653175</td>\n",
       "      <td>90.717024</td>\n",
       "      <td>96.955337</td>\n",
       "      <td>0.043016</td>\n",
       "      <td>2.675000</td>\n",
       "      <td>16.408155</td>\n",
       "      <td>5.429140</td>\n",
       "      <td>106.135198</td>\n",
       "      <td>1.911647</td>\n",
       "      <td>13.750000</td>\n",
       "      <td>18.375000</td>\n",
       "      <td>10.225000</td>\n",
       "      <td>41.250000</td>\n",
       "      <td>39.000000</td>\n",
       "      <td>12.500000</td>\n",
       "      <td>7.0250</td>\n",
       "      <td>5.350000</td>\n",
       "      <td>15.500000</td>\n",
       "    </tr>\n",
       "    <tr>\n",
       "      <th>2</th>\n",
       "      <td>507.021746</td>\n",
       "      <td>6.658909</td>\n",
       "      <td>89.587123</td>\n",
       "      <td>96.916190</td>\n",
       "      <td>0.018532</td>\n",
       "      <td>-0.205377</td>\n",
       "      <td>16.056726</td>\n",
       "      <td>5.095575</td>\n",
       "      <td>113.552242</td>\n",
       "      <td>1.917937</td>\n",
       "      <td>4.000000</td>\n",
       "      <td>23.375000</td>\n",
       "      <td>10.581250</td>\n",
       "      <td>41.875000</td>\n",
       "      <td>40.625000</td>\n",
       "      <td>13.000000</td>\n",
       "      <td>6.1500</td>\n",
       "      <td>4.812500</td>\n",
       "      <td>14.250000</td>\n",
       "    </tr>\n",
       "    <tr>\n",
       "      <th>3</th>\n",
       "      <td>497.538552</td>\n",
       "      <td>6.650337</td>\n",
       "      <td>90.984444</td>\n",
       "      <td>96.955813</td>\n",
       "      <td>0.035397</td>\n",
       "      <td>0.646349</td>\n",
       "      <td>16.237738</td>\n",
       "      <td>5.097083</td>\n",
       "      <td>129.812302</td>\n",
       "      <td>1.837440</td>\n",
       "      <td>17.125000</td>\n",
       "      <td>28.937500</td>\n",
       "      <td>11.431250</td>\n",
       "      <td>42.500000</td>\n",
       "      <td>40.875000</td>\n",
       "      <td>13.875000</td>\n",
       "      <td>6.5625</td>\n",
       "      <td>5.050000</td>\n",
       "      <td>15.000000</td>\n",
       "    </tr>\n",
       "    <tr>\n",
       "      <th>4</th>\n",
       "      <td>483.562359</td>\n",
       "      <td>6.634325</td>\n",
       "      <td>93.566726</td>\n",
       "      <td>97.205040</td>\n",
       "      <td>0.044921</td>\n",
       "      <td>2.629261</td>\n",
       "      <td>16.126481</td>\n",
       "      <td>5.165720</td>\n",
       "      <td>137.100013</td>\n",
       "      <td>1.819652</td>\n",
       "      <td>89.083333</td>\n",
       "      <td>24.358333</td>\n",
       "      <td>9.894167</td>\n",
       "      <td>40.233333</td>\n",
       "      <td>36.258333</td>\n",
       "      <td>15.000000</td>\n",
       "      <td>9.0500</td>\n",
       "      <td>3.825000</td>\n",
       "      <td>11.416667</td>\n",
       "    </tr>\n",
       "    <tr>\n",
       "      <th>...</th>\n",
       "      <td>...</td>\n",
       "      <td>...</td>\n",
       "      <td>...</td>\n",
       "      <td>...</td>\n",
       "      <td>...</td>\n",
       "      <td>...</td>\n",
       "      <td>...</td>\n",
       "      <td>...</td>\n",
       "      <td>...</td>\n",
       "      <td>...</td>\n",
       "      <td>...</td>\n",
       "      <td>...</td>\n",
       "      <td>...</td>\n",
       "      <td>...</td>\n",
       "      <td>...</td>\n",
       "      <td>...</td>\n",
       "      <td>...</td>\n",
       "      <td>...</td>\n",
       "      <td>...</td>\n",
       "    </tr>\n",
       "    <tr>\n",
       "      <th>68</th>\n",
       "      <td>463.937004</td>\n",
       "      <td>2.558988</td>\n",
       "      <td>73.735099</td>\n",
       "      <td>0.000000</td>\n",
       "      <td>0.051310</td>\n",
       "      <td>18.909385</td>\n",
       "      <td>21.812937</td>\n",
       "      <td>33.000000</td>\n",
       "      <td>4.627884</td>\n",
       "      <td>1.333307</td>\n",
       "      <td>0.583333</td>\n",
       "      <td>0.000000</td>\n",
       "      <td>9.991667</td>\n",
       "      <td>39.416667</td>\n",
       "      <td>34.000000</td>\n",
       "      <td>9.500000</td>\n",
       "      <td>0.0000</td>\n",
       "      <td>11.416667</td>\n",
       "      <td>25.250000</td>\n",
       "    </tr>\n",
       "    <tr>\n",
       "      <th>69</th>\n",
       "      <td>399.002322</td>\n",
       "      <td>2.619762</td>\n",
       "      <td>70.125784</td>\n",
       "      <td>0.000000</td>\n",
       "      <td>0.022163</td>\n",
       "      <td>21.503144</td>\n",
       "      <td>23.382624</td>\n",
       "      <td>33.354037</td>\n",
       "      <td>5.294480</td>\n",
       "      <td>1.170039</td>\n",
       "      <td>1.325000</td>\n",
       "      <td>10.362500</td>\n",
       "      <td>5.328750</td>\n",
       "      <td>25.962500</td>\n",
       "      <td>22.725000</td>\n",
       "      <td>16.250000</td>\n",
       "      <td>4.9625</td>\n",
       "      <td>22.207500</td>\n",
       "      <td>54.000000</td>\n",
       "    </tr>\n",
       "    <tr>\n",
       "      <th>70</th>\n",
       "      <td>363.941905</td>\n",
       "      <td>2.529940</td>\n",
       "      <td>74.134107</td>\n",
       "      <td>0.000000</td>\n",
       "      <td>0.018036</td>\n",
       "      <td>26.123601</td>\n",
       "      <td>26.655982</td>\n",
       "      <td>90.000000</td>\n",
       "      <td>5.086696</td>\n",
       "      <td>1.140103</td>\n",
       "      <td>0.000000</td>\n",
       "      <td>0.000000</td>\n",
       "      <td>10.405833</td>\n",
       "      <td>41.916667</td>\n",
       "      <td>34.833333</td>\n",
       "      <td>8.506667</td>\n",
       "      <td>0.0000</td>\n",
       "      <td>11.500000</td>\n",
       "      <td>15.833333</td>\n",
       "    </tr>\n",
       "    <tr>\n",
       "      <th>71</th>\n",
       "      <td>329.115833</td>\n",
       "      <td>2.521071</td>\n",
       "      <td>80.925402</td>\n",
       "      <td>0.000000</td>\n",
       "      <td>0.179508</td>\n",
       "      <td>24.499866</td>\n",
       "      <td>26.516548</td>\n",
       "      <td>90.000000</td>\n",
       "      <td>5.351146</td>\n",
       "      <td>1.147639</td>\n",
       "      <td>0.000000</td>\n",
       "      <td>0.000000</td>\n",
       "      <td>0.000000</td>\n",
       "      <td>11.250000</td>\n",
       "      <td>8.250000</td>\n",
       "      <td>18.750000</td>\n",
       "      <td>9.0050</td>\n",
       "      <td>8.105000</td>\n",
       "      <td>4.000000</td>\n",
       "    </tr>\n",
       "    <tr>\n",
       "      <th>72</th>\n",
       "      <td>296.793631</td>\n",
       "      <td>2.559940</td>\n",
       "      <td>80.259107</td>\n",
       "      <td>0.000000</td>\n",
       "      <td>0.069821</td>\n",
       "      <td>25.805655</td>\n",
       "      <td>26.647083</td>\n",
       "      <td>90.000000</td>\n",
       "      <td>4.572500</td>\n",
       "      <td>1.341538</td>\n",
       "      <td>1.000000</td>\n",
       "      <td>0.000000</td>\n",
       "      <td>10.501667</td>\n",
       "      <td>39.416667</td>\n",
       "      <td>31.666667</td>\n",
       "      <td>6.750000</td>\n",
       "      <td>0.0000</td>\n",
       "      <td>11.500000</td>\n",
       "      <td>7.666667</td>\n",
       "    </tr>\n",
       "  </tbody>\n",
       "</table>\n",
       "<p>73 rows × 19 columns</p>\n",
       "</div>"
      ],
      "text/plain": [
       "            CI        EL          HI         HL        RP         TE  \\\n",
       "0   429.870952  4.750984  153.396753  55.303972  6.904804   4.560532   \n",
       "1   484.114583  6.653175   90.717024  96.955337  0.043016   2.675000   \n",
       "2   507.021746  6.658909   89.587123  96.916190  0.018532  -0.205377   \n",
       "3   497.538552  6.650337   90.984444  96.955813  0.035397   0.646349   \n",
       "4   483.562359  6.634325   93.566726  97.205040  0.044921   2.629261   \n",
       "..         ...       ...         ...        ...       ...        ...   \n",
       "68  463.937004  2.558988   73.735099   0.000000  0.051310  18.909385   \n",
       "69  399.002322  2.619762   70.125784   0.000000  0.022163  21.503144   \n",
       "70  363.941905  2.529940   74.134107   0.000000  0.018036  26.123601   \n",
       "71  329.115833  2.521071   80.925402   0.000000  0.179508  24.499866   \n",
       "72  296.793631  2.559940   80.259107   0.000000  0.069821  25.805655   \n",
       "\n",
       "           TI         TL          WD         WS  growLength  flowerTop  \\\n",
       "0   13.705495   2.317982   50.623234  42.811071    0.000000  21.750000   \n",
       "1   16.408155   5.429140  106.135198   1.911647   13.750000  18.375000   \n",
       "2   16.056726   5.095575  113.552242   1.917937    4.000000  23.375000   \n",
       "3   16.237738   5.097083  129.812302   1.837440   17.125000  28.937500   \n",
       "4   16.126481   5.165720  137.100013   1.819652   89.083333  24.358333   \n",
       "..        ...        ...         ...        ...         ...        ...   \n",
       "68  21.812937  33.000000    4.627884   1.333307    0.583333   0.000000   \n",
       "69  23.382624  33.354037    5.294480   1.170039    1.325000  10.362500   \n",
       "70  26.655982  90.000000    5.086696   1.140103    0.000000   0.000000   \n",
       "71  26.516548  90.000000    5.351146   1.147639    0.000000   0.000000   \n",
       "72  26.647083  90.000000    4.572500   1.341538    1.000000   0.000000   \n",
       "\n",
       "    stemDiameter  leavesLength  leavesWidth  leavesNum  flowerPosition  \\\n",
       "0      10.125000     42.125000    40.250000  11.750000          7.0250   \n",
       "1      10.225000     41.250000    39.000000  12.500000          7.0250   \n",
       "2      10.581250     41.875000    40.625000  13.000000          6.1500   \n",
       "3      11.431250     42.500000    40.875000  13.875000          6.5625   \n",
       "4       9.894167     40.233333    36.258333  15.000000          9.0500   \n",
       "..           ...           ...          ...        ...             ...   \n",
       "68      9.991667     39.416667    34.000000   9.500000          0.0000   \n",
       "69      5.328750     25.962500    22.725000  16.250000          4.9625   \n",
       "70     10.405833     41.916667    34.833333   8.506667          0.0000   \n",
       "71      0.000000     11.250000     8.250000  18.750000          9.0050   \n",
       "72     10.501667     39.416667    31.666667   6.750000          0.0000   \n",
       "\n",
       "    fruitsPosition  fruitsNum  \n",
       "0         5.200000  15.250000  \n",
       "1         5.350000  15.500000  \n",
       "2         4.812500  14.250000  \n",
       "3         5.050000  15.000000  \n",
       "4         3.825000  11.416667  \n",
       "..             ...        ...  \n",
       "68       11.416667  25.250000  \n",
       "69       22.207500  54.000000  \n",
       "70       11.500000  15.833333  \n",
       "71        8.105000   4.000000  \n",
       "72       11.500000   7.666667  \n",
       "\n",
       "[73 rows x 19 columns]"
      ]
     },
     "execution_count": 338,
     "metadata": {},
     "output_type": "execute_result"
    }
   ],
   "source": [
    "env_cultivate_mean_data = pd.concat([target_env_mean, target_cultivate_mean], axis=1)\n",
    "env_cultivate_mean_data"
   ]
  },
  {
   "cell_type": "code",
   "execution_count": 343,
   "metadata": {},
   "outputs": [],
   "source": [
    "def minmax(series, code):\n",
    "    maxval = env_cultivate_mean_data[code].max()\n",
    "    minval = env_cultivate_mean_data[code].min()\n",
    "    return (series-minval)/(maxval-minval)\n",
    "\n",
    "env_cultivate_mean_data_minmax = env_cultivate_mean_data.copy()\n",
    "minmax_list=list(env_cultivate_mean_data.columns)\n",
    "minmax_list.remove('leavesLength')\n",
    "minmax_list.remove('fruitsNum')\n",
    "\n",
    "for code in minmax_list:\n",
    "    env_cultivate_mean_data_minmax[code]=env_cultivate_mean_data_minmax[code].agg(minmax, code=code)"
   ]
  },
  {
   "cell_type": "code",
   "execution_count": 344,
   "metadata": {},
   "outputs": [
    {
     "data": {
      "text/html": [
       "<div>\n",
       "<style scoped>\n",
       "    .dataframe tbody tr th:only-of-type {\n",
       "        vertical-align: middle;\n",
       "    }\n",
       "\n",
       "    .dataframe tbody tr th {\n",
       "        vertical-align: top;\n",
       "    }\n",
       "\n",
       "    .dataframe thead th {\n",
       "        text-align: right;\n",
       "    }\n",
       "</style>\n",
       "<table border=\"1\" class=\"dataframe\">\n",
       "  <thead>\n",
       "    <tr style=\"text-align: right;\">\n",
       "      <th></th>\n",
       "      <th>CI</th>\n",
       "      <th>EL</th>\n",
       "      <th>HI</th>\n",
       "      <th>HL</th>\n",
       "      <th>RP</th>\n",
       "      <th>TE</th>\n",
       "      <th>TI</th>\n",
       "      <th>TL</th>\n",
       "      <th>WD</th>\n",
       "      <th>WS</th>\n",
       "      <th>growLength</th>\n",
       "      <th>flowerTop</th>\n",
       "      <th>stemDiameter</th>\n",
       "      <th>leavesLength</th>\n",
       "      <th>leavesWidth</th>\n",
       "      <th>leavesNum</th>\n",
       "      <th>flowerPosition</th>\n",
       "      <th>fruitsPosition</th>\n",
       "      <th>fruitsNum</th>\n",
       "    </tr>\n",
       "  </thead>\n",
       "  <tbody>\n",
       "    <tr>\n",
       "      <th>0</th>\n",
       "      <td>0.393531</td>\n",
       "      <td>0.480999</td>\n",
       "      <td>1.000000</td>\n",
       "      <td>0.568643</td>\n",
       "      <td>0.018794</td>\n",
       "      <td>0.175272</td>\n",
       "      <td>0.088176</td>\n",
       "      <td>0.033368</td>\n",
       "      <td>0.098633</td>\n",
       "      <td>1.000000</td>\n",
       "      <td>0.000000</td>\n",
       "      <td>0.746781</td>\n",
       "      <td>0.606439</td>\n",
       "      <td>42.125000</td>\n",
       "      <td>0.962406</td>\n",
       "      <td>0.362694</td>\n",
       "      <td>0.348246</td>\n",
       "      <td>0.065606</td>\n",
       "      <td>15.250000</td>\n",
       "    </tr>\n",
       "    <tr>\n",
       "      <th>1</th>\n",
       "      <td>0.515118</td>\n",
       "      <td>0.673581</td>\n",
       "      <td>0.280505</td>\n",
       "      <td>0.996909</td>\n",
       "      <td>0.000117</td>\n",
       "      <td>0.105929</td>\n",
       "      <td>0.264831</td>\n",
       "      <td>0.067667</td>\n",
       "      <td>0.216820</td>\n",
       "      <td>0.040451</td>\n",
       "      <td>0.069909</td>\n",
       "      <td>0.630901</td>\n",
       "      <td>0.612428</td>\n",
       "      <td>41.250000</td>\n",
       "      <td>0.924812</td>\n",
       "      <td>0.409326</td>\n",
       "      <td>0.348246</td>\n",
       "      <td>0.068199</td>\n",
       "      <td>15.500000</td>\n",
       "    </tr>\n",
       "    <tr>\n",
       "      <th>2</th>\n",
       "      <td>0.566465</td>\n",
       "      <td>0.674161</td>\n",
       "      <td>0.267535</td>\n",
       "      <td>0.996506</td>\n",
       "      <td>0.000050</td>\n",
       "      <td>0.000000</td>\n",
       "      <td>0.241860</td>\n",
       "      <td>0.063989</td>\n",
       "      <td>0.232611</td>\n",
       "      <td>0.040599</td>\n",
       "      <td>0.020337</td>\n",
       "      <td>0.802575</td>\n",
       "      <td>0.633766</td>\n",
       "      <td>41.875000</td>\n",
       "      <td>0.973684</td>\n",
       "      <td>0.440415</td>\n",
       "      <td>0.304870</td>\n",
       "      <td>0.058908</td>\n",
       "      <td>14.250000</td>\n",
       "    </tr>\n",
       "    <tr>\n",
       "      <th>3</th>\n",
       "      <td>0.545208</td>\n",
       "      <td>0.673294</td>\n",
       "      <td>0.283574</td>\n",
       "      <td>0.996914</td>\n",
       "      <td>0.000096</td>\n",
       "      <td>0.031323</td>\n",
       "      <td>0.253692</td>\n",
       "      <td>0.064006</td>\n",
       "      <td>0.267229</td>\n",
       "      <td>0.038710</td>\n",
       "      <td>0.087069</td>\n",
       "      <td>0.993562</td>\n",
       "      <td>0.684677</td>\n",
       "      <td>42.500000</td>\n",
       "      <td>0.981203</td>\n",
       "      <td>0.494819</td>\n",
       "      <td>0.325319</td>\n",
       "      <td>0.063013</td>\n",
       "      <td>15.000000</td>\n",
       "    </tr>\n",
       "    <tr>\n",
       "      <th>4</th>\n",
       "      <td>0.513880</td>\n",
       "      <td>0.671672</td>\n",
       "      <td>0.313216</td>\n",
       "      <td>0.999476</td>\n",
       "      <td>0.000122</td>\n",
       "      <td>0.104247</td>\n",
       "      <td>0.246420</td>\n",
       "      <td>0.064763</td>\n",
       "      <td>0.282745</td>\n",
       "      <td>0.038293</td>\n",
       "      <td>0.452928</td>\n",
       "      <td>0.836338</td>\n",
       "      <td>0.592613</td>\n",
       "      <td>40.233333</td>\n",
       "      <td>0.842356</td>\n",
       "      <td>0.564767</td>\n",
       "      <td>0.448631</td>\n",
       "      <td>0.041839</td>\n",
       "      <td>11.416667</td>\n",
       "    </tr>\n",
       "    <tr>\n",
       "      <th>...</th>\n",
       "      <td>...</td>\n",
       "      <td>...</td>\n",
       "      <td>...</td>\n",
       "      <td>...</td>\n",
       "      <td>...</td>\n",
       "      <td>...</td>\n",
       "      <td>...</td>\n",
       "      <td>...</td>\n",
       "      <td>...</td>\n",
       "      <td>...</td>\n",
       "      <td>...</td>\n",
       "      <td>...</td>\n",
       "      <td>...</td>\n",
       "      <td>...</td>\n",
       "      <td>...</td>\n",
       "      <td>...</td>\n",
       "      <td>...</td>\n",
       "      <td>...</td>\n",
       "      <td>...</td>\n",
       "    </tr>\n",
       "    <tr>\n",
       "      <th>68</th>\n",
       "      <td>0.469890</td>\n",
       "      <td>0.259077</td>\n",
       "      <td>0.085571</td>\n",
       "      <td>0.000000</td>\n",
       "      <td>0.000140</td>\n",
       "      <td>0.702968</td>\n",
       "      <td>0.618106</td>\n",
       "      <td>0.371616</td>\n",
       "      <td>0.000708</td>\n",
       "      <td>0.026883</td>\n",
       "      <td>0.002966</td>\n",
       "      <td>0.000000</td>\n",
       "      <td>0.598453</td>\n",
       "      <td>39.416667</td>\n",
       "      <td>0.774436</td>\n",
       "      <td>0.222798</td>\n",
       "      <td>0.000000</td>\n",
       "      <td>0.173062</td>\n",
       "      <td>25.250000</td>\n",
       "    </tr>\n",
       "    <tr>\n",
       "      <th>69</th>\n",
       "      <td>0.324339</td>\n",
       "      <td>0.265230</td>\n",
       "      <td>0.044140</td>\n",
       "      <td>0.000000</td>\n",
       "      <td>0.000060</td>\n",
       "      <td>0.798357</td>\n",
       "      <td>0.720706</td>\n",
       "      <td>0.375519</td>\n",
       "      <td>0.002127</td>\n",
       "      <td>0.023052</td>\n",
       "      <td>0.006737</td>\n",
       "      <td>0.355794</td>\n",
       "      <td>0.319166</td>\n",
       "      <td>25.962500</td>\n",
       "      <td>0.435338</td>\n",
       "      <td>0.642487</td>\n",
       "      <td>0.246003</td>\n",
       "      <td>0.359584</td>\n",
       "      <td>54.000000</td>\n",
       "    </tr>\n",
       "    <tr>\n",
       "      <th>70</th>\n",
       "      <td>0.245751</td>\n",
       "      <td>0.256136</td>\n",
       "      <td>0.090151</td>\n",
       "      <td>0.000000</td>\n",
       "      <td>0.000049</td>\n",
       "      <td>0.968279</td>\n",
       "      <td>0.934664</td>\n",
       "      <td>1.000000</td>\n",
       "      <td>0.001685</td>\n",
       "      <td>0.022350</td>\n",
       "      <td>0.000000</td>\n",
       "      <td>0.000000</td>\n",
       "      <td>0.623259</td>\n",
       "      <td>41.916667</td>\n",
       "      <td>0.799499</td>\n",
       "      <td>0.161036</td>\n",
       "      <td>0.000000</td>\n",
       "      <td>0.174503</td>\n",
       "      <td>15.833333</td>\n",
       "    </tr>\n",
       "    <tr>\n",
       "      <th>71</th>\n",
       "      <td>0.167688</td>\n",
       "      <td>0.255238</td>\n",
       "      <td>0.168108</td>\n",
       "      <td>0.000000</td>\n",
       "      <td>0.000489</td>\n",
       "      <td>0.908565</td>\n",
       "      <td>0.925550</td>\n",
       "      <td>1.000000</td>\n",
       "      <td>0.002248</td>\n",
       "      <td>0.022527</td>\n",
       "      <td>0.000000</td>\n",
       "      <td>0.000000</td>\n",
       "      <td>0.000000</td>\n",
       "      <td>11.250000</td>\n",
       "      <td>0.000000</td>\n",
       "      <td>0.797927</td>\n",
       "      <td>0.446400</td>\n",
       "      <td>0.115819</td>\n",
       "      <td>4.000000</td>\n",
       "    </tr>\n",
       "    <tr>\n",
       "      <th>72</th>\n",
       "      <td>0.095238</td>\n",
       "      <td>0.259174</td>\n",
       "      <td>0.160459</td>\n",
       "      <td>0.000000</td>\n",
       "      <td>0.000190</td>\n",
       "      <td>0.956587</td>\n",
       "      <td>0.934082</td>\n",
       "      <td>1.000000</td>\n",
       "      <td>0.000590</td>\n",
       "      <td>0.027076</td>\n",
       "      <td>0.005084</td>\n",
       "      <td>0.000000</td>\n",
       "      <td>0.628999</td>\n",
       "      <td>39.416667</td>\n",
       "      <td>0.704261</td>\n",
       "      <td>0.051813</td>\n",
       "      <td>0.000000</td>\n",
       "      <td>0.174503</td>\n",
       "      <td>7.666667</td>\n",
       "    </tr>\n",
       "  </tbody>\n",
       "</table>\n",
       "<p>73 rows × 19 columns</p>\n",
       "</div>"
      ],
      "text/plain": [
       "          CI        EL        HI        HL        RP        TE        TI  \\\n",
       "0   0.393531  0.480999  1.000000  0.568643  0.018794  0.175272  0.088176   \n",
       "1   0.515118  0.673581  0.280505  0.996909  0.000117  0.105929  0.264831   \n",
       "2   0.566465  0.674161  0.267535  0.996506  0.000050  0.000000  0.241860   \n",
       "3   0.545208  0.673294  0.283574  0.996914  0.000096  0.031323  0.253692   \n",
       "4   0.513880  0.671672  0.313216  0.999476  0.000122  0.104247  0.246420   \n",
       "..       ...       ...       ...       ...       ...       ...       ...   \n",
       "68  0.469890  0.259077  0.085571  0.000000  0.000140  0.702968  0.618106   \n",
       "69  0.324339  0.265230  0.044140  0.000000  0.000060  0.798357  0.720706   \n",
       "70  0.245751  0.256136  0.090151  0.000000  0.000049  0.968279  0.934664   \n",
       "71  0.167688  0.255238  0.168108  0.000000  0.000489  0.908565  0.925550   \n",
       "72  0.095238  0.259174  0.160459  0.000000  0.000190  0.956587  0.934082   \n",
       "\n",
       "          TL        WD        WS  growLength  flowerTop  stemDiameter  \\\n",
       "0   0.033368  0.098633  1.000000    0.000000   0.746781      0.606439   \n",
       "1   0.067667  0.216820  0.040451    0.069909   0.630901      0.612428   \n",
       "2   0.063989  0.232611  0.040599    0.020337   0.802575      0.633766   \n",
       "3   0.064006  0.267229  0.038710    0.087069   0.993562      0.684677   \n",
       "4   0.064763  0.282745  0.038293    0.452928   0.836338      0.592613   \n",
       "..       ...       ...       ...         ...        ...           ...   \n",
       "68  0.371616  0.000708  0.026883    0.002966   0.000000      0.598453   \n",
       "69  0.375519  0.002127  0.023052    0.006737   0.355794      0.319166   \n",
       "70  1.000000  0.001685  0.022350    0.000000   0.000000      0.623259   \n",
       "71  1.000000  0.002248  0.022527    0.000000   0.000000      0.000000   \n",
       "72  1.000000  0.000590  0.027076    0.005084   0.000000      0.628999   \n",
       "\n",
       "    leavesLength  leavesWidth  leavesNum  flowerPosition  fruitsPosition  \\\n",
       "0      42.125000     0.962406   0.362694        0.348246        0.065606   \n",
       "1      41.250000     0.924812   0.409326        0.348246        0.068199   \n",
       "2      41.875000     0.973684   0.440415        0.304870        0.058908   \n",
       "3      42.500000     0.981203   0.494819        0.325319        0.063013   \n",
       "4      40.233333     0.842356   0.564767        0.448631        0.041839   \n",
       "..           ...          ...        ...             ...             ...   \n",
       "68     39.416667     0.774436   0.222798        0.000000        0.173062   \n",
       "69     25.962500     0.435338   0.642487        0.246003        0.359584   \n",
       "70     41.916667     0.799499   0.161036        0.000000        0.174503   \n",
       "71     11.250000     0.000000   0.797927        0.446400        0.115819   \n",
       "72     39.416667     0.704261   0.051813        0.000000        0.174503   \n",
       "\n",
       "    fruitsNum  \n",
       "0   15.250000  \n",
       "1   15.500000  \n",
       "2   14.250000  \n",
       "3   15.000000  \n",
       "4   11.416667  \n",
       "..        ...  \n",
       "68  25.250000  \n",
       "69  54.000000  \n",
       "70  15.833333  \n",
       "71   4.000000  \n",
       "72   7.666667  \n",
       "\n",
       "[73 rows x 19 columns]"
      ]
     },
     "execution_count": 344,
     "metadata": {},
     "output_type": "execute_result"
    }
   ],
   "source": [
    "env_cultivate_mean_data_minmax"
   ]
  },
  {
   "cell_type": "markdown",
   "metadata": {},
   "source": [
    "## env_cultivate_mean_data_minmax를 이용한 예측 모델\n",
    "1. 주별 전처리 후 train/test 분리 x\n",
    "2. 주별 전처리(농가 별) 후 train/test 분리\n",
    "3. 일별 전처리"
   ]
  },
  {
   "cell_type": "code",
   "execution_count": 347,
   "metadata": {},
   "outputs": [],
   "source": [
    "columns=list(env_cultivate_mean_data_minmax.columns)\n",
    "columns.remove('leavesLength')\n",
    "columns.remove('fruitsNum')"
   ]
  },
  {
   "cell_type": "code",
   "execution_count": 434,
   "metadata": {},
   "outputs": [],
   "source": [
    "def printScores(model, x, y):\n",
    "    print(\"R^2: \",model.score(x, y))\n",
    "    cv = RepeatedKFold(n_splits=10, n_repeats=3, random_state=1)\n",
    "    mae = cross_val_score(model, x, y, scoring='neg_mean_absolute_error', cv=cv, n_jobs=-1)\n",
    "    mae = np.absolute(mae)\n",
    "    rmse = cross_val_score(model, x, y, scoring='neg_root_mean_squared_error', cv=cv, n_jobs=-1)\n",
    "    rmse = np.absolute(rmse)\n",
    "    print('Mean MAE: %.3f (%.3f)' % (mean(mae), std(mae)))\n",
    "    print('Mean RMSE: %.3f' % (mean(rmse)))"
   ]
  },
  {
   "cell_type": "code",
   "execution_count": 333,
   "metadata": {
    "scrolled": true
   },
   "outputs": [
    {
     "data": {
      "text/plain": [
       "['accuracy',\n",
       " 'adjusted_mutual_info_score',\n",
       " 'adjusted_rand_score',\n",
       " 'average_precision',\n",
       " 'balanced_accuracy',\n",
       " 'completeness_score',\n",
       " 'explained_variance',\n",
       " 'f1',\n",
       " 'f1_macro',\n",
       " 'f1_micro',\n",
       " 'f1_samples',\n",
       " 'f1_weighted',\n",
       " 'fowlkes_mallows_score',\n",
       " 'homogeneity_score',\n",
       " 'jaccard',\n",
       " 'jaccard_macro',\n",
       " 'jaccard_micro',\n",
       " 'jaccard_samples',\n",
       " 'jaccard_weighted',\n",
       " 'max_error',\n",
       " 'mutual_info_score',\n",
       " 'neg_brier_score',\n",
       " 'neg_log_loss',\n",
       " 'neg_mean_absolute_error',\n",
       " 'neg_mean_gamma_deviance',\n",
       " 'neg_mean_poisson_deviance',\n",
       " 'neg_mean_squared_error',\n",
       " 'neg_mean_squared_log_error',\n",
       " 'neg_median_absolute_error',\n",
       " 'neg_root_mean_squared_error',\n",
       " 'normalized_mutual_info_score',\n",
       " 'precision',\n",
       " 'precision_macro',\n",
       " 'precision_micro',\n",
       " 'precision_samples',\n",
       " 'precision_weighted',\n",
       " 'r2',\n",
       " 'recall',\n",
       " 'recall_macro',\n",
       " 'recall_micro',\n",
       " 'recall_samples',\n",
       " 'recall_weighted',\n",
       " 'roc_auc',\n",
       " 'roc_auc_ovo',\n",
       " 'roc_auc_ovo_weighted',\n",
       " 'roc_auc_ovr',\n",
       " 'roc_auc_ovr_weighted',\n",
       " 'v_measure_score']"
      ]
     },
     "execution_count": 333,
     "metadata": {},
     "output_type": "execute_result"
    }
   ],
   "source": [
    "#scoring options\n",
    "import sklearn\n",
    "sorted(sklearn.metrics.SCORERS.keys())"
   ]
  },
  {
   "cell_type": "markdown",
   "metadata": {},
   "source": [
    "### 1. OLS(statsmodels.OLS)"
   ]
  },
  {
   "cell_type": "code",
   "execution_count": 547,
   "metadata": {
    "scrolled": true
   },
   "outputs": [
    {
     "data": {
      "text/html": [
       "<table class=\"simpletable\">\n",
       "<caption>OLS Regression Results</caption>\n",
       "<tr>\n",
       "  <th>Dep. Variable:</th>      <td>leavesLength</td>   <th>  R-squared (uncentered):</th>      <td>   0.996</td>\n",
       "</tr>\n",
       "<tr>\n",
       "  <th>Model:</th>                   <td>OLS</td>       <th>  Adj. R-squared (uncentered):</th> <td>   0.995</td>\n",
       "</tr>\n",
       "<tr>\n",
       "  <th>Method:</th>             <td>Least Squares</td>  <th>  F-statistic:       </th>          <td>   959.0</td>\n",
       "</tr>\n",
       "<tr>\n",
       "  <th>Date:</th>             <td>Fri, 20 Nov 2020</td> <th>  Prob (F-statistic):</th>          <td>3.64e-63</td>\n",
       "</tr>\n",
       "<tr>\n",
       "  <th>Time:</th>                 <td>06:40:36</td>     <th>  Log-Likelihood:    </th>          <td> -161.41</td>\n",
       "</tr>\n",
       "<tr>\n",
       "  <th>No. Observations:</th>      <td>    73</td>      <th>  AIC:               </th>          <td>   354.8</td>\n",
       "</tr>\n",
       "<tr>\n",
       "  <th>Df Residuals:</th>          <td>    57</td>      <th>  BIC:               </th>          <td>   391.5</td>\n",
       "</tr>\n",
       "<tr>\n",
       "  <th>Df Model:</th>              <td>    16</td>      <th>                     </th>              <td> </td>   \n",
       "</tr>\n",
       "<tr>\n",
       "  <th>Covariance Type:</th>      <td>nonrobust</td>    <th>                     </th>              <td> </td>   \n",
       "</tr>\n",
       "</table>\n",
       "<table class=\"simpletable\">\n",
       "<tr>\n",
       "         <td></td>           <th>coef</th>     <th>std err</th>      <th>t</th>      <th>P>|t|</th>  <th>[0.025</th>    <th>0.975]</th>  \n",
       "</tr>\n",
       "<tr>\n",
       "  <th>CI</th>             <td>    6.9950</td> <td>    2.415</td> <td>    2.897</td> <td> 0.005</td> <td>    2.160</td> <td>   11.830</td>\n",
       "</tr>\n",
       "<tr>\n",
       "  <th>EL</th>             <td>   -7.0209</td> <td>    2.901</td> <td>   -2.420</td> <td> 0.019</td> <td>  -12.830</td> <td>   -1.212</td>\n",
       "</tr>\n",
       "<tr>\n",
       "  <th>HI</th>             <td>   -4.0279</td> <td>    6.715</td> <td>   -0.600</td> <td> 0.551</td> <td>  -17.475</td> <td>    9.419</td>\n",
       "</tr>\n",
       "<tr>\n",
       "  <th>HL</th>             <td>    5.0123</td> <td>    3.532</td> <td>    1.419</td> <td> 0.161</td> <td>   -2.060</td> <td>   12.085</td>\n",
       "</tr>\n",
       "<tr>\n",
       "  <th>RP</th>             <td>   -7.6899</td> <td>    6.564</td> <td>   -1.172</td> <td> 0.246</td> <td>  -20.834</td> <td>    5.454</td>\n",
       "</tr>\n",
       "<tr>\n",
       "  <th>TE</th>             <td>   12.3581</td> <td>    3.330</td> <td>    3.711</td> <td> 0.000</td> <td>    5.690</td> <td>   19.026</td>\n",
       "</tr>\n",
       "<tr>\n",
       "  <th>TI</th>             <td>   -7.2120</td> <td>    4.266</td> <td>   -1.690</td> <td> 0.096</td> <td>  -15.755</td> <td>    1.331</td>\n",
       "</tr>\n",
       "<tr>\n",
       "  <th>TL</th>             <td>    5.9858</td> <td>    2.925</td> <td>    2.046</td> <td> 0.045</td> <td>    0.128</td> <td>   11.844</td>\n",
       "</tr>\n",
       "<tr>\n",
       "  <th>WD</th>             <td>   10.9095</td> <td>    7.727</td> <td>    1.412</td> <td> 0.163</td> <td>   -4.564</td> <td>   26.383</td>\n",
       "</tr>\n",
       "<tr>\n",
       "  <th>WS</th>             <td>    4.7385</td> <td>    6.529</td> <td>    0.726</td> <td> 0.471</td> <td>   -8.336</td> <td>   17.813</td>\n",
       "</tr>\n",
       "<tr>\n",
       "  <th>growLength</th>     <td>    2.3541</td> <td>    1.961</td> <td>    1.201</td> <td> 0.235</td> <td>   -1.572</td> <td>    6.281</td>\n",
       "</tr>\n",
       "<tr>\n",
       "  <th>flowerTop</th>      <td>   -2.2333</td> <td>    1.970</td> <td>   -1.134</td> <td> 0.262</td> <td>   -6.178</td> <td>    1.711</td>\n",
       "</tr>\n",
       "<tr>\n",
       "  <th>stemDiameter</th>   <td>   15.0096</td> <td>    3.424</td> <td>    4.384</td> <td> 0.000</td> <td>    8.154</td> <td>   21.866</td>\n",
       "</tr>\n",
       "<tr>\n",
       "  <th>leavesWidth</th>    <td>   26.1293</td> <td>    2.899</td> <td>    9.013</td> <td> 0.000</td> <td>   20.324</td> <td>   31.935</td>\n",
       "</tr>\n",
       "<tr>\n",
       "  <th>leavesNum</th>      <td>    4.3028</td> <td>    1.788</td> <td>    2.407</td> <td> 0.019</td> <td>    0.723</td> <td>    7.883</td>\n",
       "</tr>\n",
       "<tr>\n",
       "  <th>flowerPosition</th> <td>    7.9929</td> <td>    2.209</td> <td>    3.619</td> <td> 0.001</td> <td>    3.570</td> <td>   12.416</td>\n",
       "</tr>\n",
       "</table>\n",
       "<table class=\"simpletable\">\n",
       "<tr>\n",
       "  <th>Omnibus:</th>       <td> 2.337</td> <th>  Durbin-Watson:     </th> <td>   2.324</td>\n",
       "</tr>\n",
       "<tr>\n",
       "  <th>Prob(Omnibus):</th> <td> 0.311</td> <th>  Jarque-Bera (JB):  </th> <td>   1.607</td>\n",
       "</tr>\n",
       "<tr>\n",
       "  <th>Skew:</th>          <td> 0.306</td> <th>  Prob(JB):          </th> <td>   0.448</td>\n",
       "</tr>\n",
       "<tr>\n",
       "  <th>Kurtosis:</th>      <td> 3.392</td> <th>  Cond. No.          </th> <td>    60.6</td>\n",
       "</tr>\n",
       "</table><br/><br/>Notes:<br/>[1] R² is computed without centering (uncentered) since the model does not contain a constant.<br/>[2] Standard Errors assume that the covariance matrix of the errors is correctly specified."
      ],
      "text/plain": [
       "<class 'statsmodels.iolib.summary.Summary'>\n",
       "\"\"\"\n",
       "                                 OLS Regression Results                                \n",
       "=======================================================================================\n",
       "Dep. Variable:           leavesLength   R-squared (uncentered):                   0.996\n",
       "Model:                            OLS   Adj. R-squared (uncentered):              0.995\n",
       "Method:                 Least Squares   F-statistic:                              959.0\n",
       "Date:                Fri, 20 Nov 2020   Prob (F-statistic):                    3.64e-63\n",
       "Time:                        06:40:36   Log-Likelihood:                         -161.41\n",
       "No. Observations:                  73   AIC:                                      354.8\n",
       "Df Residuals:                      57   BIC:                                      391.5\n",
       "Df Model:                          16                                                  \n",
       "Covariance Type:            nonrobust                                                  \n",
       "==================================================================================\n",
       "                     coef    std err          t      P>|t|      [0.025      0.975]\n",
       "----------------------------------------------------------------------------------\n",
       "CI                 6.9950      2.415      2.897      0.005       2.160      11.830\n",
       "EL                -7.0209      2.901     -2.420      0.019     -12.830      -1.212\n",
       "HI                -4.0279      6.715     -0.600      0.551     -17.475       9.419\n",
       "HL                 5.0123      3.532      1.419      0.161      -2.060      12.085\n",
       "RP                -7.6899      6.564     -1.172      0.246     -20.834       5.454\n",
       "TE                12.3581      3.330      3.711      0.000       5.690      19.026\n",
       "TI                -7.2120      4.266     -1.690      0.096     -15.755       1.331\n",
       "TL                 5.9858      2.925      2.046      0.045       0.128      11.844\n",
       "WD                10.9095      7.727      1.412      0.163      -4.564      26.383\n",
       "WS                 4.7385      6.529      0.726      0.471      -8.336      17.813\n",
       "growLength         2.3541      1.961      1.201      0.235      -1.572       6.281\n",
       "flowerTop         -2.2333      1.970     -1.134      0.262      -6.178       1.711\n",
       "stemDiameter      15.0096      3.424      4.384      0.000       8.154      21.866\n",
       "leavesWidth       26.1293      2.899      9.013      0.000      20.324      31.935\n",
       "leavesNum          4.3028      1.788      2.407      0.019       0.723       7.883\n",
       "flowerPosition     7.9929      2.209      3.619      0.001       3.570      12.416\n",
       "==============================================================================\n",
       "Omnibus:                        2.337   Durbin-Watson:                   2.324\n",
       "Prob(Omnibus):                  0.311   Jarque-Bera (JB):                1.607\n",
       "Skew:                           0.306   Prob(JB):                        0.448\n",
       "Kurtosis:                       3.392   Cond. No.                         60.6\n",
       "==============================================================================\n",
       "\n",
       "Notes:\n",
       "[1] R² is computed without centering (uncentered) since the model does not contain a constant.\n",
       "[2] Standard Errors assume that the covariance matrix of the errors is correctly specified.\n",
       "\"\"\""
      ]
     },
     "execution_count": 547,
     "metadata": {},
     "output_type": "execute_result"
    }
   ],
   "source": [
    "import statsmodels.api as sm\n",
    "\n",
    "x=env_cultivate_mean_data_minmax[columns[:-1]]\n",
    "y=env_cultivate_mean_data_minmax['leavesLength']\n",
    "model = sm.OLS(y, x).fit()\n",
    "model.summary()"
   ]
  },
  {
   "cell_type": "code",
   "execution_count": 548,
   "metadata": {},
   "outputs": [
    {
     "data": {
      "image/png": "[encoded data removed]",
      "text/plain": [
       "<Figure size 432x288 with 1 Axes>"
      ]
     },
     "metadata": {
      "needs_background": "light"
     },
     "output_type": "display_data"
    }
   ],
   "source": [
    "plt.plot(model.predict(x), y, '.')\n",
    "plt.plot([15,50],[15,50], alpha=0.5);"
   ]
  },
  {
   "cell_type": "code",
   "execution_count": 523,
   "metadata": {
    "scrolled": true
   },
   "outputs": [
    {
     "data": {
      "text/html": [
       "<table class=\"simpletable\">\n",
       "<caption>OLS Regression Results</caption>\n",
       "<tr>\n",
       "  <th>Dep. Variable:</th>        <td>fruitsNum</td>    <th>  R-squared (uncentered):</th>      <td>   0.895</td>\n",
       "</tr>\n",
       "<tr>\n",
       "  <th>Model:</th>                   <td>OLS</td>       <th>  Adj. R-squared (uncentered):</th> <td>   0.866</td>\n",
       "</tr>\n",
       "<tr>\n",
       "  <th>Method:</th>             <td>Least Squares</td>  <th>  F-statistic:       </th>          <td>   30.39</td>\n",
       "</tr>\n",
       "<tr>\n",
       "  <th>Date:</th>             <td>Fri, 20 Nov 2020</td> <th>  Prob (F-statistic):</th>          <td>4.41e-22</td>\n",
       "</tr>\n",
       "<tr>\n",
       "  <th>Time:</th>                 <td>06:38:33</td>     <th>  Log-Likelihood:    </th>          <td> -291.88</td>\n",
       "</tr>\n",
       "<tr>\n",
       "  <th>No. Observations:</th>      <td>    73</td>      <th>  AIC:               </th>          <td>   615.8</td>\n",
       "</tr>\n",
       "<tr>\n",
       "  <th>Df Residuals:</th>          <td>    57</td>      <th>  BIC:               </th>          <td>   652.4</td>\n",
       "</tr>\n",
       "<tr>\n",
       "  <th>Df Model:</th>              <td>    16</td>      <th>                     </th>              <td> </td>   \n",
       "</tr>\n",
       "<tr>\n",
       "  <th>Covariance Type:</th>      <td>nonrobust</td>    <th>                     </th>              <td> </td>   \n",
       "</tr>\n",
       "</table>\n",
       "<table class=\"simpletable\">\n",
       "<tr>\n",
       "         <td></td>           <th>coef</th>     <th>std err</th>      <th>t</th>      <th>P>|t|</th>  <th>[0.025</th>    <th>0.975]</th>  \n",
       "</tr>\n",
       "<tr>\n",
       "  <th>CI</th>             <td>   36.8994</td> <td>   14.421</td> <td>    2.559</td> <td> 0.013</td> <td>    8.022</td> <td>   65.777</td>\n",
       "</tr>\n",
       "<tr>\n",
       "  <th>EL</th>             <td>  -37.1248</td> <td>   17.326</td> <td>   -2.143</td> <td> 0.036</td> <td>  -71.819</td> <td>   -2.431</td>\n",
       "</tr>\n",
       "<tr>\n",
       "  <th>HI</th>             <td>   11.4531</td> <td>   40.107</td> <td>    0.286</td> <td> 0.776</td> <td>  -68.860</td> <td>   91.766</td>\n",
       "</tr>\n",
       "<tr>\n",
       "  <th>HL</th>             <td>   15.8295</td> <td>   21.094</td> <td>    0.750</td> <td> 0.456</td> <td>  -26.411</td> <td>   58.069</td>\n",
       "</tr>\n",
       "<tr>\n",
       "  <th>RP</th>             <td>   75.8198</td> <td>   39.203</td> <td>    1.934</td> <td> 0.058</td> <td>   -2.683</td> <td>  154.322</td>\n",
       "</tr>\n",
       "<tr>\n",
       "  <th>TE</th>             <td>   31.3875</td> <td>   19.887</td> <td>    1.578</td> <td> 0.120</td> <td>   -8.435</td> <td>   71.210</td>\n",
       "</tr>\n",
       "<tr>\n",
       "  <th>TI</th>             <td>  -10.3162</td> <td>   25.481</td> <td>   -0.405</td> <td> 0.687</td> <td>  -61.341</td> <td>   40.709</td>\n",
       "</tr>\n",
       "<tr>\n",
       "  <th>TL</th>             <td>  -23.6233</td> <td>   17.471</td> <td>   -1.352</td> <td> 0.182</td> <td>  -58.609</td> <td>   11.362</td>\n",
       "</tr>\n",
       "<tr>\n",
       "  <th>WD</th>             <td>  -83.0245</td> <td>   46.149</td> <td>   -1.799</td> <td> 0.077</td> <td> -175.437</td> <td>    9.388</td>\n",
       "</tr>\n",
       "<tr>\n",
       "  <th>WS</th>             <td>  -20.6704</td> <td>   38.994</td> <td>   -0.530</td> <td> 0.598</td> <td>  -98.755</td> <td>   57.415</td>\n",
       "</tr>\n",
       "<tr>\n",
       "  <th>growLength</th>     <td>   21.4552</td> <td>   11.711</td> <td>    1.832</td> <td> 0.072</td> <td>   -1.995</td> <td>   44.905</td>\n",
       "</tr>\n",
       "<tr>\n",
       "  <th>flowerTop</th>      <td>   -5.6250</td> <td>   11.764</td> <td>   -0.478</td> <td> 0.634</td> <td>  -29.183</td> <td>   17.933</td>\n",
       "</tr>\n",
       "<tr>\n",
       "  <th>stemDiameter</th>   <td>   55.5926</td> <td>   20.448</td> <td>    2.719</td> <td> 0.009</td> <td>   14.646</td> <td>   96.539</td>\n",
       "</tr>\n",
       "<tr>\n",
       "  <th>leavesWidth</th>    <td>  -35.1114</td> <td>   17.315</td> <td>   -2.028</td> <td> 0.047</td> <td>  -69.784</td> <td>   -0.439</td>\n",
       "</tr>\n",
       "<tr>\n",
       "  <th>leavesNum</th>      <td>   27.5344</td> <td>   10.678</td> <td>    2.579</td> <td> 0.013</td> <td>    6.153</td> <td>   48.916</td>\n",
       "</tr>\n",
       "<tr>\n",
       "  <th>flowerPosition</th> <td>   51.9247</td> <td>   13.191</td> <td>    3.936</td> <td> 0.000</td> <td>   25.510</td> <td>   78.339</td>\n",
       "</tr>\n",
       "</table>\n",
       "<table class=\"simpletable\">\n",
       "<tr>\n",
       "  <th>Omnibus:</th>       <td> 1.493</td> <th>  Durbin-Watson:     </th> <td>   2.409</td>\n",
       "</tr>\n",
       "<tr>\n",
       "  <th>Prob(Omnibus):</th> <td> 0.474</td> <th>  Jarque-Bera (JB):  </th> <td>   0.850</td>\n",
       "</tr>\n",
       "<tr>\n",
       "  <th>Skew:</th>          <td> 0.157</td> <th>  Prob(JB):          </th> <td>   0.654</td>\n",
       "</tr>\n",
       "<tr>\n",
       "  <th>Kurtosis:</th>      <td> 3.425</td> <th>  Cond. No.          </th> <td>    60.6</td>\n",
       "</tr>\n",
       "</table><br/><br/>Notes:<br/>[1] R² is computed without centering (uncentered) since the model does not contain a constant.<br/>[2] Standard Errors assume that the covariance matrix of the errors is correctly specified."
      ],
      "text/plain": [
       "<class 'statsmodels.iolib.summary.Summary'>\n",
       "\"\"\"\n",
       "                                 OLS Regression Results                                \n",
       "=======================================================================================\n",
       "Dep. Variable:              fruitsNum   R-squared (uncentered):                   0.895\n",
       "Model:                            OLS   Adj. R-squared (uncentered):              0.866\n",
       "Method:                 Least Squares   F-statistic:                              30.39\n",
       "Date:                Fri, 20 Nov 2020   Prob (F-statistic):                    4.41e-22\n",
       "Time:                        06:38:33   Log-Likelihood:                         -291.88\n",
       "No. Observations:                  73   AIC:                                      615.8\n",
       "Df Residuals:                      57   BIC:                                      652.4\n",
       "Df Model:                          16                                                  \n",
       "Covariance Type:            nonrobust                                                  \n",
       "==================================================================================\n",
       "                     coef    std err          t      P>|t|      [0.025      0.975]\n",
       "----------------------------------------------------------------------------------\n",
       "CI                36.8994     14.421      2.559      0.013       8.022      65.777\n",
       "EL               -37.1248     17.326     -2.143      0.036     -71.819      -2.431\n",
       "HI                11.4531     40.107      0.286      0.776     -68.860      91.766\n",
       "HL                15.8295     21.094      0.750      0.456     -26.411      58.069\n",
       "RP                75.8198     39.203      1.934      0.058      -2.683     154.322\n",
       "TE                31.3875     19.887      1.578      0.120      -8.435      71.210\n",
       "TI               -10.3162     25.481     -0.405      0.687     -61.341      40.709\n",
       "TL               -23.6233     17.471     -1.352      0.182     -58.609      11.362\n",
       "WD               -83.0245     46.149     -1.799      0.077    -175.437       9.388\n",
       "WS               -20.6704     38.994     -0.530      0.598     -98.755      57.415\n",
       "growLength        21.4552     11.711      1.832      0.072      -1.995      44.905\n",
       "flowerTop         -5.6250     11.764     -0.478      0.634     -29.183      17.933\n",
       "stemDiameter      55.5926     20.448      2.719      0.009      14.646      96.539\n",
       "leavesWidth      -35.1114     17.315     -2.028      0.047     -69.784      -0.439\n",
       "leavesNum         27.5344     10.678      2.579      0.013       6.153      48.916\n",
       "flowerPosition    51.9247     13.191      3.936      0.000      25.510      78.339\n",
       "==============================================================================\n",
       "Omnibus:                        1.493   Durbin-Watson:                   2.409\n",
       "Prob(Omnibus):                  0.474   Jarque-Bera (JB):                0.850\n",
       "Skew:                           0.157   Prob(JB):                        0.654\n",
       "Kurtosis:                       3.425   Cond. No.                         60.6\n",
       "==============================================================================\n",
       "\n",
       "Notes:\n",
       "[1] R² is computed without centering (uncentered) since the model does not contain a constant.\n",
       "[2] Standard Errors assume that the covariance matrix of the errors is correctly specified.\n",
       "\"\"\""
      ]
     },
     "execution_count": 523,
     "metadata": {},
     "output_type": "execute_result"
    }
   ],
   "source": [
    "x=env_cultivate_mean_data_minmax[columns[:-1]]\n",
    "y=env_cultivate_mean_data_minmax['fruitsNum']\n",
    "model = sm.OLS(y, x).fit()\n",
    "print_model = model.summary()\n",
    "print_model"
   ]
  },
  {
   "cell_type": "code",
   "execution_count": 524,
   "metadata": {},
   "outputs": [
    {
     "data": {
      "image/png": "[encoded data removed]",
      "text/plain": [
       "<Figure size 432x288 with 1 Axes>"
      ]
     },
     "metadata": {
      "needs_background": "light"
     },
     "output_type": "display_data"
    }
   ],
   "source": [
    "plt.plot(model.predict(x), y, '.')\n",
    "plt.plot([0,90],[0,90], alpha=0.5);"
   ]
  },
  {
   "cell_type": "markdown",
   "metadata": {},
   "source": [
    "### 2. OLS(sklearn.LinearRegression)"
   ]
  },
  {
   "cell_type": "code",
   "execution_count": 557,
   "metadata": {},
   "outputs": [
    {
     "name": "stdout",
     "output_type": "stream",
     "text": [
      "R^2:  0.9003996770488487\n",
      "Mean MAE: 3.647 (3.270)\n",
      "Mean RMSE: 6.298\n"
     ]
    }
   ],
   "source": [
    "from sklearn import linear_model\n",
    "from scipy import stats\n",
    "\n",
    "X=env_cultivate_mean_data_minmax[columns[:-1]]\n",
    "y=env_cultivate_mean_data_minmax['leavesLength']\n",
    "\n",
    "lm=linear_model.LinearRegression()\n",
    "model=lm.fit(X,y)\n",
    "printScores(model, X, y)"
   ]
  },
  {
   "cell_type": "code",
   "execution_count": 558,
   "metadata": {},
   "outputs": [
    {
     "data": {
      "text/plain": [
       "array([ 2.51288408, -2.32021109, -1.58629152, -0.07255854, -6.44547135,\n",
       "        9.52303935, -6.86984008,  0.56793711,  9.90502867,  0.88670996,\n",
       "        2.51530201, -2.73036352, 14.28725448, 23.78200583,  1.76196777,\n",
       "        7.27318424])"
      ]
     },
     "execution_count": 558,
     "metadata": {},
     "output_type": "execute_result"
    }
   ],
   "source": [
    "lm.coef_"
   ]
  },
  {
   "cell_type": "code",
   "execution_count": 353,
   "metadata": {},
   "outputs": [
    {
     "name": "stdout",
     "output_type": "stream",
     "text": [
      "    Coefficients  Standard Errors  t values  Probabilities\n",
      "0         8.5988            3.521     2.442          0.018\n",
      "1         2.5129            2.955     0.850          0.399\n",
      "2        -2.3202            3.383    -0.686          0.496\n",
      "3        -1.5863            6.518    -0.243          0.809\n",
      "4        -0.0726            3.976    -0.018          0.986\n",
      "5        -6.4455            6.316    -1.020          0.312\n",
      "6         9.5230            3.398     2.803          0.007\n",
      "7        -6.8698            4.094    -1.678          0.099\n",
      "8         0.5679            3.577     0.159          0.874\n",
      "9         9.9050            7.422     1.334          0.187\n",
      "10        0.8867            6.458     0.137          0.891\n",
      "11        2.5153            1.882     1.337          0.187\n",
      "12       -2.7304            1.900    -1.437          0.156\n",
      "13       14.2873            3.297     4.333          0.000\n",
      "14       23.7820            2.942     8.084          0.000\n",
      "15        1.7620            2.006     0.879          0.383\n",
      "16        7.2732            2.139     3.401          0.001\n",
      "['CI', 'TI', 'leavesWidth', 'leavesNum', 'fruitsPosition']\n"
     ]
    }
   ],
   "source": [
    "params = np.append(lm.intercept_,lm.coef_)\n",
    "predictions = lm.predict(X)\n",
    "\n",
    "# newX = pd.DataFrame({\"Constant\":np.ones(len(X))}).join(pd.DataFrame(X))\n",
    "# MSE = (sum((y-predictions)**2))/(len(newX)-len(newX.columns))\n",
    "\n",
    "# Note if you don't want to use a DataFrame replace the two lines above with\n",
    "newX = np.append(np.ones((len(X),1)), X, axis=1)\n",
    "MSE = (sum((y-predictions)**2))/(len(newX)-len(newX[0]))\n",
    "\n",
    "var_b = MSE*(np.linalg.inv(np.dot(newX.T,newX)).diagonal())\n",
    "sd_b = np.sqrt(var_b)\n",
    "ts_b = params/ sd_b\n",
    "\n",
    "p_values =[2*(1-stats.t.cdf(np.abs(i),(len(newX)-len(newX[0])))) for i in ts_b]\n",
    "\n",
    "sd_b = np.round(sd_b,3)\n",
    "ts_b = np.round(ts_b,3)\n",
    "p_values = np.round(p_values,3)\n",
    "params = np.round(params,4)\n",
    "\n",
    "myDF3 = pd.DataFrame()\n",
    "myDF3[\"Coefficients\"],myDF3[\"Standard Errors\"],myDF3[\"t values\"],myDF3[\"Probabilities\"] = [params,sd_b,ts_b,p_values]\n",
    "print(myDF3)\n",
    "\n",
    "#결과출력\n",
    "wow=[]\n",
    "for i in range(len(p_values)):\n",
    "    if p_values[i]<=0.05:\n",
    "        wow.append(columns[i])\n",
    "print(wow)"
   ]
  },
  {
   "cell_type": "code",
   "execution_count": 546,
   "metadata": {},
   "outputs": [
    {
     "data": {
      "image/png": "[encoded data removed]",
      "text/plain": [
       "<Figure size 432x288 with 1 Axes>"
      ]
     },
     "metadata": {
      "needs_background": "light"
     },
     "output_type": "display_data"
    }
   ],
   "source": [
    "plt.plot(lm.predict(X), y, '.')\n",
    "plt.plot([15,50],[15,50], alpha=0.5);"
   ]
  },
  {
   "cell_type": "code",
   "execution_count": 527,
   "metadata": {},
   "outputs": [
    {
     "name": "stdout",
     "output_type": "stream",
     "text": [
      "R^2:  0.6335808382721407\n",
      "Mean MAE: 25.087 (24.901)\n",
      "Mean RMSE: 45.473\n"
     ]
    }
   ],
   "source": [
    "from sklearn import linear_model\n",
    "from scipy import stats\n",
    "\n",
    "X=env_cultivate_mean_data_minmax[columns[:-1]]\n",
    "y=env_cultivate_mean_data_minmax['fruitsNum']\n",
    "\n",
    "lm=linear_model.LinearRegression()\n",
    "lm.fit(X,y)\n",
    "printScores(lm, X, y)"
   ]
  },
  {
   "cell_type": "code",
   "execution_count": 355,
   "metadata": {},
   "outputs": [
    {
     "name": "stdout",
     "output_type": "stream",
     "text": [
      "    Coefficients  Standard Errors  t values  Probabilities\n",
      "0        46.8548           21.213     2.209          0.031\n",
      "1        12.4760           17.804     0.701          0.486\n",
      "2       -11.5106           20.385    -0.565          0.575\n",
      "3        24.7576           39.273     0.630          0.531\n",
      "4       -11.8782           23.958    -0.496          0.622\n",
      "5        82.6006           38.058     2.170          0.034\n",
      "6        15.9391           20.475     0.778          0.440\n",
      "7        -8.4517           24.670    -0.343          0.733\n",
      "8       -53.1452           21.551    -2.466          0.017\n",
      "9       -88.4977           44.724    -1.979          0.053\n",
      "10      -41.6590           38.910    -1.071          0.289\n",
      "11       22.3334           11.338     1.970          0.054\n",
      "12       -8.3333           11.449    -0.728          0.470\n",
      "13       51.6565           19.866     2.600          0.012\n",
      "14      -47.9017           17.727    -2.702          0.009\n",
      "15       13.6895           12.085     1.133          0.262\n",
      "16       48.0027           12.887     3.725          0.000\n",
      "['CI', 'TE', 'WD', 'leavesWidth', 'leavesNum', 'fruitsPosition']\n"
     ]
    }
   ],
   "source": [
    "params = np.append(lm.intercept_,lm.coef_)\n",
    "predictions = lm.predict(X)\n",
    "\n",
    "# newX = pd.DataFrame({\"Constant\":np.ones(len(X))}).join(pd.DataFrame(X))\n",
    "# MSE = (sum((y-predictions)**2))/(len(newX)-len(newX.columns))\n",
    "\n",
    "# Note if you don't want to use a DataFrame replace the two lines above with\n",
    "newX = np.append(np.ones((len(X),1)), X, axis=1)\n",
    "MSE = (sum((y-predictions)**2))/(len(newX)-len(newX[0]))\n",
    "\n",
    "var_b = MSE*(np.linalg.inv(np.dot(newX.T,newX)).diagonal())\n",
    "sd_b = np.sqrt(var_b)\n",
    "ts_b = params/ sd_b\n",
    "\n",
    "p_values =[2*(1-stats.t.cdf(np.abs(i),(len(newX)-len(newX[0])))) for i in ts_b]\n",
    "\n",
    "sd_b = np.round(sd_b,3)\n",
    "ts_b = np.round(ts_b,3)\n",
    "p_values = np.round(p_values,3)\n",
    "params = np.round(params,4)\n",
    "\n",
    "myDF3 = pd.DataFrame()\n",
    "myDF3[\"Coefficients\"],myDF3[\"Standard Errors\"],myDF3[\"t values\"],myDF3[\"Probabilities\"] = [params,sd_b,ts_b,p_values]\n",
    "print(myDF3)\n",
    "\n",
    "#결과출력\n",
    "wow=[]\n",
    "for i in range(len(p_values)):\n",
    "    if p_values[i]<=0.05:\n",
    "        wow.append(columns[i])\n",
    "print(wow)\n",
    "#내부CO2, 외부온도, 외부풍향"
   ]
  },
  {
   "cell_type": "code",
   "execution_count": 528,
   "metadata": {},
   "outputs": [
    {
     "data": {
      "image/png": "[encoded data removed]",
      "text/plain": [
       "<Figure size 432x288 with 1 Axes>"
      ]
     },
     "metadata": {
      "needs_background": "light"
     },
     "output_type": "display_data"
    }
   ],
   "source": [
    "plt.plot(lm.predict(X), y, '.')\n",
    "plt.plot([0,90],[0,90], alpha=0.5);"
   ]
  },
  {
   "cell_type": "markdown",
   "metadata": {},
   "source": [
    "### 3. LASSO(sklearn)"
   ]
  },
  {
   "cell_type": "code",
   "execution_count": 543,
   "metadata": {},
   "outputs": [
    {
     "name": "stdout",
     "output_type": "stream",
     "text": [
      "R^2:  0.8419370963719223\n",
      "Mean MAE: 2.084 (0.629)\n",
      "Mean RMSE: 2.759\n"
     ]
    }
   ],
   "source": [
    "from sklearn.model_selection import cross_val_score\n",
    "from sklearn.model_selection import RepeatedKFold\n",
    "\n",
    "#leavesLength, fruitsNum\n",
    "X=env_cultivate_mean_data_minmax[columns[:-1]]\n",
    "y=env_cultivate_mean_data_minmax['leavesLength']\n",
    "\n",
    "clf=linear_model.Lasso(alpha=0.1, normalize=True)\n",
    "clf.fit(X, y)\n",
    "\n",
    "printScores(clf, X, y)"
   ]
  },
  {
   "cell_type": "code",
   "execution_count": 544,
   "metadata": {},
   "outputs": [
    {
     "data": {
      "image/png": "[encoded data removed]",
      "text/plain": [
       "<Figure size 432x288 with 1 Axes>"
      ]
     },
     "metadata": {
      "needs_background": "light"
     },
     "output_type": "display_data"
    }
   ],
   "source": [
    "plt.plot(clf.predict(X), y, '.')\n",
    "plt.plot([15,50],[15,50], alpha=0.5);"
   ]
  },
  {
   "cell_type": "code",
   "execution_count": 531,
   "metadata": {},
   "outputs": [
    {
     "name": "stdout",
     "output_type": "stream",
     "text": [
      "R^2:  0.5351336902152475\n",
      "Mean MAE: 18.346 (14.011)\n",
      "Mean RMSE: 29.052\n"
     ]
    }
   ],
   "source": [
    "#leavesLength, fruitsNum\n",
    "X=env_cultivate_mean_data_minmax[columns[:-1]]\n",
    "y=env_cultivate_mean_data_minmax['fruitsNum']\n",
    "\n",
    "clf=linear_model.Lasso(alpha=0.1, normalize=True)\n",
    "clf.fit(X, y)\n",
    "\n",
    "printScores(clf, X, y)"
   ]
  },
  {
   "cell_type": "code",
   "execution_count": 532,
   "metadata": {},
   "outputs": [
    {
     "data": {
      "image/png": "[encoded data removed]",
      "text/plain": [
       "<Figure size 432x288 with 1 Axes>"
      ]
     },
     "metadata": {
      "needs_background": "light"
     },
     "output_type": "display_data"
    }
   ],
   "source": [
    "plt.plot(clf.predict(X), y, '.')\n",
    "plt.plot([0,80],[0,80], alpha=0.5);"
   ]
  },
  {
   "cell_type": "markdown",
   "metadata": {},
   "source": [
    "### 4. Robust Linear Regression"
   ]
  },
  {
   "cell_type": "code",
   "execution_count": 541,
   "metadata": {
    "scrolled": true
   },
   "outputs": [
    {
     "name": "stdout",
     "output_type": "stream",
     "text": [
      "r^2:  0.8855008175106986\n"
     ]
    },
    {
     "data": {
      "text/html": [
       "<table class=\"simpletable\">\n",
       "<caption>Robust linear Model Regression Results</caption>\n",
       "<tr>\n",
       "  <th>Dep. Variable:</th>    <td>leavesLength</td>   <th>  No. Observations:  </th> <td>    73</td>\n",
       "</tr>\n",
       "<tr>\n",
       "  <th>Model:</th>                 <td>RLM</td>       <th>  Df Residuals:      </th> <td>    57</td>\n",
       "</tr>\n",
       "<tr>\n",
       "  <th>Method:</th>               <td>IRLS</td>       <th>  Df Model:          </th> <td>    15</td>\n",
       "</tr>\n",
       "<tr>\n",
       "  <th>Norm:</th>                <td>HuberT</td>      <th>                     </th>    <td> </td>  \n",
       "</tr>\n",
       "<tr>\n",
       "  <th>Scale Est.:</th>            <td>mad</td>       <th>                     </th>    <td> </td>  \n",
       "</tr>\n",
       "<tr>\n",
       "  <th>Cov Type:</th>              <td>H1</td>        <th>                     </th>    <td> </td>  \n",
       "</tr>\n",
       "<tr>\n",
       "  <th>Date:</th>           <td>Fri, 20 Nov 2020</td> <th>                     </th>    <td> </td>  \n",
       "</tr>\n",
       "<tr>\n",
       "  <th>Time:</th>               <td>06:40:00</td>     <th>                     </th>    <td> </td>  \n",
       "</tr>\n",
       "<tr>\n",
       "  <th>No. Iterations:</th>        <td>50</td>        <th>                     </th>    <td> </td>  \n",
       "</tr>\n",
       "</table>\n",
       "<table class=\"simpletable\">\n",
       "<tr>\n",
       "         <td></td>           <th>coef</th>     <th>std err</th>      <th>z</th>      <th>P>|z|</th>  <th>[0.025</th>    <th>0.975]</th>  \n",
       "</tr>\n",
       "<tr>\n",
       "  <th>CI</th>             <td>    5.8553</td> <td>    2.294</td> <td>    2.552</td> <td> 0.011</td> <td>    1.358</td> <td>   10.352</td>\n",
       "</tr>\n",
       "<tr>\n",
       "  <th>EL</th>             <td>   -6.4063</td> <td>    2.757</td> <td>   -2.324</td> <td> 0.020</td> <td>  -11.809</td> <td>   -1.003</td>\n",
       "</tr>\n",
       "<tr>\n",
       "  <th>HI</th>             <td>   -4.6470</td> <td>    6.381</td> <td>   -0.728</td> <td> 0.466</td> <td>  -17.154</td> <td>    7.860</td>\n",
       "</tr>\n",
       "<tr>\n",
       "  <th>HL</th>             <td>    6.2192</td> <td>    3.356</td> <td>    1.853</td> <td> 0.064</td> <td>   -0.359</td> <td>   12.797</td>\n",
       "</tr>\n",
       "<tr>\n",
       "  <th>RP</th>             <td>   -6.1611</td> <td>    6.238</td> <td>   -0.988</td> <td> 0.323</td> <td>  -18.387</td> <td>    6.064</td>\n",
       "</tr>\n",
       "<tr>\n",
       "  <th>TE</th>             <td>   10.5056</td> <td>    3.164</td> <td>    3.320</td> <td> 0.001</td> <td>    4.304</td> <td>   16.707</td>\n",
       "</tr>\n",
       "<tr>\n",
       "  <th>TI</th>             <td>   -4.7556</td> <td>    4.054</td> <td>   -1.173</td> <td> 0.241</td> <td>  -12.702</td> <td>    3.191</td>\n",
       "</tr>\n",
       "<tr>\n",
       "  <th>TL</th>             <td>    6.3395</td> <td>    2.780</td> <td>    2.281</td> <td> 0.023</td> <td>    0.891</td> <td>   11.788</td>\n",
       "</tr>\n",
       "<tr>\n",
       "  <th>WD</th>             <td>    8.5223</td> <td>    7.343</td> <td>    1.161</td> <td> 0.246</td> <td>   -5.869</td> <td>   22.914</td>\n",
       "</tr>\n",
       "<tr>\n",
       "  <th>WS</th>             <td>    6.0331</td> <td>    6.204</td> <td>    0.972</td> <td> 0.331</td> <td>   -6.127</td> <td>   18.194</td>\n",
       "</tr>\n",
       "<tr>\n",
       "  <th>growLength</th>     <td>    2.1092</td> <td>    1.863</td> <td>    1.132</td> <td> 0.258</td> <td>   -1.543</td> <td>    5.761</td>\n",
       "</tr>\n",
       "<tr>\n",
       "  <th>flowerTop</th>      <td>   -3.5193</td> <td>    1.872</td> <td>   -1.880</td> <td> 0.060</td> <td>   -7.188</td> <td>    0.149</td>\n",
       "</tr>\n",
       "<tr>\n",
       "  <th>stemDiameter</th>   <td>   15.5164</td> <td>    3.254</td> <td>    4.769</td> <td> 0.000</td> <td>    9.140</td> <td>   21.893</td>\n",
       "</tr>\n",
       "<tr>\n",
       "  <th>leavesWidth</th>    <td>   25.7580</td> <td>    2.755</td> <td>    9.350</td> <td> 0.000</td> <td>   20.358</td> <td>   31.158</td>\n",
       "</tr>\n",
       "<tr>\n",
       "  <th>leavesNum</th>      <td>    5.0146</td> <td>    1.699</td> <td>    2.952</td> <td> 0.003</td> <td>    1.685</td> <td>    8.344</td>\n",
       "</tr>\n",
       "<tr>\n",
       "  <th>flowerPosition</th> <td>    7.1689</td> <td>    2.099</td> <td>    3.416</td> <td> 0.001</td> <td>    3.055</td> <td>   11.282</td>\n",
       "</tr>\n",
       "</table><br/><br/>If the model instance has been used for another fit with different fit parameters, then the fit options might not be the correct ones anymore ."
      ],
      "text/plain": [
       "<class 'statsmodels.iolib.summary.Summary'>\n",
       "\"\"\"\n",
       "                    Robust linear Model Regression Results                    \n",
       "==============================================================================\n",
       "Dep. Variable:           leavesLength   No. Observations:                   73\n",
       "Model:                            RLM   Df Residuals:                       57\n",
       "Method:                          IRLS   Df Model:                           15\n",
       "Norm:                          HuberT                                         \n",
       "Scale Est.:                       mad                                         \n",
       "Cov Type:                          H1                                         \n",
       "Date:                Fri, 20 Nov 2020                                         \n",
       "Time:                        06:40:00                                         \n",
       "No. Iterations:                    50                                         \n",
       "==================================================================================\n",
       "                     coef    std err          z      P>|z|      [0.025      0.975]\n",
       "----------------------------------------------------------------------------------\n",
       "CI                 5.8553      2.294      2.552      0.011       1.358      10.352\n",
       "EL                -6.4063      2.757     -2.324      0.020     -11.809      -1.003\n",
       "HI                -4.6470      6.381     -0.728      0.466     -17.154       7.860\n",
       "HL                 6.2192      3.356      1.853      0.064      -0.359      12.797\n",
       "RP                -6.1611      6.238     -0.988      0.323     -18.387       6.064\n",
       "TE                10.5056      3.164      3.320      0.001       4.304      16.707\n",
       "TI                -4.7556      4.054     -1.173      0.241     -12.702       3.191\n",
       "TL                 6.3395      2.780      2.281      0.023       0.891      11.788\n",
       "WD                 8.5223      7.343      1.161      0.246      -5.869      22.914\n",
       "WS                 6.0331      6.204      0.972      0.331      -6.127      18.194\n",
       "growLength         2.1092      1.863      1.132      0.258      -1.543       5.761\n",
       "flowerTop         -3.5193      1.872     -1.880      0.060      -7.188       0.149\n",
       "stemDiameter      15.5164      3.254      4.769      0.000       9.140      21.893\n",
       "leavesWidth       25.7580      2.755      9.350      0.000      20.358      31.158\n",
       "leavesNum          5.0146      1.699      2.952      0.003       1.685       8.344\n",
       "flowerPosition     7.1689      2.099      3.416      0.001       3.055      11.282\n",
       "==================================================================================\n",
       "\n",
       "If the model instance has been used for another fit with different fit parameters, then the fit options might not be the correct ones anymore .\n",
       "\"\"\""
      ]
     },
     "execution_count": 541,
     "metadata": {},
     "output_type": "execute_result"
    }
   ],
   "source": [
    "#leavesLength, fruitsNum\n",
    "X=env_cultivate_mean_data_minmax[columns[:-1]]\n",
    "y=env_cultivate_mean_data_minmax['leavesLength']\n",
    "model = sm.RLM(y, X).fit()\n",
    "\n",
    "r2=1. - np.sum(np.abs(model.predict(X) - y) **2) / np.sum(np.abs(y - np.mean(y)) ** 2)\n",
    "print(\"r^2: \",r2)\n",
    "model.summary()"
   ]
  },
  {
   "cell_type": "code",
   "execution_count": 542,
   "metadata": {},
   "outputs": [
    {
     "data": {
      "text/plain": [
       "[<matplotlib.lines.Line2D at 0x27f15e11148>]"
      ]
     },
     "execution_count": 542,
     "metadata": {},
     "output_type": "execute_result"
    },
    {
     "data": {
      "image/png": "[encoded data removed]",
      "text/plain": [
       "<Figure size 432x288 with 1 Axes>"
      ]
     },
     "metadata": {
      "needs_background": "light"
     },
     "output_type": "display_data"
    }
   ],
   "source": [
    "plt.plot(model.predict(X), y, '.')\n",
    "plt.plot([15,50],[15,50], alpha=0.5)"
   ]
  },
  {
   "cell_type": "code",
   "execution_count": 535,
   "metadata": {},
   "outputs": [
    {
     "name": "stdout",
     "output_type": "stream",
     "text": [
      "r^2:  0.582818880028048\n"
     ]
    },
    {
     "data": {
      "text/html": [
       "<table class=\"simpletable\">\n",
       "<caption>Robust linear Model Regression Results</caption>\n",
       "<tr>\n",
       "  <th>Dep. Variable:</th>      <td>fruitsNum</td>    <th>  No. Observations:  </th> <td>    73</td>\n",
       "</tr>\n",
       "<tr>\n",
       "  <th>Model:</th>                 <td>RLM</td>       <th>  Df Residuals:      </th> <td>    57</td>\n",
       "</tr>\n",
       "<tr>\n",
       "  <th>Method:</th>               <td>IRLS</td>       <th>  Df Model:          </th> <td>    15</td>\n",
       "</tr>\n",
       "<tr>\n",
       "  <th>Norm:</th>                <td>HuberT</td>      <th>                     </th>    <td> </td>  \n",
       "</tr>\n",
       "<tr>\n",
       "  <th>Scale Est.:</th>            <td>mad</td>       <th>                     </th>    <td> </td>  \n",
       "</tr>\n",
       "<tr>\n",
       "  <th>Cov Type:</th>              <td>H1</td>        <th>                     </th>    <td> </td>  \n",
       "</tr>\n",
       "<tr>\n",
       "  <th>Date:</th>           <td>Fri, 20 Nov 2020</td> <th>                     </th>    <td> </td>  \n",
       "</tr>\n",
       "<tr>\n",
       "  <th>Time:</th>               <td>06:39:10</td>     <th>                     </th>    <td> </td>  \n",
       "</tr>\n",
       "<tr>\n",
       "  <th>No. Iterations:</th>        <td>28</td>        <th>                     </th>    <td> </td>  \n",
       "</tr>\n",
       "</table>\n",
       "<table class=\"simpletable\">\n",
       "<tr>\n",
       "         <td></td>           <th>coef</th>     <th>std err</th>      <th>z</th>      <th>P>|z|</th>  <th>[0.025</th>    <th>0.975]</th>  \n",
       "</tr>\n",
       "<tr>\n",
       "  <th>CI</th>             <td>   33.5995</td> <td>   14.449</td> <td>    2.325</td> <td> 0.020</td> <td>    5.280</td> <td>   61.919</td>\n",
       "</tr>\n",
       "<tr>\n",
       "  <th>EL</th>             <td>  -37.1702</td> <td>   17.360</td> <td>   -2.141</td> <td> 0.032</td> <td>  -71.194</td> <td>   -3.146</td>\n",
       "</tr>\n",
       "<tr>\n",
       "  <th>HI</th>             <td>    8.0374</td> <td>   40.186</td> <td>    0.200</td> <td> 0.841</td> <td>  -70.725</td> <td>   86.800</td>\n",
       "</tr>\n",
       "<tr>\n",
       "  <th>HL</th>             <td>   19.4121</td> <td>   21.135</td> <td>    0.918</td> <td> 0.358</td> <td>  -22.012</td> <td>   60.837</td>\n",
       "</tr>\n",
       "<tr>\n",
       "  <th>RP</th>             <td>   64.8571</td> <td>   39.280</td> <td>    1.651</td> <td> 0.099</td> <td>  -12.130</td> <td>  141.844</td>\n",
       "</tr>\n",
       "<tr>\n",
       "  <th>TE</th>             <td>   32.4951</td> <td>   19.926</td> <td>    1.631</td> <td> 0.103</td> <td>   -6.559</td> <td>   71.549</td>\n",
       "</tr>\n",
       "<tr>\n",
       "  <th>TI</th>             <td>  -10.1968</td> <td>   25.531</td> <td>   -0.399</td> <td> 0.690</td> <td>  -60.237</td> <td>   39.843</td>\n",
       "</tr>\n",
       "<tr>\n",
       "  <th>TL</th>             <td>  -14.0825</td> <td>   17.505</td> <td>   -0.804</td> <td> 0.421</td> <td>  -48.392</td> <td>   20.227</td>\n",
       "</tr>\n",
       "<tr>\n",
       "  <th>WD</th>             <td>  -70.3889</td> <td>   46.240</td> <td>   -1.522</td> <td> 0.128</td> <td> -161.017</td> <td>   20.239</td>\n",
       "</tr>\n",
       "<tr>\n",
       "  <th>WS</th>             <td>  -13.1495</td> <td>   39.071</td> <td>   -0.337</td> <td> 0.736</td> <td>  -89.727</td> <td>   63.428</td>\n",
       "</tr>\n",
       "<tr>\n",
       "  <th>growLength</th>     <td>   22.7557</td> <td>   11.734</td> <td>    1.939</td> <td> 0.052</td> <td>   -0.242</td> <td>   45.753</td>\n",
       "</tr>\n",
       "<tr>\n",
       "  <th>flowerTop</th>      <td>  -11.5473</td> <td>   11.788</td> <td>   -0.980</td> <td> 0.327</td> <td>  -34.650</td> <td>   11.556</td>\n",
       "</tr>\n",
       "<tr>\n",
       "  <th>stemDiameter</th>   <td>   47.5429</td> <td>   20.488</td> <td>    2.320</td> <td> 0.020</td> <td>    7.387</td> <td>   87.699</td>\n",
       "</tr>\n",
       "<tr>\n",
       "  <th>leavesWidth</th>    <td>  -33.0122</td> <td>   17.349</td> <td>   -1.903</td> <td> 0.057</td> <td>  -67.015</td> <td>    0.991</td>\n",
       "</tr>\n",
       "<tr>\n",
       "  <th>leavesNum</th>      <td>   29.0777</td> <td>   10.699</td> <td>    2.718</td> <td> 0.007</td> <td>    8.109</td> <td>   50.047</td>\n",
       "</tr>\n",
       "<tr>\n",
       "  <th>flowerPosition</th> <td>   49.5983</td> <td>   13.217</td> <td>    3.753</td> <td> 0.000</td> <td>   23.694</td> <td>   75.503</td>\n",
       "</tr>\n",
       "</table><br/><br/>If the model instance has been used for another fit with different fit parameters, then the fit options might not be the correct ones anymore ."
      ],
      "text/plain": [
       "<class 'statsmodels.iolib.summary.Summary'>\n",
       "\"\"\"\n",
       "                    Robust linear Model Regression Results                    \n",
       "==============================================================================\n",
       "Dep. Variable:              fruitsNum   No. Observations:                   73\n",
       "Model:                            RLM   Df Residuals:                       57\n",
       "Method:                          IRLS   Df Model:                           15\n",
       "Norm:                          HuberT                                         \n",
       "Scale Est.:                       mad                                         \n",
       "Cov Type:                          H1                                         \n",
       "Date:                Fri, 20 Nov 2020                                         \n",
       "Time:                        06:39:10                                         \n",
       "No. Iterations:                    28                                         \n",
       "==================================================================================\n",
       "                     coef    std err          z      P>|z|      [0.025      0.975]\n",
       "----------------------------------------------------------------------------------\n",
       "CI                33.5995     14.449      2.325      0.020       5.280      61.919\n",
       "EL               -37.1702     17.360     -2.141      0.032     -71.194      -3.146\n",
       "HI                 8.0374     40.186      0.200      0.841     -70.725      86.800\n",
       "HL                19.4121     21.135      0.918      0.358     -22.012      60.837\n",
       "RP                64.8571     39.280      1.651      0.099     -12.130     141.844\n",
       "TE                32.4951     19.926      1.631      0.103      -6.559      71.549\n",
       "TI               -10.1968     25.531     -0.399      0.690     -60.237      39.843\n",
       "TL               -14.0825     17.505     -0.804      0.421     -48.392      20.227\n",
       "WD               -70.3889     46.240     -1.522      0.128    -161.017      20.239\n",
       "WS               -13.1495     39.071     -0.337      0.736     -89.727      63.428\n",
       "growLength        22.7557     11.734      1.939      0.052      -0.242      45.753\n",
       "flowerTop        -11.5473     11.788     -0.980      0.327     -34.650      11.556\n",
       "stemDiameter      47.5429     20.488      2.320      0.020       7.387      87.699\n",
       "leavesWidth      -33.0122     17.349     -1.903      0.057     -67.015       0.991\n",
       "leavesNum         29.0777     10.699      2.718      0.007       8.109      50.047\n",
       "flowerPosition    49.5983     13.217      3.753      0.000      23.694      75.503\n",
       "==================================================================================\n",
       "\n",
       "If the model instance has been used for another fit with different fit parameters, then the fit options might not be the correct ones anymore .\n",
       "\"\"\""
      ]
     },
     "execution_count": 535,
     "metadata": {},
     "output_type": "execute_result"
    }
   ],
   "source": [
    "#leavesLength, fruitsNum\n",
    "x=env_cultivate_mean_data_minmax[columns[:-1]]\n",
    "y=env_cultivate_mean_data_minmax['fruitsNum']\n",
    "model = sm.RLM(y, X).fit()\n",
    "\n",
    "r2=1. - np.sum(np.abs(model.predict(X) - y) **2) / np.sum(np.abs(y - np.mean(y)) ** 2)\n",
    "print(\"r^2: \",r2)\n",
    "model.summary()"
   ]
  },
  {
   "cell_type": "code",
   "execution_count": 536,
   "metadata": {},
   "outputs": [
    {
     "data": {
      "text/plain": [
       "[<matplotlib.lines.Line2D at 0x27f15d03e08>]"
      ]
     },
     "execution_count": 536,
     "metadata": {},
     "output_type": "execute_result"
    },
    {
     "data": {
      "image/png": "[encoded data removed]",
      "text/plain": [
       "<Figure size 432x288 with 1 Axes>"
      ]
     },
     "metadata": {
      "needs_background": "light"
     },
     "output_type": "display_data"
    }
   ],
   "source": [
    "plt.plot(model.predict(X), y, '.')\n",
    "plt.plot([0,90],[0,90], alpha=0.5)"
   ]
  },
  {
   "cell_type": "markdown",
   "metadata": {},
   "source": [
    "### 5. Random Forest Regression"
   ]
  },
  {
   "cell_type": "code",
   "execution_count": 537,
   "metadata": {},
   "outputs": [
    {
     "name": "stdout",
     "output_type": "stream",
     "text": [
      "R^2:  0.8750427873734471\n",
      "Mean MAE: 2.395 (0.789)\n",
      "Mean RMSE: 3.156\n"
     ]
    }
   ],
   "source": [
    "from sklearn.ensemble import RandomForestRegressor\n",
    "\n",
    "#leavesLength, fruitsNum\n",
    "x=env_cultivate_mean_data_minmax[columns[:-1]]\n",
    "y=env_cultivate_mean_data_minmax['leavesLength']\n",
    "\n",
    "regr = RandomForestRegressor(max_depth=2, random_state=0)\n",
    "regr.fit(X, y)\n",
    "\n",
    "printScores(regr, X, y)"
   ]
  },
  {
   "cell_type": "code",
   "execution_count": 539,
   "metadata": {},
   "outputs": [
    {
     "data": {
      "text/plain": [
       "[<matplotlib.lines.Line2D at 0x27f15cb8288>]"
      ]
     },
     "execution_count": 539,
     "metadata": {},
     "output_type": "execute_result"
    },
    {
     "data": {
      "image/png": "[encoded data removed]",
      "text/plain": [
       "<Figure size 432x288 with 1 Axes>"
      ]
     },
     "metadata": {
      "needs_background": "light"
     },
     "output_type": "display_data"
    }
   ],
   "source": [
    "plt.plot(regr.predict(X), y, '.')\n",
    "plt.plot([15,50],[15,50], alpha=0.5)"
   ]
  },
  {
   "cell_type": "code",
   "execution_count": 494,
   "metadata": {},
   "outputs": [
    {
     "name": "stdout",
     "output_type": "stream",
     "text": [
      "R^2:  0.6723985508054479\n",
      "Mean MAE: 13.484 (4.286)\n",
      "Mean RMSE: 16.547\n"
     ]
    }
   ],
   "source": [
    "from sklearn.ensemble import RandomForestRegressor\n",
    "\n",
    "#leavesLength, fruitsNum\n",
    "x=env_cultivate_mean_data_minmax[columns[:-1]]\n",
    "y=env_cultivate_mean_data_minmax['fruitsNum']\n",
    "\n",
    "regr = RandomForestRegressor(max_depth=2, random_state=0)\n",
    "regr.fit(x, y)\n",
    "\n",
    "printScores(regr, x, y)"
   ]
  },
  {
   "cell_type": "code",
   "execution_count": 495,
   "metadata": {},
   "outputs": [
    {
     "data": {
      "text/plain": [
       "[<matplotlib.lines.Line2D at 0x27f12ac3b48>]"
      ]
     },
     "execution_count": 495,
     "metadata": {},
     "output_type": "execute_result"
    },
    {
     "data": {
      "image/png": "[encoded data removed]",
      "text/plain": [
       "<Figure size 432x288 with 1 Axes>"
      ]
     },
     "metadata": {
      "needs_background": "light"
     },
     "output_type": "display_data"
    }
   ],
   "source": [
    "plt.plot(regr.predict(x), y, '.')\n",
    "plt.plot([0,80],[0,80], alpha=0.5)"
   ]
  },
  {
   "cell_type": "markdown",
   "metadata": {},
   "source": [
    "### 6. Support Vector Regression"
   ]
  },
  {
   "cell_type": "code",
   "execution_count": 492,
   "metadata": {},
   "outputs": [
    {
     "name": "stdout",
     "output_type": "stream",
     "text": [
      "R^2:  0.9537785223449676\n",
      "Mean MAE: 2.674 (0.948)\n",
      "Mean RMSE: 3.367\n"
     ]
    }
   ],
   "source": [
    "from sklearn.svm import SVR\n",
    "\n",
    "#leavesLength, fruitsNum\n",
    "x=env_cultivate_mean_data_minmax[columns[:-1]]\n",
    "y=env_cultivate_mean_data_minmax['leavesLength']\n",
    "\n",
    "svm = SVR(kernel='poly', degree=5, epsilon=0.1)\n",
    "svm.fit(x,y)\n",
    "\n",
    "printScores(svm, x, y)"
   ]
  },
  {
   "cell_type": "code",
   "execution_count": 493,
   "metadata": {},
   "outputs": [
    {
     "data": {
      "text/plain": [
       "[<matplotlib.lines.Line2D at 0x27f12d95b48>]"
      ]
     },
     "execution_count": 493,
     "metadata": {},
     "output_type": "execute_result"
    },
    {
     "data": {
      "image/png": "[encoded data removed]",
      "text/plain": [
       "<Figure size 432x288 with 1 Axes>"
      ]
     },
     "metadata": {
      "needs_background": "light"
     },
     "output_type": "display_data"
    }
   ],
   "source": [
    "plt.plot(svm.predict(x), y, '.')\n",
    "plt.plot([0,50],[0,50], alpha=0.5)"
   ]
  },
  {
   "cell_type": "code",
   "execution_count": 455,
   "metadata": {},
   "outputs": [
    {
     "name": "stdout",
     "output_type": "stream",
     "text": [
      "R^2:  0.8604513164947923\n",
      "Mean MAE: 13.238 (5.061)\n",
      "Mean RMSE: 17.382\n"
     ]
    }
   ],
   "source": [
    "from sklearn.svm import SVR\n",
    "\n",
    "#leavesLength, fruitsNum\n",
    "x=env_cultivate_mean_data_minmax[columns[:-1]]\n",
    "y=env_cultivate_mean_data_minmax['fruitsNum']\n",
    "\n",
    "svm = SVR(kernel='poly', degree=6, epsilon=0.1)\n",
    "svm.fit(x,y)\n",
    "\n",
    "printScores(svm, x, y)"
   ]
  },
  {
   "cell_type": "code",
   "execution_count": 488,
   "metadata": {},
   "outputs": [
    {
     "data": {
      "text/plain": [
       "[<matplotlib.lines.Line2D at 0x27f142153c8>]"
      ]
     },
     "execution_count": 488,
     "metadata": {},
     "output_type": "execute_result"
    },
    {
     "data": {
      "image/png": "[encoded data removed]",
      "text/plain": [
       "<Figure size 432x288 with 1 Axes>"
      ]
     },
     "metadata": {
      "needs_background": "light"
     },
     "output_type": "display_data"
    }
   ],
   "source": [
    "plt.plot(svm.predict(x), y, '.')\n",
    "plt.plot([0,100],[0,100], alpha=0.5)"
   ]
  },
  {
   "cell_type": "markdown",
   "metadata": {},
   "source": [
    "### 7. Elastic Net"
   ]
  },
  {
   "cell_type": "code",
   "execution_count": 549,
   "metadata": {},
   "outputs": [
    {
     "name": "stdout",
     "output_type": "stream",
     "text": [
      "alpha: 0.100000\n",
      "l1_ratio_: 0.990000\n"
     ]
    }
   ],
   "source": [
    "from sklearn.linear_model import ElasticNetCV\n",
    "\n",
    "#leavesLength, fruitsNum\n",
    "x=env_cultivate_mean_data_minmax[columns[:-1]]\n",
    "y=env_cultivate_mean_data_minmax['leavesLength']\n",
    "\n",
    "cv = RepeatedKFold(n_splits=10, n_repeats=3, random_state=1)\n",
    "\n",
    "# define model\n",
    "ratios = arange(0, 1, 0.01)\n",
    "alphas = [1e-5, 1e-4, 1e-3, 1e-2, 1e-1, 0.0, 1.0, 10.0, 100.0]\n",
    "model = ElasticNetCV(l1_ratio=ratios, alphas=alphas, cv=cv, n_jobs=-1)\n",
    "# fit model\n",
    "model.fit(X, y)\n",
    "# summarize chosen configuration\n",
    "print('alpha: %f' % model.alpha_)\n",
    "print('l1_ratio_: %f' % model.l1_ratio_)"
   ]
  },
  {
   "cell_type": "code",
   "execution_count": 550,
   "metadata": {},
   "outputs": [
    {
     "name": "stdout",
     "output_type": "stream",
     "text": [
      "R^2:  0.8545748457729686\n",
      "Mean MAE: 2.075 (0.587)\n",
      "Mean RMSE: 2.698\n"
     ]
    }
   ],
   "source": [
    "regr = ElasticNet(alpha=0.1, l1_ratio=0.99)\n",
    "regr.fit(x,y)\n",
    "\n",
    "printScores(regr, x, y)"
   ]
  },
  {
   "cell_type": "code",
   "execution_count": 554,
   "metadata": {},
   "outputs": [
    {
     "data": {
      "text/plain": [
       "[<matplotlib.lines.Line2D at 0x27f14986a48>]"
      ]
     },
     "execution_count": 554,
     "metadata": {},
     "output_type": "execute_result"
    },
    {
     "data": {
      "image/png": "[encoded data removed]",
      "text/plain": [
       "<Figure size 432x288 with 1 Axes>"
      ]
     },
     "metadata": {
      "needs_background": "light"
     },
     "output_type": "display_data"
    }
   ],
   "source": [
    "plt.plot(regr.predict(x), y, '.')\n",
    "plt.plot([10,50],[10,50], alpha=0.5)"
   ]
  },
  {
   "cell_type": "code",
   "execution_count": 471,
   "metadata": {},
   "outputs": [
    {
     "name": "stdout",
     "output_type": "stream",
     "text": [
      "alpha: 0.010000\n",
      "l1_ratio_: 0.020000\n"
     ]
    }
   ],
   "source": [
    "from sklearn.linear_model import ElasticNetCV\n",
    "\n",
    "#leavesLength, fruitsNum\n",
    "x=env_cultivate_mean_data_minmax[columns[:-1]]\n",
    "y=env_cultivate_mean_data_minmax['fruitsNum']\n",
    "\n",
    "cv = RepeatedKFold(n_splits=10, n_repeats=3, random_state=1)\n",
    "\n",
    "# define model\n",
    "ratios = arange(0, 1, 0.01)\n",
    "alphas = [1e-5, 1e-4, 1e-3, 1e-2, 1e-1, 0.0, 1.0, 10.0, 100.0]\n",
    "model = ElasticNetCV(l1_ratio=ratios, alphas=alphas, cv=cv, n_jobs=-1)\n",
    "# fit model\n",
    "model.fit(X, y)\n",
    "# summarize chosen configuration\n",
    "print('alpha: %f' % model.alpha_)\n",
    "print('l1_ratio_: %f' % model.l1_ratio_)"
   ]
  },
  {
   "cell_type": "code",
   "execution_count": 474,
   "metadata": {},
   "outputs": [
    {
     "name": "stdout",
     "output_type": "stream",
     "text": [
      "R^2:  0.5481413505939001\n",
      "Mean MAE: 12.968 (3.338)\n",
      "Mean RMSE: 16.659\n"
     ]
    }
   ],
   "source": [
    "regr = ElasticNet(alpha=0.01, l1_ratio=0.02)\n",
    "regr.fit(x,y)\n",
    "\n",
    "printScores(regr, x, y)"
   ]
  },
  {
   "cell_type": "code",
   "execution_count": 490,
   "metadata": {},
   "outputs": [
    {
     "data": {
      "text/plain": [
       "[<matplotlib.lines.Line2D at 0x27f14335fc8>]"
      ]
     },
     "execution_count": 490,
     "metadata": {},
     "output_type": "execute_result"
    },
    {
     "data": {
      "image/png": "[encoded data removed]",
      "text/plain": [
       "<Figure size 432x288 with 1 Axes>"
      ]
     },
     "metadata": {
      "needs_background": "light"
     },
     "output_type": "display_data"
    }
   ],
   "source": [
    "plt.plot(regr.predict(x), y, '.')\n",
    "plt.plot([0,70],[0,70], alpha=0.5)"
   ]
  }
 ],
 "metadata": {
  "kernelspec": {
   "display_name": "Python 3",
   "language": "python",
   "name": "python3"
  },
  "language_info": {
   "codemirror_mode": {
    "name": "ipython",
    "version": 3
   },
   "file_extension": ".py",
   "mimetype": "text/x-python",
   "name": "python",
   "nbconvert_exporter": "python",
   "pygments_lexer": "ipython3",
   "version": "3.7.6"
  }
 },
 "nbformat": 4,
 "nbformat_minor": 4
}
