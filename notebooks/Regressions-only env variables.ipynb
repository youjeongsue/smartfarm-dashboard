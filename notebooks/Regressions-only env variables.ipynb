{
 "cells": [
  {
   "cell_type": "code",
   "execution_count": 1,
   "metadata": {},
   "outputs": [
    {
     "name": "stderr",
     "output_type": "stream",
     "text": [
      "c:\\users\\youjeongsue\\appdata\\local\\programs\\python\\python37\\lib\\site-packages\\sklearn\\externals\\joblib\\__init__.py:15: FutureWarning: sklearn.externals.joblib is deprecated in 0.21 and will be removed in 0.23. Please import this functionality directly from joblib, which can be installed with: pip install joblib. If this warning is raised when loading pickled models, you may need to re-serialize those models with scikit-learn 0.21+.\n",
      "  warnings.warn(msg, category=FutureWarning)\n"
     ]
    }
   ],
   "source": [
    "import os\n",
    "import requests\n",
    "import json\n",
    "import pandas as pd\n",
    "import numpy as np\n",
    "import matplotlib.pyplot as plt\n",
    "import seaborn as sns\n",
    "import warnings\n",
    "from sklearn.externals import joblib\n",
    "\n",
    "warnings.filterwarnings(action='ignore');\n",
    "from utils import getCode"
   ]
  },
  {
   "cell_type": "code",
   "execution_count": 5,
   "metadata": {},
   "outputs": [],
   "source": [
    "#파일 저장후 다시 읽어와야 할 때\n",
    "env_cultivate_mean_data_minmax = pd.read_csv('./data/data_for_dashboard.csv', index_col=0)\n",
    "\n",
    "del_code=['growLength', 'flowerTop', 'stemDiameter','leavesWidth', 'leavesNum',\n",
    " 'flowerPosition', 'fruitsPosition', 'index', 'measDate', 'userId']\n",
    "\n",
    "for code in del_code:\n",
    "    del env_cultivate_mean_data_minmax[code]"
   ]
  },
  {
   "cell_type": "code",
   "execution_count": 7,
   "metadata": {},
   "outputs": [],
   "source": [
    "columns=list(env_cultivate_mean_data_minmax.columns)\n",
    "columns.remove('leavesLength')\n",
    "columns.remove('fruitsNum')"
   ]
  },
  {
   "cell_type": "code",
   "execution_count": 17,
   "metadata": {},
   "outputs": [
    {
     "data": {
      "text/plain": [
       "['WS', 'EL', 'CI', 'TE', 'WD', 'HI', 'TL', 'IR', 'HL', 'TI', 'RP']"
      ]
     },
     "execution_count": 17,
     "metadata": {},
     "output_type": "execute_result"
    }
   ],
   "source": [
    "columns"
   ]
  },
  {
   "cell_type": "code",
   "execution_count": 8,
   "metadata": {},
   "outputs": [],
   "source": [
    "from sklearn.model_selection import RepeatedKFold\n",
    "\n",
    "def printScores(model, x, y):\n",
    "    print(\"R^2: \",model.score(x, y))\n",
    "    cv = RepeatedKFold(n_splits=10, n_repeats=3, random_state=1)\n",
    "    mae = cross_val_score(model, x, y, scoring='neg_mean_absolute_error', cv=cv, n_jobs=-1)\n",
    "    mae = np.absolute(mae)\n",
    "    rmse = cross_val_score(model, x, y, scoring='neg_root_mean_squared_error', cv=cv, n_jobs=-1)\n",
    "    rmse = np.absolute(rmse)\n",
    "    print('Mean MAE: %.3f (%.3f)' % (mean(mae), std(mae)))\n",
    "    print('Mean RMSE: %.3f' % (mean(rmse)))"
   ]
  },
  {
   "cell_type": "code",
   "execution_count": 20,
   "metadata": {},
   "outputs": [],
   "source": [
    "from sklearn.model_selection import train_test_split\n",
    "\n",
    "x=env_cultivate_mean_data_minmax[columns[:]]\n",
    "y_leaves=env_cultivate_mean_data_minmax['leavesLength']\n",
    "y_fruits=env_cultivate_mean_data_minmax['fruitsNum']\n",
    "\n",
    "x_train_l, x_test_l, y_train_l, y_test_l = train_test_split(x, y_leaves, test_size=0.2)\n",
    "x_train_f, x_test_f, y_train_f, y_test_f = train_test_split(x, y_fruits, test_size=0.2)"
   ]
  },
  {
   "cell_type": "code",
   "execution_count": 21,
   "metadata": {},
   "outputs": [
    {
     "data": {
      "text/html": [
       "<div>\n",
       "<style scoped>\n",
       "    .dataframe tbody tr th:only-of-type {\n",
       "        vertical-align: middle;\n",
       "    }\n",
       "\n",
       "    .dataframe tbody tr th {\n",
       "        vertical-align: top;\n",
       "    }\n",
       "\n",
       "    .dataframe thead th {\n",
       "        text-align: right;\n",
       "    }\n",
       "</style>\n",
       "<table border=\"1\" class=\"dataframe\">\n",
       "  <thead>\n",
       "    <tr style=\"text-align: right;\">\n",
       "      <th></th>\n",
       "      <th>WS</th>\n",
       "      <th>EL</th>\n",
       "      <th>CI</th>\n",
       "      <th>TE</th>\n",
       "      <th>WD</th>\n",
       "      <th>HI</th>\n",
       "      <th>TL</th>\n",
       "      <th>IR</th>\n",
       "      <th>HL</th>\n",
       "      <th>TI</th>\n",
       "      <th>RP</th>\n",
       "    </tr>\n",
       "  </thead>\n",
       "  <tbody>\n",
       "    <tr>\n",
       "      <th>0</th>\n",
       "      <td>1.198452</td>\n",
       "      <td>9.841488</td>\n",
       "      <td>632.278690</td>\n",
       "      <td>6.910179</td>\n",
       "      <td>42.461131</td>\n",
       "      <td>88.061131</td>\n",
       "      <td>18.460000</td>\n",
       "      <td>127.018452</td>\n",
       "      <td>95.621488</td>\n",
       "      <td>17.460179</td>\n",
       "      <td>0.133750</td>\n",
       "    </tr>\n",
       "    <tr>\n",
       "      <th>1</th>\n",
       "      <td>1.409581</td>\n",
       "      <td>9.839581</td>\n",
       "      <td>625.905749</td>\n",
       "      <td>8.269042</td>\n",
       "      <td>42.085988</td>\n",
       "      <td>87.423533</td>\n",
       "      <td>17.159401</td>\n",
       "      <td>138.891078</td>\n",
       "      <td>96.254192</td>\n",
       "      <td>16.569521</td>\n",
       "      <td>0.078922</td>\n",
       "    </tr>\n",
       "    <tr>\n",
       "      <th>2</th>\n",
       "      <td>1.726706</td>\n",
       "      <td>9.809921</td>\n",
       "      <td>615.776548</td>\n",
       "      <td>13.114960</td>\n",
       "      <td>39.648532</td>\n",
       "      <td>88.142480</td>\n",
       "      <td>17.982619</td>\n",
       "      <td>183.277321</td>\n",
       "      <td>94.930833</td>\n",
       "      <td>17.895655</td>\n",
       "      <td>0.074504</td>\n",
       "    </tr>\n",
       "    <tr>\n",
       "      <th>3</th>\n",
       "      <td>1.703512</td>\n",
       "      <td>9.803036</td>\n",
       "      <td>606.192381</td>\n",
       "      <td>15.772024</td>\n",
       "      <td>38.516369</td>\n",
       "      <td>93.215387</td>\n",
       "      <td>19.006399</td>\n",
       "      <td>231.922946</td>\n",
       "      <td>95.204137</td>\n",
       "      <td>18.671637</td>\n",
       "      <td>0.044673</td>\n",
       "    </tr>\n",
       "    <tr>\n",
       "      <th>4</th>\n",
       "      <td>1.482202</td>\n",
       "      <td>9.790119</td>\n",
       "      <td>596.609702</td>\n",
       "      <td>16.599405</td>\n",
       "      <td>39.730536</td>\n",
       "      <td>95.701190</td>\n",
       "      <td>18.536667</td>\n",
       "      <td>158.558869</td>\n",
       "      <td>95.001250</td>\n",
       "      <td>18.583631</td>\n",
       "      <td>0.128810</td>\n",
       "    </tr>\n",
       "    <tr>\n",
       "      <th>...</th>\n",
       "      <td>...</td>\n",
       "      <td>...</td>\n",
       "      <td>...</td>\n",
       "      <td>...</td>\n",
       "      <td>...</td>\n",
       "      <td>...</td>\n",
       "      <td>...</td>\n",
       "      <td>...</td>\n",
       "      <td>...</td>\n",
       "      <td>...</td>\n",
       "      <td>...</td>\n",
       "    </tr>\n",
       "    <tr>\n",
       "      <th>749</th>\n",
       "      <td>2.874461</td>\n",
       "      <td>9.178024</td>\n",
       "      <td>379.765060</td>\n",
       "      <td>14.605659</td>\n",
       "      <td>162.007036</td>\n",
       "      <td>97.749192</td>\n",
       "      <td>0.000000</td>\n",
       "      <td>234.871916</td>\n",
       "      <td>98.042156</td>\n",
       "      <td>19.261287</td>\n",
       "      <td>4.603413</td>\n",
       "    </tr>\n",
       "    <tr>\n",
       "      <th>750</th>\n",
       "      <td>1.778302</td>\n",
       "      <td>9.190503</td>\n",
       "      <td>385.764088</td>\n",
       "      <td>11.647610</td>\n",
       "      <td>243.391321</td>\n",
       "      <td>97.646164</td>\n",
       "      <td>0.000000</td>\n",
       "      <td>265.213270</td>\n",
       "      <td>97.974151</td>\n",
       "      <td>19.785220</td>\n",
       "      <td>0.013648</td>\n",
       "    </tr>\n",
       "    <tr>\n",
       "      <th>751</th>\n",
       "      <td>2.253375</td>\n",
       "      <td>9.179750</td>\n",
       "      <td>380.000000</td>\n",
       "      <td>18.099688</td>\n",
       "      <td>165.191500</td>\n",
       "      <td>98.093500</td>\n",
       "      <td>0.000000</td>\n",
       "      <td>279.171437</td>\n",
       "      <td>97.911375</td>\n",
       "      <td>21.334500</td>\n",
       "      <td>0.076250</td>\n",
       "    </tr>\n",
       "    <tr>\n",
       "      <th>752</th>\n",
       "      <td>2.412126</td>\n",
       "      <td>9.166257</td>\n",
       "      <td>379.378683</td>\n",
       "      <td>17.873743</td>\n",
       "      <td>172.880090</td>\n",
       "      <td>97.841048</td>\n",
       "      <td>0.000000</td>\n",
       "      <td>331.280719</td>\n",
       "      <td>97.661946</td>\n",
       "      <td>20.560359</td>\n",
       "      <td>14.472455</td>\n",
       "    </tr>\n",
       "    <tr>\n",
       "      <th>753</th>\n",
       "      <td>0.862560</td>\n",
       "      <td>9.158810</td>\n",
       "      <td>379.071845</td>\n",
       "      <td>19.629583</td>\n",
       "      <td>238.055476</td>\n",
       "      <td>97.858690</td>\n",
       "      <td>0.000000</td>\n",
       "      <td>331.391250</td>\n",
       "      <td>97.600774</td>\n",
       "      <td>21.458869</td>\n",
       "      <td>7.030774</td>\n",
       "    </tr>\n",
       "  </tbody>\n",
       "</table>\n",
       "<p>754 rows × 11 columns</p>\n",
       "</div>"
      ],
      "text/plain": [
       "           WS        EL          CI         TE          WD         HI  \\\n",
       "0    1.198452  9.841488  632.278690   6.910179   42.461131  88.061131   \n",
       "1    1.409581  9.839581  625.905749   8.269042   42.085988  87.423533   \n",
       "2    1.726706  9.809921  615.776548  13.114960   39.648532  88.142480   \n",
       "3    1.703512  9.803036  606.192381  15.772024   38.516369  93.215387   \n",
       "4    1.482202  9.790119  596.609702  16.599405   39.730536  95.701190   \n",
       "..        ...       ...         ...        ...         ...        ...   \n",
       "749  2.874461  9.178024  379.765060  14.605659  162.007036  97.749192   \n",
       "750  1.778302  9.190503  385.764088  11.647610  243.391321  97.646164   \n",
       "751  2.253375  9.179750  380.000000  18.099688  165.191500  98.093500   \n",
       "752  2.412126  9.166257  379.378683  17.873743  172.880090  97.841048   \n",
       "753  0.862560  9.158810  379.071845  19.629583  238.055476  97.858690   \n",
       "\n",
       "            TL          IR         HL         TI         RP  \n",
       "0    18.460000  127.018452  95.621488  17.460179   0.133750  \n",
       "1    17.159401  138.891078  96.254192  16.569521   0.078922  \n",
       "2    17.982619  183.277321  94.930833  17.895655   0.074504  \n",
       "3    19.006399  231.922946  95.204137  18.671637   0.044673  \n",
       "4    18.536667  158.558869  95.001250  18.583631   0.128810  \n",
       "..         ...         ...        ...        ...        ...  \n",
       "749   0.000000  234.871916  98.042156  19.261287   4.603413  \n",
       "750   0.000000  265.213270  97.974151  19.785220   0.013648  \n",
       "751   0.000000  279.171437  97.911375  21.334500   0.076250  \n",
       "752   0.000000  331.280719  97.661946  20.560359  14.472455  \n",
       "753   0.000000  331.391250  97.600774  21.458869   7.030774  \n",
       "\n",
       "[754 rows x 11 columns]"
      ]
     },
     "execution_count": 21,
     "metadata": {},
     "output_type": "execute_result"
    }
   ],
   "source": [
    "x"
   ]
  },
  {
   "cell_type": "markdown",
   "metadata": {},
   "source": [
    "## RF_only_env"
   ]
  },
  {
   "cell_type": "code",
   "execution_count": 14,
   "metadata": {},
   "outputs": [],
   "source": [
    "from sklearn.model_selection import GridSearchCV\n",
    "from sklearn.ensemble import RandomForestRegressor\n",
    "from sklearn.model_selection import cross_val_score"
   ]
  },
  {
   "cell_type": "code",
   "execution_count": 22,
   "metadata": {},
   "outputs": [
    {
     "name": "stdout",
     "output_type": "stream",
     "text": [
      "Fitting 3 folds for each of 288 candidates, totalling 864 fits\n"
     ]
    },
    {
     "name": "stderr",
     "output_type": "stream",
     "text": [
      "[Parallel(n_jobs=-1)]: Using backend LokyBackend with 4 concurrent workers.\n",
      "[Parallel(n_jobs=-1)]: Done  33 tasks      | elapsed:   26.3s\n",
      "[Parallel(n_jobs=-1)]: Done 154 tasks      | elapsed:  1.5min\n",
      "[Parallel(n_jobs=-1)]: Done 357 tasks      | elapsed:  3.5min\n",
      "[Parallel(n_jobs=-1)]: Done 640 tasks      | elapsed:  6.1min\n",
      "[Parallel(n_jobs=-1)]: Done 864 out of 864 | elapsed:  8.3min finished\n"
     ]
    },
    {
     "data": {
      "text/plain": [
       "GridSearchCV(cv=3, error_score=nan,\n",
       "             estimator=RandomForestRegressor(bootstrap=True, ccp_alpha=0.0,\n",
       "                                             criterion='mse', max_depth=None,\n",
       "                                             max_features='auto',\n",
       "                                             max_leaf_nodes=None,\n",
       "                                             max_samples=None,\n",
       "                                             min_impurity_decrease=0.0,\n",
       "                                             min_impurity_split=None,\n",
       "                                             min_samples_leaf=1,\n",
       "                                             min_samples_split=2,\n",
       "                                             min_weight_fraction_leaf=0.0,\n",
       "                                             n_estimators=100, n_jobs=None,\n",
       "                                             oob_score=False, random_state=None,\n",
       "                                             verbose=0, warm_start=False),\n",
       "             iid='deprecated', n_jobs=-1,\n",
       "             param_grid={'bootstrap': [True], 'max_depth': [80, 90, 100, 110],\n",
       "                         'max_features': [2, 3], 'min_samples_leaf': [3, 4, 5],\n",
       "                         'min_samples_split': [8, 10, 12],\n",
       "                         'n_estimators': [100, 200, 300, 1000]},\n",
       "             pre_dispatch='2*n_jobs', refit=True, return_train_score=True,\n",
       "             scoring='r2', verbose=2)"
      ]
     },
     "execution_count": 22,
     "metadata": {},
     "output_type": "execute_result"
    }
   ],
   "source": [
    "param_grid = {\n",
    "    'bootstrap': [True],\n",
    "    'max_depth': [80, 90, 100, 110],\n",
    "    'max_features': [2, 3],\n",
    "    'min_samples_leaf': [3, 4, 5],\n",
    "    'min_samples_split': [8, 10, 12],\n",
    "    'n_estimators': [100, 200, 300, 1000]\n",
    "}\n",
    "\n",
    "rf = RandomForestRegressor()\n",
    "\n",
    "model_cv = GridSearchCV(estimator = rf, param_grid = param_grid, \n",
    "                        cv = 3, n_jobs = -1, verbose = 2,\n",
    "                        scoring='r2',\n",
    "                        return_train_score=True)\n",
    "\n",
    "model_cv.fit(x_train_f, y_train_f)"
   ]
  },
  {
   "cell_type": "code",
   "execution_count": 23,
   "metadata": {},
   "outputs": [
    {
     "data": {
      "text/plain": [
       "{'bootstrap': True,\n",
       " 'max_depth': 110,\n",
       " 'max_features': 3,\n",
       " 'min_samples_leaf': 3,\n",
       " 'min_samples_split': 8,\n",
       " 'n_estimators': 200}"
      ]
     },
     "execution_count": 23,
     "metadata": {},
     "output_type": "execute_result"
    }
   ],
   "source": [
    "model_cv.best_params_"
   ]
  },
  {
   "cell_type": "code",
   "execution_count": 25,
   "metadata": {},
   "outputs": [
    {
     "name": "stdout",
     "output_type": "stream",
     "text": [
      "R^2:  0.7643075142463444\n",
      "Mean MAE: 15.803 (3.111)\n",
      "Mean RMSE: 21.772\n"
     ]
    }
   ],
   "source": [
    "clf=RandomForestRegressor(bootstrap= True,\n",
    " max_depth=110,\n",
    " max_features=3,\n",
    " min_samples_leaf=3,\n",
    " min_samples_split=8,\n",
    " n_estimators=200)\n",
    "clf.fit(x_train_f, y_train_f)\n",
    "\n",
    "printScores(clf, x_test_f, y_test_f)"
   ]
  },
  {
   "cell_type": "code",
   "execution_count": 26,
   "metadata": {},
   "outputs": [
    {
     "data": {
      "text/plain": [
       "['RF_only_env.pkl']"
      ]
     },
     "execution_count": 26,
     "metadata": {},
     "output_type": "execute_result"
    }
   ],
   "source": [
    "joblib.dump(clf, 'RF_only_env.pkl')"
   ]
  }
 ],
 "metadata": {
  "kernelspec": {
   "display_name": "Python 3",
   "language": "python",
   "name": "python3"
  },
  "language_info": {
   "codemirror_mode": {
    "name": "ipython",
    "version": 3
   },
   "file_extension": ".py",
   "mimetype": "text/x-python",
   "name": "python",
   "nbconvert_exporter": "python",
   "pygments_lexer": "ipython3",
   "version": "3.7.6"
  }
 },
 "nbformat": 4,
 "nbformat_minor": 4
}
