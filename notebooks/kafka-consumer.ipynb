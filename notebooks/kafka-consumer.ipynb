{
 "cells": [
  {
   "cell_type": "markdown",
   "metadata": {},
   "source": [
    "# kafka consumer\n",
    "producer에서 생산하는 데이터를 polling하여 csv에 저장한다.<br/>\n",
    "같은 시간대에 여러 rows가 들어오면(여러 sample에 대한 각각의 값) 'sample' column을 부여하여 시간대가 중복되지 않도록 한다."
   ]
  },
  {
   "cell_type": "code",
   "execution_count": 41,
   "metadata": {},
   "outputs": [],
   "source": [
    "import csv\n",
    "import json\n",
    "import pandas as pd\n",
    "from sklearn.externals import joblib\n",
    "\n",
    "from kafka import KafkaConsumer\n",
    "from kafka.errors import KafkaError"
   ]
  },
  {
   "cell_type": "code",
   "execution_count": 2,
   "metadata": {},
   "outputs": [],
   "source": [
    "rf_model = joblib.load('RF.pkl')\n",
    "rf_only_env_model = joblib.load('RF_only_env.pkl')\n",
    "svr_model = joblib.load('SVR.pkl')"
   ]
  },
  {
   "cell_type": "code",
   "execution_count": 100,
   "metadata": {
    "scrolled": true
   },
   "outputs": [],
   "source": [
    "#env 데이터들 duplicate 처리하기\n",
    "pf = pd.read_csv('./data/seasonenv/PF_0006044.csv', index_col=0)\n",
    "pf=pf.drop_duplicates(ignore_index=True)#94000->93000\n",
    "pf.to_csv('./data/kafka/env/PF_0006044.csv')"
   ]
  },
  {
   "cell_type": "markdown",
   "metadata": {},
   "source": [
    "## 1. hour data → hour_data_from_kafka.csv"
   ]
  },
  {
   "cell_type": "code",
   "execution_count": 24,
   "metadata": {},
   "outputs": [],
   "source": [
    "fieldnames=['',\n",
    "            'fatrCode',\n",
    "            'facilityId',\n",
    "            'measDate',\n",
    "            'weeks',\n",
    "            'fldCode',\n",
    "            'sectCode',\n",
    "            'itemCode',\n",
    "            'senVal',\n",
    "            'ymd',\n",
    "            'cntCollect',\n",
    "            'num']\n",
    "predict_fieldnames=['weeks','fruitsNum', 'fruitsNumPredict', 'onlyEnv']\n",
    "\n",
    "predict_columns_env_list=['WS','EL','CI','TE','WD','HI','TL','IR','HL','TI','RP']\n",
    "predict_columns_cultivate_list=['growLength','flowerTop','stemDiameter','leavesWidth','leavesNum','flowerPosition','fruitsPosition']"
   ]
  },
  {
   "cell_type": "code",
   "execution_count": 48,
   "metadata": {},
   "outputs": [
    {
     "data": {
      "text/plain": [
       "'저장0.100000'"
      ]
     },
     "execution_count": 48,
     "metadata": {},
     "output_type": "execute_result"
    }
   ],
   "source": [
    "import timeit\n",
    "'저장%f'%(0.1)"
   ]
  },
  {
   "cell_type": "code",
   "execution_count": 56,
   "metadata": {
    "scrolled": true
   },
   "outputs": [
    {
     "ename": "KeyboardInterrupt",
     "evalue": "",
     "output_type": "error",
     "traceback": [
      "\u001b[1;31m---------------------------------------------------------------------------\u001b[0m",
      "\u001b[1;31mKeyboardInterrupt\u001b[0m                         Traceback (most recent call last)",
      "\u001b[1;32m<ipython-input-56-7dde42a64b74>\u001b[0m in \u001b[0;36m<module>\u001b[1;34m\u001b[0m\n\u001b[0;32m     35\u001b[0m     \u001b[1;31m#hour, week 파일 읽어오고\u001b[0m\u001b[1;33m\u001b[0m\u001b[1;33m\u001b[0m\u001b[1;33m\u001b[0m\u001b[0m\n\u001b[0;32m     36\u001b[0m     \u001b[0mend_time\u001b[0m \u001b[1;33m=\u001b[0m \u001b[0mtimeit\u001b[0m\u001b[1;33m.\u001b[0m\u001b[0mdefault_timer\u001b[0m\u001b[1;33m(\u001b[0m\u001b[1;33m)\u001b[0m\u001b[1;33m\u001b[0m\u001b[1;33m\u001b[0m\u001b[0m\n\u001b[1;32m---> 37\u001b[1;33m     \u001b[0mdf\u001b[0m \u001b[1;33m=\u001b[0m \u001b[0mpd\u001b[0m\u001b[1;33m.\u001b[0m\u001b[0mread_csv\u001b[0m\u001b[1;33m(\u001b[0m\u001b[1;34mr'C:\\Users\\youjeongsue\\Desktop\\project\\smartfarm-sw\\smartfarm-dashboard\\src\\shared\\data\\hour_data_from_kafka.csv'\u001b[0m\u001b[1;33m,\u001b[0m \u001b[0mindex_col\u001b[0m\u001b[1;33m=\u001b[0m\u001b[1;36m0\u001b[0m\u001b[1;33m)\u001b[0m\u001b[1;33m\u001b[0m\u001b[1;33m\u001b[0m\u001b[0m\n\u001b[0m\u001b[0;32m     38\u001b[0m     \u001b[0mdf_week\u001b[0m\u001b[1;33m=\u001b[0m\u001b[0mpd\u001b[0m\u001b[1;33m.\u001b[0m\u001b[0mread_csv\u001b[0m\u001b[1;33m(\u001b[0m\u001b[1;34m'./data/kafka/week/PF_0010019.csv'\u001b[0m\u001b[1;33m,\u001b[0m \u001b[0mindex_col\u001b[0m\u001b[1;33m=\u001b[0m\u001b[1;36m0\u001b[0m\u001b[1;33m)\u001b[0m\u001b[1;33m\u001b[0m\u001b[1;33m\u001b[0m\u001b[0m\n\u001b[0;32m     39\u001b[0m \u001b[1;33m\u001b[0m\u001b[0m\n",
      "\u001b[1;32mc:\\users\\youjeongsue\\appdata\\local\\programs\\python\\python37\\lib\\site-packages\\pandas\\io\\parsers.py\u001b[0m in \u001b[0;36mparser_f\u001b[1;34m(filepath_or_buffer, sep, delimiter, header, names, index_col, usecols, squeeze, prefix, mangle_dupe_cols, dtype, engine, converters, true_values, false_values, skipinitialspace, skiprows, skipfooter, nrows, na_values, keep_default_na, na_filter, verbose, skip_blank_lines, parse_dates, infer_datetime_format, keep_date_col, date_parser, dayfirst, cache_dates, iterator, chunksize, compression, thousands, decimal, lineterminator, quotechar, quoting, doublequote, escapechar, comment, encoding, dialect, error_bad_lines, warn_bad_lines, delim_whitespace, low_memory, memory_map, float_precision)\u001b[0m\n\u001b[0;32m    674\u001b[0m         )\n\u001b[0;32m    675\u001b[0m \u001b[1;33m\u001b[0m\u001b[0m\n\u001b[1;32m--> 676\u001b[1;33m         \u001b[1;32mreturn\u001b[0m \u001b[0m_read\u001b[0m\u001b[1;33m(\u001b[0m\u001b[0mfilepath_or_buffer\u001b[0m\u001b[1;33m,\u001b[0m \u001b[0mkwds\u001b[0m\u001b[1;33m)\u001b[0m\u001b[1;33m\u001b[0m\u001b[1;33m\u001b[0m\u001b[0m\n\u001b[0m\u001b[0;32m    677\u001b[0m \u001b[1;33m\u001b[0m\u001b[0m\n\u001b[0;32m    678\u001b[0m     \u001b[0mparser_f\u001b[0m\u001b[1;33m.\u001b[0m\u001b[0m__name__\u001b[0m \u001b[1;33m=\u001b[0m \u001b[0mname\u001b[0m\u001b[1;33m\u001b[0m\u001b[1;33m\u001b[0m\u001b[0m\n",
      "\u001b[1;32mc:\\users\\youjeongsue\\appdata\\local\\programs\\python\\python37\\lib\\site-packages\\pandas\\io\\parsers.py\u001b[0m in \u001b[0;36m_read\u001b[1;34m(filepath_or_buffer, kwds)\u001b[0m\n\u001b[0;32m    452\u001b[0m \u001b[1;33m\u001b[0m\u001b[0m\n\u001b[0;32m    453\u001b[0m     \u001b[1;32mtry\u001b[0m\u001b[1;33m:\u001b[0m\u001b[1;33m\u001b[0m\u001b[1;33m\u001b[0m\u001b[0m\n\u001b[1;32m--> 454\u001b[1;33m         \u001b[0mdata\u001b[0m \u001b[1;33m=\u001b[0m \u001b[0mparser\u001b[0m\u001b[1;33m.\u001b[0m\u001b[0mread\u001b[0m\u001b[1;33m(\u001b[0m\u001b[0mnrows\u001b[0m\u001b[1;33m)\u001b[0m\u001b[1;33m\u001b[0m\u001b[1;33m\u001b[0m\u001b[0m\n\u001b[0m\u001b[0;32m    455\u001b[0m     \u001b[1;32mfinally\u001b[0m\u001b[1;33m:\u001b[0m\u001b[1;33m\u001b[0m\u001b[1;33m\u001b[0m\u001b[0m\n\u001b[0;32m    456\u001b[0m         \u001b[0mparser\u001b[0m\u001b[1;33m.\u001b[0m\u001b[0mclose\u001b[0m\u001b[1;33m(\u001b[0m\u001b[1;33m)\u001b[0m\u001b[1;33m\u001b[0m\u001b[1;33m\u001b[0m\u001b[0m\n",
      "\u001b[1;32mc:\\users\\youjeongsue\\appdata\\local\\programs\\python\\python37\\lib\\site-packages\\pandas\\io\\parsers.py\u001b[0m in \u001b[0;36mread\u001b[1;34m(self, nrows)\u001b[0m\n\u001b[0;32m   1131\u001b[0m     \u001b[1;32mdef\u001b[0m \u001b[0mread\u001b[0m\u001b[1;33m(\u001b[0m\u001b[0mself\u001b[0m\u001b[1;33m,\u001b[0m \u001b[0mnrows\u001b[0m\u001b[1;33m=\u001b[0m\u001b[1;32mNone\u001b[0m\u001b[1;33m)\u001b[0m\u001b[1;33m:\u001b[0m\u001b[1;33m\u001b[0m\u001b[1;33m\u001b[0m\u001b[0m\n\u001b[0;32m   1132\u001b[0m         \u001b[0mnrows\u001b[0m \u001b[1;33m=\u001b[0m \u001b[0m_validate_integer\u001b[0m\u001b[1;33m(\u001b[0m\u001b[1;34m\"nrows\"\u001b[0m\u001b[1;33m,\u001b[0m \u001b[0mnrows\u001b[0m\u001b[1;33m)\u001b[0m\u001b[1;33m\u001b[0m\u001b[1;33m\u001b[0m\u001b[0m\n\u001b[1;32m-> 1133\u001b[1;33m         \u001b[0mret\u001b[0m \u001b[1;33m=\u001b[0m \u001b[0mself\u001b[0m\u001b[1;33m.\u001b[0m\u001b[0m_engine\u001b[0m\u001b[1;33m.\u001b[0m\u001b[0mread\u001b[0m\u001b[1;33m(\u001b[0m\u001b[0mnrows\u001b[0m\u001b[1;33m)\u001b[0m\u001b[1;33m\u001b[0m\u001b[1;33m\u001b[0m\u001b[0m\n\u001b[0m\u001b[0;32m   1134\u001b[0m \u001b[1;33m\u001b[0m\u001b[0m\n\u001b[0;32m   1135\u001b[0m         \u001b[1;31m# May alter columns / col_dict\u001b[0m\u001b[1;33m\u001b[0m\u001b[1;33m\u001b[0m\u001b[1;33m\u001b[0m\u001b[0m\n",
      "\u001b[1;32mc:\\users\\youjeongsue\\appdata\\local\\programs\\python\\python37\\lib\\site-packages\\pandas\\io\\parsers.py\u001b[0m in \u001b[0;36mread\u001b[1;34m(self, nrows)\u001b[0m\n\u001b[0;32m   2035\u001b[0m     \u001b[1;32mdef\u001b[0m \u001b[0mread\u001b[0m\u001b[1;33m(\u001b[0m\u001b[0mself\u001b[0m\u001b[1;33m,\u001b[0m \u001b[0mnrows\u001b[0m\u001b[1;33m=\u001b[0m\u001b[1;32mNone\u001b[0m\u001b[1;33m)\u001b[0m\u001b[1;33m:\u001b[0m\u001b[1;33m\u001b[0m\u001b[1;33m\u001b[0m\u001b[0m\n\u001b[0;32m   2036\u001b[0m         \u001b[1;32mtry\u001b[0m\u001b[1;33m:\u001b[0m\u001b[1;33m\u001b[0m\u001b[1;33m\u001b[0m\u001b[0m\n\u001b[1;32m-> 2037\u001b[1;33m             \u001b[0mdata\u001b[0m \u001b[1;33m=\u001b[0m \u001b[0mself\u001b[0m\u001b[1;33m.\u001b[0m\u001b[0m_reader\u001b[0m\u001b[1;33m.\u001b[0m\u001b[0mread\u001b[0m\u001b[1;33m(\u001b[0m\u001b[0mnrows\u001b[0m\u001b[1;33m)\u001b[0m\u001b[1;33m\u001b[0m\u001b[1;33m\u001b[0m\u001b[0m\n\u001b[0m\u001b[0;32m   2038\u001b[0m         \u001b[1;32mexcept\u001b[0m \u001b[0mStopIteration\u001b[0m\u001b[1;33m:\u001b[0m\u001b[1;33m\u001b[0m\u001b[1;33m\u001b[0m\u001b[0m\n\u001b[0;32m   2039\u001b[0m             \u001b[1;32mif\u001b[0m \u001b[0mself\u001b[0m\u001b[1;33m.\u001b[0m\u001b[0m_first_chunk\u001b[0m\u001b[1;33m:\u001b[0m\u001b[1;33m\u001b[0m\u001b[1;33m\u001b[0m\u001b[0m\n",
      "\u001b[1;32mpandas\\_libs\\parsers.pyx\u001b[0m in \u001b[0;36mpandas._libs.parsers.TextReader.read\u001b[1;34m()\u001b[0m\n",
      "\u001b[1;32mpandas\\_libs\\parsers.pyx\u001b[0m in \u001b[0;36mpandas._libs.parsers.TextReader._read_low_memory\u001b[1;34m()\u001b[0m\n",
      "\u001b[1;32mpandas\\_libs\\parsers.pyx\u001b[0m in \u001b[0;36mpandas._libs.parsers.TextReader._read_rows\u001b[1;34m()\u001b[0m\n",
      "\u001b[1;32mpandas\\_libs\\parsers.pyx\u001b[0m in \u001b[0;36mpandas._libs.parsers.TextReader._convert_column_data\u001b[1;34m()\u001b[0m\n",
      "\u001b[1;32mpandas\\_libs\\parsers.pyx\u001b[0m in \u001b[0;36mpandas._libs.parsers.TextReader._convert_tokens\u001b[1;34m()\u001b[0m\n",
      "\u001b[1;32mpandas\\_libs\\parsers.pyx\u001b[0m in \u001b[0;36mpandas._libs.parsers.TextReader._convert_with_dtype\u001b[1;34m()\u001b[0m\n",
      "\u001b[1;32mc:\\users\\youjeongsue\\appdata\\local\\programs\\python\\python37\\lib\\site-packages\\pandas\\core\\dtypes\\common.py\u001b[0m in \u001b[0;36mis_categorical_dtype\u001b[1;34m(arr_or_dtype)\u001b[0m\n\u001b[0;32m    540\u001b[0m \u001b[1;33m\u001b[0m\u001b[0m\n\u001b[0;32m    541\u001b[0m \u001b[1;33m\u001b[0m\u001b[0m\n\u001b[1;32m--> 542\u001b[1;33m \u001b[1;32mdef\u001b[0m \u001b[0mis_categorical_dtype\u001b[0m\u001b[1;33m(\u001b[0m\u001b[0marr_or_dtype\u001b[0m\u001b[1;33m)\u001b[0m \u001b[1;33m->\u001b[0m \u001b[0mbool\u001b[0m\u001b[1;33m:\u001b[0m\u001b[1;33m\u001b[0m\u001b[1;33m\u001b[0m\u001b[0m\n\u001b[0m\u001b[0;32m    543\u001b[0m     \"\"\"\n\u001b[0;32m    544\u001b[0m     \u001b[0mCheck\u001b[0m \u001b[0mwhether\u001b[0m \u001b[0man\u001b[0m \u001b[0marray\u001b[0m\u001b[1;33m-\u001b[0m\u001b[0mlike\u001b[0m \u001b[1;32mor\u001b[0m \u001b[0mdtype\u001b[0m \u001b[1;32mis\u001b[0m \u001b[0mof\u001b[0m \u001b[0mthe\u001b[0m \u001b[0mCategorical\u001b[0m \u001b[0mdtype\u001b[0m\u001b[1;33m.\u001b[0m\u001b[1;33m\u001b[0m\u001b[1;33m\u001b[0m\u001b[0m\n",
      "\u001b[1;31mKeyboardInterrupt\u001b[0m: "
     ]
    }
   ],
   "source": [
    "consumer = KafkaConsumer('hour', bootstrap_servers=['54.241.76.179:9092'])\n",
    "weeks_for_checking = ['',0]\n",
    "# is_header=1\n",
    "\n",
    "for msg in consumer:\n",
    "    start_time = timeit.default_timer()\n",
    "    #----------hour data 저장 시작----------\n",
    "    my_json = msg.value.decode('utf8').replace(\"'\", '\"')\n",
    "    data = json.loads(my_json)\n",
    "    \n",
    "    del data['totalRows']\n",
    "    del data['totalPage']\n",
    "    del data['currentPage']\n",
    "    \n",
    "#     print(data['facilityId'], data['measDate'], data['weeks']) #poll 확인용\n",
    "    \n",
    "    if(is_header):\n",
    "        csvfile = open(r'C:\\Users\\youjeongsue\\Desktop\\project\\smartfarm-sw\\smartfarm-dashboard\\src\\shared\\data\\hour_data_from_kafka.csv',\n",
    "                       'w', newline='')\n",
    "        writer = csv.DictWriter(csvfile, fieldnames=fieldnames)\n",
    "        writer.writeheader()\n",
    "        writer.writerow(data) #여기 어딘가에서 한줄 손실?\n",
    "    else:\n",
    "        csvfile = open(r'C:\\Users\\youjeongsue\\Desktop\\project\\smartfarm-sw\\smartfarm-dashboard\\src\\shared\\data\\hour_data_from_kafka.csv',\n",
    "                       'a', newline='')\n",
    "        writer = csv.DictWriter(csvfile, fieldnames=fieldnames)\n",
    "        writer.writerow(data)\n",
    "    csvfile.close()\n",
    "    end_time = timeit.default_timer()\n",
    "#     print('저장: %f'%(end_time-start_time))\n",
    "    #----------hour data 저장 끝----------\n",
    "    \n",
    "    \n",
    "    #----------predict data 저장 시작----------\n",
    "    #hour, week 파일 읽어오고\n",
    "    end_time = timeit.default_timer()\n",
    "    df = pd.read_csv(r'C:\\Users\\youjeongsue\\Desktop\\project\\smartfarm-sw\\smartfarm-dashboard\\src\\shared\\data\\hour_data_from_kafka.csv', index_col=0)\n",
    "    df_week=pd.read_csv('./data/kafka/week/PF_0010019.csv', index_col=0)\n",
    "\n",
    "    #업데이트 된 hour data로 평균 다시내고\n",
    "    new_df=df[['weeks', 'fatrCode', 'senVal']].groupby(['weeks', 'fatrCode']).mean().reset_index()\n",
    "\n",
    "    #아래는 예측값 추가하는 부분\n",
    "    weeks=list(new_df['weeks'])[-1]\n",
    "    if weeks!=weeks_for_checking[0]: #디버깅용;\n",
    "        weeks_for_checking[0]==weeks\n",
    "        weeks_for_checking[1]=0\n",
    "    else:\n",
    "        weeks_for_checking[1]=1\n",
    "        \n",
    "    target_df=new_df[new_df['weeks']==weeks]\n",
    "\n",
    "    predict_result=0 #모델 결과\n",
    "    only_env=0 #생장정보가 없는지 여부 -> 다른 모델 사용\n",
    "    predict_columns_list=[] #모델에 사용할 columns, 순서에 맞춰서 append 해준다.\n",
    "    #현재 주차의 환경변수 평균값\n",
    "    predict_columns_dict=target_df[['fatrCode','senVal']].set_index('fatrCode').to_dict()['senVal']\n",
    "\n",
    "    #예측값 계산(생육정보가 없는경우/있는경우)->모델에 필요한 column에 맞춰 가공\n",
    "    if weeks not in list(df_week['weeks']):\n",
    "        only_env=1\n",
    "        for code in predict_columns_env_list:\n",
    "            try:\n",
    "                predict_columns_list.append(predict_columns_dict[code])\n",
    "            except:\n",
    "                predict_columns_list.append(0) #가끔 센서값이 안들어오는 경우가 있음. 일단 그냥 0처리,,\n",
    "\n",
    "        predict_result=rf_only_env_model.predict([predict_columns_list])[0]\n",
    "    else:\n",
    "#         if weeks_for_checking[1]==0:\n",
    "#             print(weeks) #디버깅용;\n",
    "            \n",
    "        for code in predict_columns_env_list:\n",
    "            try:\n",
    "                predict_columns_list.append(predict_columns_dict[code])\n",
    "            except:\n",
    "                predict_columns_list.append(0)\n",
    "\n",
    "        df_with_weeks=df_week[df_week['weeks']==weeks]\n",
    "        for code in predict_columns_cultivate_list:\n",
    "            try:\n",
    "                if(math.isnan(list(df_with_weeks[code])[0])):\n",
    "                    predict_columns_list.append(0)\n",
    "                else:\n",
    "                    predict_columns_list.append(list(df_with_weeks[code])[0])\n",
    "            except:\n",
    "                predict_columns_list.append(0)\n",
    "\n",
    "        try:\n",
    "            predict_result=rf_model.predict([predict_columns_list])[0]\n",
    "        except:\n",
    "            pass #Input contains NaN, infinity or a value too large for dtype('float32'). -> None 처리 했는데 에러나는 이유는..?\n",
    "\n",
    "    #예측값이 없는 경우(len==0) 새로 추가, 있으면 수정\n",
    "    #다 새로추가하고 fastapi 단에서 drop_duplicat(last)해서 주자..\n",
    "    #header만 위에처럼 처리\n",
    "    \n",
    "    #실제 기록된 생산량이 있으면 data에 입력하고, 없으면 None\n",
    "    fruitsNum=0\n",
    "    if(len(df_week[df_week['weeks']==weeks])!=0):\n",
    "        fruitsNum=list(df_week.loc[df_week['weeks']==weeks, 'fruitsNum'])[0]\n",
    "    else:\n",
    "        fruitsNum=None\n",
    "        \n",
    "    data={'weeks': weeks, 'fruitsNum': fruitsNum,'fruitsNumPredict': predict_result, 'onlyEnv': only_env}\n",
    "    if(is_header):\n",
    "        csvfile = open(r'C:\\Users\\youjeongsue\\Desktop\\project\\smartfarm-sw\\smartfarm-dashboard\\src\\shared\\data\\predict_data_from_kafka.csv',\n",
    "                       'w', newline='')\n",
    "        writer = csv.DictWriter(csvfile, fieldnames=predict_fieldnames)\n",
    "        writer.writeheader()\n",
    "        writer.writerow(data)\n",
    "    else:\n",
    "        csvfile = open(r'C:\\Users\\youjeongsue\\Desktop\\project\\smartfarm-sw\\smartfarm-dashboard\\src\\shared\\data\\predict_data_from_kafka.csv',\n",
    "                       'a', newline='')\n",
    "        writer = csv.DictWriter(csvfile, fieldnames=predict_fieldnames)\n",
    "        writer.writerow(data)\n",
    "    csvfile.close()\n",
    "    #----------predict data 저장 끝----------\n",
    "    end_time = timeit.default_timer()\n",
    "#     print('예측 처리: %f'%(end_time-start_time))\n",
    "    \n",
    "    #header 초기화\n",
    "    is_header=0\n",
    "    "
   ]
  },
  {
   "cell_type": "code",
   "execution_count": 55,
   "metadata": {},
   "outputs": [
    {
     "data": {
      "text/plain": [
       "30.652623337446872"
      ]
     },
     "execution_count": 55,
     "metadata": {},
     "output_type": "execute_result"
    }
   ],
   "source": [
    "rf_model.predict([predict_columns_list])[0]"
   ]
  },
  {
   "cell_type": "markdown",
   "metadata": {},
   "source": [
    "## 2. week data → week_data_from_kafka.csv"
   ]
  },
  {
   "cell_type": "code",
   "execution_count": 23,
   "metadata": {},
   "outputs": [],
   "source": [
    "fieldnames=['userId','measDate','weeks','sample','WS','EL','CI','TE','WD','HI','TL','IR','HL','TI','RP',\n",
    "            'index','growLength','flowerTop','stemDiameter','leavesLength',\n",
    "            'leavesWidth','leavesNum','flowerPosition','fruitsPosition',\n",
    "            'fruitsNum','fruitsNum_predict','leavesLength_predict']"
   ]
  },
  {
   "cell_type": "code",
   "execution_count": 24,
   "metadata": {
    "scrolled": true
   },
   "outputs": [
    {
     "ename": "KeyError",
     "evalue": "'userId'",
     "output_type": "error",
     "traceback": [
      "\u001b[1;31m---------------------------------------------------------------------------\u001b[0m",
      "\u001b[1;31mKeyError\u001b[0m                                  Traceback (most recent call last)",
      "\u001b[1;32m<ipython-input-24-8e0f28b7e244>\u001b[0m in \u001b[0;36m<module>\u001b[1;34m\u001b[0m\n\u001b[0;32m     11\u001b[0m \u001b[1;33m\u001b[0m\u001b[0m\n\u001b[0;32m     12\u001b[0m     \u001b[1;31m#start to sample 전처리\u001b[0m\u001b[1;33m\u001b[0m\u001b[1;33m\u001b[0m\u001b[1;33m\u001b[0m\u001b[0m\n\u001b[1;32m---> 13\u001b[1;33m     \u001b[1;32mif\u001b[0m\u001b[1;33m(\u001b[0m\u001b[1;33m(\u001b[0m\u001b[0muser\u001b[0m\u001b[1;33m,\u001b[0m \u001b[0mmeasDate\u001b[0m\u001b[1;33m)\u001b[0m \u001b[1;33m!=\u001b[0m \u001b[1;33m(\u001b[0m\u001b[0mdata\u001b[0m\u001b[1;33m[\u001b[0m\u001b[1;34m'userId'\u001b[0m\u001b[1;33m]\u001b[0m\u001b[1;33m,\u001b[0m \u001b[0mdata\u001b[0m\u001b[1;33m[\u001b[0m\u001b[1;34m'measDate'\u001b[0m\u001b[1;33m]\u001b[0m\u001b[1;33m)\u001b[0m\u001b[1;33m)\u001b[0m\u001b[1;33m:\u001b[0m\u001b[1;33m\u001b[0m\u001b[1;33m\u001b[0m\u001b[0m\n\u001b[0m\u001b[0;32m     14\u001b[0m         \u001b[0muser\u001b[0m\u001b[1;33m,\u001b[0m \u001b[0mmeasDate\u001b[0m \u001b[1;33m=\u001b[0m \u001b[0mdata\u001b[0m\u001b[1;33m[\u001b[0m\u001b[1;34m'userId'\u001b[0m\u001b[1;33m]\u001b[0m\u001b[1;33m,\u001b[0m \u001b[0mdata\u001b[0m\u001b[1;33m[\u001b[0m\u001b[1;34m'measDate'\u001b[0m\u001b[1;33m]\u001b[0m\u001b[1;33m\u001b[0m\u001b[1;33m\u001b[0m\u001b[0m\n\u001b[0;32m     15\u001b[0m         \u001b[0msample\u001b[0m\u001b[1;33m=\u001b[0m\u001b[1;36m1\u001b[0m\u001b[1;33m\u001b[0m\u001b[1;33m\u001b[0m\u001b[0m\n",
      "\u001b[1;31mKeyError\u001b[0m: 'userId'"
     ]
    }
   ],
   "source": [
    "consumer = KafkaConsumer('week', bootstrap_servers=['54.241.76.179:9092'])\n",
    "\n",
    "is_header=1\n",
    "user, measDate = None, None\n",
    "sample=1\n",
    "\n",
    "for msg in consumer:\n",
    "    my_json = msg.value.decode('utf8').replace(\"'\", '\"')\n",
    "    data = json.loads(my_json)\n",
    "    del data['']\n",
    "    \n",
    "    #start to sample 전처리\n",
    "    if((user, measDate) != (data['userId'], data['measDate'])):\n",
    "        user, measDate = data['userId'], data['measDate']\n",
    "        sample=1\n",
    "        data['sample']=sample\n",
    "    else:\n",
    "        sample+=1\n",
    "        data['sample']=sample\n",
    "    \n",
    "    print(data['userId'], data['measDate'], data['sample']) #poll 확인용\n",
    "    #end to sample 전처리\n",
    "    \n",
    "    if(is_header):\n",
    "        csvfile = open(r'C:\\Users\\youjeongsue\\Desktop\\project\\smartfarm-sw\\smartfarm-dashboard\\src\\shared\\data\\week_data_from_kafka.csv',\n",
    "                       'w', newline='')\n",
    "        writer = csv.DictWriter(csvfile, fieldnames=fieldnames)\n",
    "        writer.writeheader()\n",
    "        writer.writerow(data)\n",
    "        is_header=0\n",
    "    else:\n",
    "        csvfile = open(r'C:\\Users\\youjeongsue\\Desktop\\project\\smartfarm-sw\\smartfarm-dashboard\\src\\shared\\data\\week_data_from_kafka.csv',\n",
    "                       'a', newline='')\n",
    "        writer = csv.DictWriter(csvfile, fieldnames=fieldnames)\n",
    "        writer.writerow(data)"
   ]
  }
 ],
 "metadata": {
  "kernelspec": {
   "display_name": "Python 3",
   "language": "python",
   "name": "python3"
  },
  "language_info": {
   "codemirror_mode": {
    "name": "ipython",
    "version": 3
   },
   "file_extension": ".py",
   "mimetype": "text/x-python",
   "name": "python",
   "nbconvert_exporter": "python",
   "pygments_lexer": "ipython3",
   "version": "3.7.6"
  }
 },
 "nbformat": 4,
 "nbformat_minor": 4
}
